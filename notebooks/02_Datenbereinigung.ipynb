{
  "cells": [
    {
      "cell_type": "markdown",
      "id": "1a364235",
      "metadata": {},
      "source": [
        "# Imports"
      ]
    },
    {
      "cell_type": "code",
      "execution_count": 1,
      "id": "e070092d",
      "metadata": {},
      "outputs": [],
      "source": [
        "import pandas as pd\n",
        "import numpy as np\n",
        "import matplotlib.pyplot as plt\n",
        "import seaborn as sns\n",
        "import re"
      ]
    },
    {
      "cell_type": "code",
      "execution_count": 2,
      "id": "fd6c7e3f",
      "metadata": {},
      "outputs": [
        {
          "name": "stderr",
          "output_type": "stream",
          "text": [
            "/var/folders/0c/r0htcd1j05v_lb53s4xtzbn80000gn/T/ipykernel_39718/3018219347.py:1: DtypeWarning: Columns (26) have mixed types. Specify dtype option on import or set low_memory=False.\n",
            "  train_df = pd.read_csv(\"../data/train.csv\")\n"
          ]
        }
      ],
      "source": [
        "train_df = pd.read_csv(\"../data/train.csv\")\n",
        "test_df = pd.read_csv(\"../data/test.csv\")"
      ]
    },
    {
      "cell_type": "markdown",
      "id": "00124913",
      "metadata": {},
      "source": [
        "# 1️⃣ Datenbereinigung - train"
      ]
    },
    {
      "cell_type": "code",
      "execution_count": 3,
      "id": "8e9fdac2",
      "metadata": {},
      "outputs": [
        {
          "name": "stdout",
          "output_type": "stream",
          "text": [
            "<class 'pandas.core.frame.DataFrame'>\n",
            "RangeIndex: 100000 entries, 0 to 99999\n",
            "Data columns (total 28 columns):\n",
            " #   Column                    Non-Null Count   Dtype  \n",
            "---  ------                    --------------   -----  \n",
            " 0   ID                        100000 non-null  object \n",
            " 1   Customer_ID               100000 non-null  object \n",
            " 2   Month                     100000 non-null  object \n",
            " 3   Name                      90015 non-null   object \n",
            " 4   Age                       100000 non-null  object \n",
            " 5   SSN                       100000 non-null  object \n",
            " 6   Occupation                100000 non-null  object \n",
            " 7   Annual_Income             100000 non-null  object \n",
            " 8   Monthly_Inhand_Salary     84998 non-null   float64\n",
            " 9   Num_Bank_Accounts         100000 non-null  int64  \n",
            " 10  Num_Credit_Card           100000 non-null  int64  \n",
            " 11  Interest_Rate             100000 non-null  int64  \n",
            " 12  Num_of_Loan               100000 non-null  object \n",
            " 13  Type_of_Loan              88592 non-null   object \n",
            " 14  Delay_from_due_date       100000 non-null  int64  \n",
            " 15  Num_of_Delayed_Payment    92998 non-null   object \n",
            " 16  Changed_Credit_Limit      100000 non-null  object \n",
            " 17  Num_Credit_Inquiries      98035 non-null   float64\n",
            " 18  Credit_Mix                100000 non-null  object \n",
            " 19  Outstanding_Debt          100000 non-null  object \n",
            " 20  Credit_Utilization_Ratio  100000 non-null  float64\n",
            " 21  Credit_History_Age        90970 non-null   object \n",
            " 22  Payment_of_Min_Amount     100000 non-null  object \n",
            " 23  Total_EMI_per_month       100000 non-null  float64\n",
            " 24  Amount_invested_monthly   95521 non-null   object \n",
            " 25  Payment_Behaviour         100000 non-null  object \n",
            " 26  Monthly_Balance           98800 non-null   object \n",
            " 27  Credit_Score              100000 non-null  object \n",
            "dtypes: float64(4), int64(4), object(20)\n",
            "memory usage: 21.4+ MB\n"
          ]
        }
      ],
      "source": [
        "train_df.info()"
      ]
    },
    {
      "cell_type": "markdown",
      "id": "14a3c74f",
      "metadata": {},
      "source": [
        "## Identifikatoren - ID, Customer_ID, Name, SSN\n",
        "- Entfernt überflüssige Leerzeichen in den ID-Spalten\n",
        "- Vereinheitlicht Namen und setzt fehlende Werte auf Unknown\n",
        "- Maskiert ungültige SSN-Einträge"
      ]
    },
    {
      "cell_type": "code",
      "execution_count": 4,
      "id": "5c45f4e8",
      "metadata": {},
      "outputs": [],
      "source": [
        "train_df['ID'] = train_df['ID'].astype(str).str.strip()\n",
        "train_df['Customer_ID'] = train_df['Customer_ID'].astype(str).str.strip()"
      ]
    },
    {
      "cell_type": "code",
      "execution_count": 5,
      "id": "12246a4d",
      "metadata": {},
      "outputs": [],
      "source": [
        "train_df['Name'] = (\n",
        "    train_df['Name']\n",
        "    .fillna('Unknown')\n",
        "    .astype(str)\n",
        "    .str.strip()\n",
        "    .str.replace(r\"\\s+\", \" \", regex=True)\n",
        "    .str.title()\n",
        ")"
      ]
    },
    {
      "cell_type": "code",
      "execution_count": 6,
      "id": "1507cd1a",
      "metadata": {},
      "outputs": [],
      "source": [
        "pattern = re.compile(r'^\\d{3}-\\d{2}-\\d{4}$')\n",
        "\n",
        "train_df['SSN'] = (\n",
        "    train_df['SSN']\n",
        "    .astype(str)\n",
        "    .str.strip()\n",
        "    .where(lambda s: s.apply(lambda x: bool(pattern.match(x)) if isinstance(x, str) else False), other=pd.NA)\n",
        ")"
      ]
    },
    {
      "cell_type": "code",
      "execution_count": 7,
      "id": "a6fed013",
      "metadata": {},
      "outputs": [
        {
          "data": {
            "application/vnd.microsoft.datawrangler.viewer.v0+json": {
              "columns": [
                {
                  "name": "index",
                  "rawType": "int64",
                  "type": "integer"
                },
                {
                  "name": "ID",
                  "rawType": "object",
                  "type": "string"
                },
                {
                  "name": "Customer_ID",
                  "rawType": "object",
                  "type": "string"
                },
                {
                  "name": "Name",
                  "rawType": "object",
                  "type": "string"
                },
                {
                  "name": "SSN",
                  "rawType": "object",
                  "type": "string"
                }
              ],
              "ref": "26855660-9353-4484-99c3-8904ac057bbc",
              "rows": [
                [
                  "0",
                  "0x1602",
                  "CUS_0xd40",
                  "Aaron Maashoh",
                  "821-00-0265"
                ],
                [
                  "1",
                  "0x1603",
                  "CUS_0xd40",
                  "Aaron Maashoh",
                  "821-00-0265"
                ],
                [
                  "2",
                  "0x1604",
                  "CUS_0xd40",
                  "Aaron Maashoh",
                  "821-00-0265"
                ],
                [
                  "3",
                  "0x1605",
                  "CUS_0xd40",
                  "Aaron Maashoh",
                  "821-00-0265"
                ],
                [
                  "4",
                  "0x1606",
                  "CUS_0xd40",
                  "Aaron Maashoh",
                  "821-00-0265"
                ]
              ],
              "shape": {
                "columns": 4,
                "rows": 5
              }
            },
            "text/html": [
              "<div>\n",
              "<style scoped>\n",
              "    .dataframe tbody tr th:only-of-type {\n",
              "        vertical-align: middle;\n",
              "    }\n",
              "\n",
              "    .dataframe tbody tr th {\n",
              "        vertical-align: top;\n",
              "    }\n",
              "\n",
              "    .dataframe thead th {\n",
              "        text-align: right;\n",
              "    }\n",
              "</style>\n",
              "<table border=\"1\" class=\"dataframe\">\n",
              "  <thead>\n",
              "    <tr style=\"text-align: right;\">\n",
              "      <th></th>\n",
              "      <th>ID</th>\n",
              "      <th>Customer_ID</th>\n",
              "      <th>Name</th>\n",
              "      <th>SSN</th>\n",
              "    </tr>\n",
              "  </thead>\n",
              "  <tbody>\n",
              "    <tr>\n",
              "      <th>0</th>\n",
              "      <td>0x1602</td>\n",
              "      <td>CUS_0xd40</td>\n",
              "      <td>Aaron Maashoh</td>\n",
              "      <td>821-00-0265</td>\n",
              "    </tr>\n",
              "    <tr>\n",
              "      <th>1</th>\n",
              "      <td>0x1603</td>\n",
              "      <td>CUS_0xd40</td>\n",
              "      <td>Aaron Maashoh</td>\n",
              "      <td>821-00-0265</td>\n",
              "    </tr>\n",
              "    <tr>\n",
              "      <th>2</th>\n",
              "      <td>0x1604</td>\n",
              "      <td>CUS_0xd40</td>\n",
              "      <td>Aaron Maashoh</td>\n",
              "      <td>821-00-0265</td>\n",
              "    </tr>\n",
              "    <tr>\n",
              "      <th>3</th>\n",
              "      <td>0x1605</td>\n",
              "      <td>CUS_0xd40</td>\n",
              "      <td>Aaron Maashoh</td>\n",
              "      <td>821-00-0265</td>\n",
              "    </tr>\n",
              "    <tr>\n",
              "      <th>4</th>\n",
              "      <td>0x1606</td>\n",
              "      <td>CUS_0xd40</td>\n",
              "      <td>Aaron Maashoh</td>\n",
              "      <td>821-00-0265</td>\n",
              "    </tr>\n",
              "  </tbody>\n",
              "</table>\n",
              "</div>"
            ],
            "text/plain": [
              "       ID Customer_ID           Name          SSN\n",
              "0  0x1602   CUS_0xd40  Aaron Maashoh  821-00-0265\n",
              "1  0x1603   CUS_0xd40  Aaron Maashoh  821-00-0265\n",
              "2  0x1604   CUS_0xd40  Aaron Maashoh  821-00-0265\n",
              "3  0x1605   CUS_0xd40  Aaron Maashoh  821-00-0265\n",
              "4  0x1606   CUS_0xd40  Aaron Maashoh  821-00-0265"
            ]
          },
          "execution_count": 7,
          "metadata": {},
          "output_type": "execute_result"
        }
      ],
      "source": [
        "train_df[['ID', 'Customer_ID', 'Name', 'SSN']].head()"
      ]
    },
    {
      "cell_type": "markdown",
      "id": "455f3b0c",
      "metadata": {},
      "source": [
        "## Month - Represents the month of the year\n",
        "\n",
        "- Zu welchen Monat die Daten zu der ID gehören\n",
        "- Eine ID (Kunde) enthählt 3 Einträge zu seinem Konto und hat somit 3 Monate (Bsp. Mai bis Juli)"
      ]
    },
    {
      "cell_type": "code",
      "execution_count": 8,
      "id": "356ed5d9",
      "metadata": {},
      "outputs": [
        {
          "data": {
            "text/plain": [
              "0"
            ]
          },
          "execution_count": 8,
          "metadata": {},
          "output_type": "execute_result"
        }
      ],
      "source": [
        "train_df[\"Month\"].isna().sum()"
      ]
    },
    {
      "cell_type": "code",
      "execution_count": 9,
      "id": "e7064e61",
      "metadata": {},
      "outputs": [],
      "source": [
        "train_df['Month'] = (\n",
        "    train_df['Month']\n",
        "    .astype(str)\n",
        "    .str.strip()\n",
        "    .str.title()\n",
        ")"
      ]
    },
    {
      "cell_type": "code",
      "execution_count": 10,
      "id": "261bca9c",
      "metadata": {},
      "outputs": [
        {
          "data": {
            "image/png": "[encoded data removed]",
            "text/plain": [
              "<Figure size 640x480 with 1 Axes>"
            ]
          },
          "metadata": {},
          "output_type": "display_data"
        }
      ],
      "source": [
        "month_counts = train_df['Month'].value_counts().sort_index()\n",
        "ax = sns.barplot(\n",
        "    x=month_counts.index.astype(str),\n",
        "    y=month_counts.values\n",
        ")\n",
        "\n",
        "for container in ax.containers:\n",
        "    ax.bar_label(container, fmt='%d', label_type='edge', padding=3)\n",
        "\n",
        "plt.title('Barplot des Monats')\n",
        "plt.xlabel('Monat')\n",
        "plt.ylabel('Anzahl')\n",
        "plt.show()\n"
      ]
    },
    {
      "cell_type": "markdown",
      "id": "cda8fcca",
      "metadata": {},
      "source": [
        "- man hat nur Daten von Januar bis August\n",
        "- was ist mit Septemeber bis Dezember?"
      ]
    },
    {
      "cell_type": "markdown",
      "id": "d1ffc4c3",
      "metadata": {},
      "source": [
        "## Age - Represents the age of the person"
      ]
    },
    {
      "cell_type": "code",
      "execution_count": 11,
      "id": "a48a64b3",
      "metadata": {},
      "outputs": [
        {
          "data": {
            "text/plain": [
              "0"
            ]
          },
          "execution_count": 11,
          "metadata": {},
          "output_type": "execute_result"
        }
      ],
      "source": [
        "train_df[\"Age\"].isna().sum()"
      ]
    },
    {
      "cell_type": "code",
      "execution_count": 12,
      "id": "a7b87d52",
      "metadata": {},
      "outputs": [],
      "source": [
        "train_df['Age'] = (\n",
        "    train_df['Age']\n",
        "    .astype(str)\n",
        "    .str.replace('_', '', regex=False)\n",
        ")"
      ]
    },
    {
      "cell_type": "code",
      "execution_count": 13,
      "id": "3e3ba4be",
      "metadata": {},
      "outputs": [],
      "source": [
        "train_df['Age'] = pd.to_numeric(train_df['Age'], errors='coerce').abs()"
      ]
    },
    {
      "cell_type": "code",
      "execution_count": 14,
      "id": "db6ac772",
      "metadata": {},
      "outputs": [],
      "source": [
        "mask = train_df['Age'] >= 100\n",
        "train_df.loc[mask, 'Age'] = (\n",
        "    train_df.loc[mask, 'Age'].astype(str).str[:2].astype(float)\n",
        ")\n",
        "\n",
        "mask = train_df['Age'] >= 100\n",
        "train_df.loc[mask, 'Age'] = (\n",
        "    train_df.loc[mask, 'Age'].astype(str).str[:1].astype(float)\n",
        ")"
      ]
    },
    {
      "cell_type": "code",
      "execution_count": 15,
      "id": "82f60486",
      "metadata": {},
      "outputs": [],
      "source": [
        "train_df['Age'] = (\n",
        "    train_df['Age']\n",
        "    .clip(lower=18, upper=90)\n",
        "    .fillna(train_df['Age'].median())\n",
        "    .round()\n",
        "    .astype('Int64')\n",
        ")"
      ]
    },
    {
      "cell_type": "code",
      "execution_count": 16,
      "id": "52242b9d",
      "metadata": {},
      "outputs": [
        {
          "data": {
            "application/vnd.microsoft.datawrangler.viewer.v0+json": {
              "columns": [
                {
                  "name": "index",
                  "rawType": "object",
                  "type": "string"
                },
                {
                  "name": "Age",
                  "rawType": "Float64",
                  "type": "float"
                }
              ],
              "ref": "5800f042-4beb-44cb-89b2-85f17ef1e8e6",
              "rows": [
                [
                  "count",
                  "100000.0"
                ],
                [
                  "mean",
                  "33.90617"
                ],
                [
                  "std",
                  "11.147451214864583"
                ],
                [
                  "min",
                  "18.0"
                ],
                [
                  "25%",
                  "25.0"
                ],
                [
                  "50%",
                  "33.0"
                ],
                [
                  "75%",
                  "42.0"
                ],
                [
                  "max",
                  "90.0"
                ]
              ],
              "shape": {
                "columns": 1,
                "rows": 8
              }
            },
            "text/plain": [
              "count     100000.0\n",
              "mean      33.90617\n",
              "std      11.147451\n",
              "min           18.0\n",
              "25%           25.0\n",
              "50%           33.0\n",
              "75%           42.0\n",
              "max           90.0\n",
              "Name: Age, dtype: Float64"
            ]
          },
          "execution_count": 16,
          "metadata": {},
          "output_type": "execute_result"
        }
      ],
      "source": [
        "train_df['Age'].describe()"
      ]
    },
    {
      "cell_type": "code",
      "execution_count": 17,
      "id": "dbc47166",
      "metadata": {},
      "outputs": [
        {
          "data": {
            "image/png": "[encoded data removed]",
            "text/plain": [
              "<Figure size 640x480 with 1 Axes>"
            ]
          },
          "metadata": {},
          "output_type": "display_data"
        }
      ],
      "source": [
        "sns.boxplot(data=train_df, x=\"Age\")\n",
        "plt.title(\"Boxplot des Alters\")\n",
        "plt.xlabel(\"Alter\")\n",
        "plt.show()"
      ]
    },
    {
      "cell_type": "markdown",
      "id": "351e373c",
      "metadata": {},
      "source": [
        "## Occupation - Represents the Occupation of the person (Beruf)"
      ]
    },
    {
      "cell_type": "code",
      "execution_count": 18,
      "id": "49d43b56",
      "metadata": {},
      "outputs": [
        {
          "data": {
            "text/plain": [
              "0"
            ]
          },
          "execution_count": 18,
          "metadata": {},
          "output_type": "execute_result"
        }
      ],
      "source": [
        "train_df[\"Occupation\"].isna().sum()"
      ]
    },
    {
      "cell_type": "code",
      "execution_count": 19,
      "id": "73ae9404",
      "metadata": {},
      "outputs": [],
      "source": [
        "train_df['Occupation'] = (\n",
        "    train_df['Occupation']\n",
        "    .astype(str)\n",
        "    .replace('_______', 'Unknown')\n",
        "    .str.replace('_', ' ', regex=False)\n",
        "    .str.replace(r'\\s+', ' ', regex=True)\n",
        "    .str.strip()\n",
        "    .str.title()\n",
        ")"
      ]
    },
    {
      "cell_type": "code",
      "execution_count": 20,
      "id": "9d49fbbd",
      "metadata": {},
      "outputs": [
        {
          "data": {
            "application/vnd.microsoft.datawrangler.viewer.v0+json": {
              "columns": [
                {
                  "name": "Occupation",
                  "rawType": "object",
                  "type": "string"
                },
                {
                  "name": "count",
                  "rawType": "int64",
                  "type": "integer"
                }
              ],
              "ref": "0d3c4bec-e81c-4324-bedd-73a18d8c4649",
              "rows": [
                [
                  "Unknown",
                  "7062"
                ],
                [
                  "Lawyer",
                  "6575"
                ],
                [
                  "Architect",
                  "6355"
                ],
                [
                  "Engineer",
                  "6350"
                ],
                [
                  "Scientist",
                  "6299"
                ],
                [
                  "Mechanic",
                  "6291"
                ],
                [
                  "Accountant",
                  "6271"
                ],
                [
                  "Developer",
                  "6235"
                ],
                [
                  "Media Manager",
                  "6232"
                ],
                [
                  "Teacher",
                  "6215"
                ]
              ],
              "shape": {
                "columns": 1,
                "rows": 10
              }
            },
            "text/plain": [
              "Occupation\n",
              "Unknown          7062\n",
              "Lawyer           6575\n",
              "Architect        6355\n",
              "Engineer         6350\n",
              "Scientist        6299\n",
              "Mechanic         6291\n",
              "Accountant       6271\n",
              "Developer        6235\n",
              "Media Manager    6232\n",
              "Teacher          6215\n",
              "Name: count, dtype: int64"
            ]
          },
          "execution_count": 20,
          "metadata": {},
          "output_type": "execute_result"
        }
      ],
      "source": [
        "train_df['Occupation'].value_counts().head(10)"
      ]
    },
    {
      "cell_type": "code",
      "execution_count": 21,
      "id": "0260054e",
      "metadata": {},
      "outputs": [
        {
          "data": {
            "image/png": "[encoded data removed]",
            "text/plain": [
              "<Figure size 1200x600 with 1 Axes>"
            ]
          },
          "metadata": {},
          "output_type": "display_data"
        }
      ],
      "source": [
        "plt.figure(figsize=(12, 6))\n",
        "\n",
        "ax = sns.countplot(train_df, x=\"Occupation\")\n",
        "\n",
        "for container in ax.containers:\n",
        "    ax.bar_label(container, fmt='%d',\n",
        "                label_type='edge',\n",
        "                padding=3)\n",
        "\n",
        "plt.xticks(rotation=45, ha=\"right\")\n",
        "plt.title(\"Barplot der Berufe\")\n",
        "plt.xlabel(\"Beruf\")\n",
        "plt.show()"
      ]
    },
    {
      "cell_type": "markdown",
      "id": "b3310e3a",
      "metadata": {},
      "source": [
        "## Annual_Income - Represents the annual income of the person"
      ]
    },
    {
      "cell_type": "code",
      "execution_count": 22,
      "id": "4890b589",
      "metadata": {},
      "outputs": [
        {
          "data": {
            "text/plain": [
              "0"
            ]
          },
          "execution_count": 22,
          "metadata": {},
          "output_type": "execute_result"
        }
      ],
      "source": [
        "train_df[\"Annual_Income\"].isna().sum()"
      ]
    },
    {
      "cell_type": "code",
      "execution_count": 23,
      "id": "d1da3ee6",
      "metadata": {},
      "outputs": [],
      "source": [
        "train_df['Annual_Income'] = (\n",
        "    pd.to_numeric(\n",
        "        train_df['Annual_Income']\n",
        "        .astype(str)\n",
        "        .str.replace(r'[^0-9\\-\\.]', '', regex=True)\n",
        "        .replace({'': np.nan, '-': np.nan, '.': np.nan}),\n",
        "        errors='coerce'\n",
        "    )\n",
        "    .clip(lower=0)\n",
        "    .fillna(lambda s: s.median())\n",
        ")"
      ]
    },
    {
      "cell_type": "code",
      "execution_count": 24,
      "id": "ec5edd1b",
      "metadata": {},
      "outputs": [
        {
          "data": {
            "application/vnd.microsoft.datawrangler.viewer.v0+json": {
              "columns": [
                {
                  "name": "index",
                  "rawType": "object",
                  "type": "string"
                },
                {
                  "name": "Annual_Income",
                  "rawType": "float64",
                  "type": "float"
                }
              ],
              "ref": "30347949-fd57-4e82-86a1-097eaa5aa7d3",
              "rows": [
                [
                  "count",
                  "100000.0"
                ],
                [
                  "mean",
                  "176415.70129814997"
                ],
                [
                  "std",
                  "1429618.0514141545"
                ],
                [
                  "min",
                  "7005.93"
                ],
                [
                  "25%",
                  "19457.5"
                ],
                [
                  "50%",
                  "37578.61"
                ],
                [
                  "75%",
                  "72790.92"
                ],
                [
                  "max",
                  "24198062.0"
                ]
              ],
              "shape": {
                "columns": 1,
                "rows": 8
              }
            },
            "text/plain": [
              "count    1.000000e+05\n",
              "mean     1.764157e+05\n",
              "std      1.429618e+06\n",
              "min      7.005930e+03\n",
              "25%      1.945750e+04\n",
              "50%      3.757861e+04\n",
              "75%      7.279092e+04\n",
              "max      2.419806e+07\n",
              "Name: Annual_Income, dtype: float64"
            ]
          },
          "execution_count": 24,
          "metadata": {},
          "output_type": "execute_result"
        }
      ],
      "source": [
        "train_df['Annual_Income'].describe()"
      ]
    },
    {
      "cell_type": "code",
      "execution_count": 25,
      "id": "679a855a",
      "metadata": {},
      "outputs": [
        {
          "data": {
            "image/png": "[encoded data removed]",
            "text/plain": [
              "<Figure size 640x480 with 1 Axes>"
            ]
          },
          "metadata": {},
          "output_type": "display_data"
        }
      ],
      "source": [
        "sns.boxplot(data=train_df, x=\"Annual_Income\")\n",
        "plt.ticklabel_format(style='plain', axis='x')\n",
        "plt.title(\"Boxplot des jährlichen Einkommmens\")\n",
        "plt.xlabel(\"jährliches Einkommen\")\n",
        "plt.show()"
      ]
    },
    {
      "cell_type": "markdown",
      "id": "f4450eba",
      "metadata": {},
      "source": [
        "- Sehr starke und viele Ausreißer, diese ggf. entfernen"
      ]
    },
    {
      "cell_type": "markdown",
      "id": "b8f54b23",
      "metadata": {},
      "source": [
        "## Monthly_Inhand_Salary - Represents the monthly base salary of a person"
      ]
    },
    {
      "cell_type": "code",
      "execution_count": 26,
      "id": "545fc85f",
      "metadata": {},
      "outputs": [],
      "source": [
        "train_df['Monthly_Inhand_Salary'] = train_df['Monthly_Inhand_Salary'].fillna(train_df['Annual_Income'] / 12)"
      ]
    },
    {
      "cell_type": "code",
      "execution_count": 27,
      "id": "4881332a",
      "metadata": {},
      "outputs": [
        {
          "data": {
            "application/vnd.microsoft.datawrangler.viewer.v0+json": {
              "columns": [
                {
                  "name": "index",
                  "rawType": "object",
                  "type": "string"
                },
                {
                  "name": "Monthly_Inhand_Salary",
                  "rawType": "float64",
                  "type": "float"
                }
              ],
              "ref": "c908d78b-8999-45aa-b071-1a21b710c520",
              "rows": [
                [
                  "count",
                  "100000.0"
                ],
                [
                  "mean",
                  "5743.258610735121"
                ],
                [
                  "std",
                  "45814.6946566061"
                ],
                [
                  "min",
                  "303.6454166666666"
                ],
                [
                  "25%",
                  "1625.793333333333"
                ],
                [
                  "50%",
                  "3101.3719100905537"
                ],
                [
                  "75%",
                  "5971.780000000001"
                ],
                [
                  "max",
                  "1990379.5833333333"
                ]
              ],
              "shape": {
                "columns": 1,
                "rows": 8
              }
            },
            "text/plain": [
              "count    1.000000e+05\n",
              "mean     5.743259e+03\n",
              "std      4.581469e+04\n",
              "min      3.036454e+02\n",
              "25%      1.625793e+03\n",
              "50%      3.101372e+03\n",
              "75%      5.971780e+03\n",
              "max      1.990380e+06\n",
              "Name: Monthly_Inhand_Salary, dtype: float64"
            ]
          },
          "execution_count": 27,
          "metadata": {},
          "output_type": "execute_result"
        }
      ],
      "source": [
        "train_df['Monthly_Inhand_Salary'].describe()"
      ]
    },
    {
      "cell_type": "markdown",
      "id": "d88efa88",
      "metadata": {},
      "source": [
        "## Num_Bank_Accounts - Represents the number of bank accounts a person holds"
      ]
    },
    {
      "cell_type": "code",
      "execution_count": 28,
      "id": "87ec6090",
      "metadata": {},
      "outputs": [],
      "source": [
        "train_df['Num_Bank_Accounts'] = (\n",
        "    pd.to_numeric(\n",
        "        train_df['Num_Bank_Accounts']\n",
        "        .astype(str)\n",
        "        .str.replace(r'[^0-9\\-\\.]', '', regex=True)\n",
        "        .replace({'': np.nan, '-': np.nan, '.': np.nan}),\n",
        "        errors='coerce'\n",
        "    )\n",
        "    .clip(lower=0)\n",
        "    .round()\n",
        "    .astype('Int64')\n",
        "    .fillna(lambda s: s.median())\n",
        ")"
      ]
    },
    {
      "cell_type": "code",
      "execution_count": 29,
      "id": "ce9df70d",
      "metadata": {},
      "outputs": [
        {
          "data": {
            "application/vnd.microsoft.datawrangler.viewer.v0+json": {
              "columns": [
                {
                  "name": "index",
                  "rawType": "object",
                  "type": "string"
                },
                {
                  "name": "Num_Bank_Accounts",
                  "rawType": "Float64",
                  "type": "float"
                }
              ],
              "ref": "a7b17b9d-6165-49e9-9d4c-f3f7c8e68984",
              "rows": [
                [
                  "count",
                  "100000.0"
                ],
                [
                  "mean",
                  "17.09149"
                ],
                [
                  "std",
                  "117.40480296162283"
                ],
                [
                  "min",
                  "0.0"
                ],
                [
                  "25%",
                  "3.0"
                ],
                [
                  "50%",
                  "6.0"
                ],
                [
                  "75%",
                  "7.0"
                ],
                [
                  "max",
                  "1798.0"
                ]
              ],
              "shape": {
                "columns": 1,
                "rows": 8
              }
            },
            "text/plain": [
              "count      100000.0\n",
              "mean       17.09149\n",
              "std      117.404803\n",
              "min             0.0\n",
              "25%             3.0\n",
              "50%             6.0\n",
              "75%             7.0\n",
              "max          1798.0\n",
              "Name: Num_Bank_Accounts, dtype: Float64"
            ]
          },
          "execution_count": 29,
          "metadata": {},
          "output_type": "execute_result"
        }
      ],
      "source": [
        "train_df['Num_Bank_Accounts'].describe()"
      ]
    },
    {
      "cell_type": "markdown",
      "id": "147ac7fb",
      "metadata": {},
      "source": [
        "## Num_Credit_Card - Represents the number of other credit cards held by a person"
      ]
    },
    {
      "cell_type": "code",
      "execution_count": 30,
      "id": "ea783477",
      "metadata": {},
      "outputs": [],
      "source": [
        "train_df['Num_Credit_Card'] = (\n",
        "    pd.to_numeric(\n",
        "        train_df['Num_Credit_Card']\n",
        "        .astype(str)\n",
        "        .str.replace(r'[^0-9\\-\\.]', '', regex=True)\n",
        "        .replace({'': np.nan, '-': np.nan, '.': np.nan}),\n",
        "        errors='coerce'\n",
        "    )\n",
        "    .clip(lower=0)\n",
        "    .round()\n",
        "    .astype('Int64')\n",
        "    .fillna(lambda s: s.median())\n",
        ")"
      ]
    },
    {
      "cell_type": "code",
      "execution_count": 31,
      "id": "6eade822",
      "metadata": {},
      "outputs": [
        {
          "data": {
            "application/vnd.microsoft.datawrangler.viewer.v0+json": {
              "columns": [
                {
                  "name": "index",
                  "rawType": "object",
                  "type": "string"
                },
                {
                  "name": "Num_Credit_Card",
                  "rawType": "Float64",
                  "type": "float"
                }
              ],
              "ref": "dd36223b-389a-4941-9b87-0de2f7554f3a",
              "rows": [
                [
                  "count",
                  "100000.0"
                ],
                [
                  "mean",
                  "22.47443"
                ],
                [
                  "std",
                  "129.05741011009846"
                ],
                [
                  "min",
                  "0.0"
                ],
                [
                  "25%",
                  "4.0"
                ],
                [
                  "50%",
                  "5.0"
                ],
                [
                  "75%",
                  "7.0"
                ],
                [
                  "max",
                  "1499.0"
                ]
              ],
              "shape": {
                "columns": 1,
                "rows": 8
              }
            },
            "text/plain": [
              "count     100000.0\n",
              "mean      22.47443\n",
              "std      129.05741\n",
              "min            0.0\n",
              "25%            4.0\n",
              "50%            5.0\n",
              "75%            7.0\n",
              "max         1499.0\n",
              "Name: Num_Credit_Card, dtype: Float64"
            ]
          },
          "execution_count": 31,
          "metadata": {},
          "output_type": "execute_result"
        }
      ],
      "source": [
        "train_df['Num_Credit_Card'].describe()"
      ]
    },
    {
      "cell_type": "markdown",
      "id": "894775a5",
      "metadata": {},
      "source": [
        "## Interest_Rate - Represents the interest rate on credit card"
      ]
    },
    {
      "cell_type": "code",
      "execution_count": 32,
      "id": "39e8b40c",
      "metadata": {},
      "outputs": [],
      "source": [
        "train_df['Interest_Rate'] = (\n",
        "    pd.to_numeric(\n",
        "        train_df['Interest_Rate']\n",
        "        .astype(str)\n",
        "        .str.replace(r'[^0-9\\-\\.]', '', regex=True)\n",
        "        .replace({'': np.nan, '-': np.nan, '.': np.nan}),\n",
        "        errors='coerce'\n",
        "    )\n",
        "    .clip(lower=0)\n",
        "    .round()\n",
        "    .astype('Int64')\n",
        "    .fillna(lambda s: s.median())\n",
        ")"
      ]
    },
    {
      "cell_type": "code",
      "execution_count": 33,
      "id": "9844d1a7",
      "metadata": {},
      "outputs": [
        {
          "data": {
            "application/vnd.microsoft.datawrangler.viewer.v0+json": {
              "columns": [
                {
                  "name": "index",
                  "rawType": "object",
                  "type": "string"
                },
                {
                  "name": "Interest_Rate",
                  "rawType": "Float64",
                  "type": "float"
                }
              ],
              "ref": "cad09a33-59d8-49f5-8a30-a0bfec06e10d",
              "rows": [
                [
                  "count",
                  "100000.0"
                ],
                [
                  "mean",
                  "72.46604"
                ],
                [
                  "std",
                  "466.4226212217138"
                ],
                [
                  "min",
                  "1.0"
                ],
                [
                  "25%",
                  "8.0"
                ],
                [
                  "50%",
                  "13.0"
                ],
                [
                  "75%",
                  "20.0"
                ],
                [
                  "max",
                  "5797.0"
                ]
              ],
              "shape": {
                "columns": 1,
                "rows": 8
              }
            },
            "text/plain": [
              "count      100000.0\n",
              "mean       72.46604\n",
              "std      466.422621\n",
              "min             1.0\n",
              "25%             8.0\n",
              "50%            13.0\n",
              "75%            20.0\n",
              "max          5797.0\n",
              "Name: Interest_Rate, dtype: Float64"
            ]
          },
          "execution_count": 33,
          "metadata": {},
          "output_type": "execute_result"
        }
      ],
      "source": [
        "train_df['Interest_Rate'].describe()"
      ]
    },
    {
      "cell_type": "markdown",
      "id": "85ab33a8",
      "metadata": {},
      "source": [
        "## Num_of_Loan - Represents the number of loans taken from the bank"
      ]
    },
    {
      "cell_type": "code",
      "execution_count": 34,
      "id": "de803a37",
      "metadata": {},
      "outputs": [],
      "source": [
        "train_df['Num_of_Loan'] = (\n",
        "    pd.to_numeric(\n",
        "        train_df['Num_of_Loan']\n",
        "        .astype(str)\n",
        "        .str.replace(r'[^0-9\\-\\.]', '', regex=True)\n",
        "        .replace({'': np.nan, '-': np.nan, '.': np.nan}),\n",
        "        errors='coerce'\n",
        "    )\n",
        "    .clip(lower=0)\n",
        "    .round()\n",
        "    .astype('Int64')\n",
        "    .fillna(lambda s: s.median())\n",
        ")"
      ]
    },
    {
      "cell_type": "code",
      "execution_count": 35,
      "id": "12d01c55",
      "metadata": {},
      "outputs": [
        {
          "data": {
            "application/vnd.microsoft.datawrangler.viewer.v0+json": {
              "columns": [
                {
                  "name": "index",
                  "rawType": "object",
                  "type": "string"
                },
                {
                  "name": "Num_of_Loan",
                  "rawType": "Float64",
                  "type": "float"
                }
              ],
              "ref": "66091901-be87-4bec-9ca5-194337ebbdbc",
              "rows": [
                [
                  "count",
                  "100000.0"
                ],
                [
                  "mean",
                  "6.88596"
                ],
                [
                  "std",
                  "59.150620815320515"
                ],
                [
                  "min",
                  "0.0"
                ],
                [
                  "25%",
                  "1.0"
                ],
                [
                  "50%",
                  "3.0"
                ],
                [
                  "75%",
                  "5.0"
                ],
                [
                  "max",
                  "1496.0"
                ]
              ],
              "shape": {
                "columns": 1,
                "rows": 8
              }
            },
            "text/plain": [
              "count     100000.0\n",
              "mean       6.88596\n",
              "std      59.150621\n",
              "min            0.0\n",
              "25%            1.0\n",
              "50%            3.0\n",
              "75%            5.0\n",
              "max         1496.0\n",
              "Name: Num_of_Loan, dtype: Float64"
            ]
          },
          "execution_count": 35,
          "metadata": {},
          "output_type": "execute_result"
        }
      ],
      "source": [
        "train_df['Num_of_Loan'].describe()"
      ]
    },
    {
      "cell_type": "markdown",
      "id": "42375da9",
      "metadata": {},
      "source": [
        "## Type_of_Loan - Represents the types of loan taken by a person"
      ]
    },
    {
      "cell_type": "code",
      "execution_count": 36,
      "id": "3384130f",
      "metadata": {},
      "outputs": [],
      "source": [
        "train_df['Type_of_Loan'] = (\n",
        "    train_df['Type_of_Loan']\n",
        "    .fillna('Unknown')  # Fehlende Werte\n",
        "    .astype(str)\n",
        "    .str.replace(' and ', ', ', regex=False)  # 'and' → Komma\n",
        "    .apply(lambda x: ', '.join(                # mehrere Loan-Namen zusammenfassen\n",
        "        dict.fromkeys(                        # Doppelte entfernen, Reihenfolge behalten\n",
        "            part.strip().title().replace('_', ' ').replace('-', ' ')\n",
        "            for part in re.split(r',\\s*', x)\n",
        "            if part.strip()\n",
        "        )\n",
        "    ) if x.strip().lower() != 'unknown' else 'Unknown')\n",
        ")"
      ]
    },
    {
      "cell_type": "code",
      "execution_count": 37,
      "id": "45ded694",
      "metadata": {},
      "outputs": [
        {
          "data": {
            "application/vnd.microsoft.datawrangler.viewer.v0+json": {
              "columns": [
                {
                  "name": "index",
                  "rawType": "int64",
                  "type": "integer"
                },
                {
                  "name": "Type_of_Loan",
                  "rawType": "object",
                  "type": "string"
                }
              ],
              "ref": "272f2c84-200b-4951-9816-1b5472a447c1",
              "rows": [
                [
                  "0",
                  "Auto Loan, Credit Builder Loan, Personal Loan, Home Equity Loan"
                ],
                [
                  "1",
                  "Auto Loan, Credit Builder Loan, Personal Loan, Home Equity Loan"
                ],
                [
                  "2",
                  "Auto Loan, Credit Builder Loan, Personal Loan, Home Equity Loan"
                ],
                [
                  "3",
                  "Auto Loan, Credit Builder Loan, Personal Loan, Home Equity Loan"
                ],
                [
                  "4",
                  "Auto Loan, Credit Builder Loan, Personal Loan, Home Equity Loan"
                ]
              ],
              "shape": {
                "columns": 1,
                "rows": 5
              }
            },
            "text/plain": [
              "0    Auto Loan, Credit Builder Loan, Personal Loan,...\n",
              "1    Auto Loan, Credit Builder Loan, Personal Loan,...\n",
              "2    Auto Loan, Credit Builder Loan, Personal Loan,...\n",
              "3    Auto Loan, Credit Builder Loan, Personal Loan,...\n",
              "4    Auto Loan, Credit Builder Loan, Personal Loan,...\n",
              "Name: Type_of_Loan, dtype: object"
            ]
          },
          "execution_count": 37,
          "metadata": {},
          "output_type": "execute_result"
        }
      ],
      "source": [
        "train_df['Type_of_Loan'].head()"
      ]
    },
    {
      "cell_type": "markdown",
      "id": "316be8ac",
      "metadata": {},
      "source": [
        "## Delay_from_due_date - Represents the average number of days delayed from the payment date"
      ]
    },
    {
      "cell_type": "code",
      "execution_count": 38,
      "id": "0a027ff2",
      "metadata": {},
      "outputs": [],
      "source": [
        "train_df['Delay_from_due_date'] = (\n",
        "    pd.to_numeric(train_df['Delay_from_due_date'], errors='coerce')  # zu Zahlen, Fehler -> NaN\n",
        "    .clip(lower=0)                                                  # keine negativen Werte\n",
        "    .fillna(lambda s: s.median())                                   # fehlende durch Median ersetzen\n",
        "    .astype('Int64')                                                # saubere Integer-Spalte mit NA\n",
        ")"
      ]
    },
    {
      "cell_type": "code",
      "execution_count": 39,
      "id": "63f59f87",
      "metadata": {},
      "outputs": [
        {
          "data": {
            "application/vnd.microsoft.datawrangler.viewer.v0+json": {
              "columns": [
                {
                  "name": "index",
                  "rawType": "object",
                  "type": "string"
                },
                {
                  "name": "Delay_from_due_date",
                  "rawType": "Float64",
                  "type": "float"
                }
              ],
              "ref": "b625a8c6-841c-473d-bfe1-65e782fb1111",
              "rows": [
                [
                  "count",
                  "100000.0"
                ],
                [
                  "mean",
                  "21.08191"
                ],
                [
                  "std",
                  "14.840203606026794"
                ],
                [
                  "min",
                  "0.0"
                ],
                [
                  "25%",
                  "10.0"
                ],
                [
                  "50%",
                  "18.0"
                ],
                [
                  "75%",
                  "28.0"
                ],
                [
                  "max",
                  "67.0"
                ]
              ],
              "shape": {
                "columns": 1,
                "rows": 8
              }
            },
            "text/plain": [
              "count     100000.0\n",
              "mean      21.08191\n",
              "std      14.840204\n",
              "min            0.0\n",
              "25%           10.0\n",
              "50%           18.0\n",
              "75%           28.0\n",
              "max           67.0\n",
              "Name: Delay_from_due_date, dtype: Float64"
            ]
          },
          "execution_count": 39,
          "metadata": {},
          "output_type": "execute_result"
        }
      ],
      "source": [
        "train_df['Delay_from_due_date'].describe()"
      ]
    },
    {
      "cell_type": "markdown",
      "id": "c4e20c4f",
      "metadata": {},
      "source": [
        "## Num_of_Delayed_Payment - Represents the average number of payments delayed by a person"
      ]
    },
    {
      "cell_type": "code",
      "execution_count": 40,
      "id": "4f3f1537",
      "metadata": {},
      "outputs": [],
      "source": [
        "train_df['Num_of_Delayed_Payment'] = (\n",
        "    train_df['Num_of_Delayed_Payment']\n",
        "    .astype(str)\n",
        "    .str.replace(r'[^0-9\\-\\.]', '', regex=True)\n",
        "    .replace({'': np.nan, '-': np.nan, '.': np.nan})\n",
        "    .pipe(pd.to_numeric, errors='coerce')\n",
        "    .clip(lower=0)\n",
        "    .pipe(lambda s: s.fillna(s.median()))   # 👈 Median korrekt in der Chain\n",
        "    .astype('Int64')\n",
        ")"
      ]
    },
    {
      "cell_type": "code",
      "execution_count": 41,
      "id": "876e1c45",
      "metadata": {},
      "outputs": [
        {
          "data": {
            "application/vnd.microsoft.datawrangler.viewer.v0+json": {
              "columns": [
                {
                  "name": "index",
                  "rawType": "object",
                  "type": "string"
                },
                {
                  "name": "Num_of_Delayed_Payment",
                  "rawType": "Float64",
                  "type": "float"
                }
              ],
              "ref": "0e534e18-e4d8-4bc0-af0a-a749b776c3b3",
              "rows": [
                [
                  "count",
                  "100000.0"
                ],
                [
                  "mean",
                  "29.74903"
                ],
                [
                  "std",
                  "218.01610934584272"
                ],
                [
                  "min",
                  "0.0"
                ],
                [
                  "25%",
                  "9.0"
                ],
                [
                  "50%",
                  "14.0"
                ],
                [
                  "75%",
                  "18.0"
                ],
                [
                  "max",
                  "4397.0"
                ]
              ],
              "shape": {
                "columns": 1,
                "rows": 8
              }
            },
            "text/plain": [
              "count      100000.0\n",
              "mean       29.74903\n",
              "std      218.016109\n",
              "min             0.0\n",
              "25%             9.0\n",
              "50%            14.0\n",
              "75%            18.0\n",
              "max          4397.0\n",
              "Name: Num_of_Delayed_Payment, dtype: Float64"
            ]
          },
          "execution_count": 41,
          "metadata": {},
          "output_type": "execute_result"
        }
      ],
      "source": [
        "train_df['Num_of_Delayed_Payment'].describe()"
      ]
    },
    {
      "cell_type": "markdown",
      "id": "4bd48bde",
      "metadata": {},
      "source": [
        "## Changed_Credit_Limit - Represents the percentage change in credit card limit"
      ]
    },
    {
      "cell_type": "code",
      "execution_count": 42,
      "id": "02dcc33a",
      "metadata": {},
      "outputs": [],
      "source": [
        "train_df['Changed_Credit_Limit'] = (\n",
        "    train_df['Changed_Credit_Limit']\n",
        "    .astype(str)\n",
        "    .str.replace(r'[^0-9\\-\\.]', '', regex=True)       # Nur Zahlen, Minus, Punkt behalten\n",
        "    .replace({'': np.nan, '-': np.nan, '.': np.nan})  # Leere Strings / Sonderzeichen → NaN\n",
        "    .pipe(pd.to_numeric, errors='coerce')             # In Zahlen umwandeln\n",
        "    .fillna(0)                                        # Fehlende Werte → 0\n",
        ")"
      ]
    },
    {
      "cell_type": "code",
      "execution_count": 43,
      "id": "b11dae1d",
      "metadata": {},
      "outputs": [
        {
          "data": {
            "application/vnd.microsoft.datawrangler.viewer.v0+json": {
              "columns": [
                {
                  "name": "index",
                  "rawType": "object",
                  "type": "string"
                },
                {
                  "name": "Changed_Credit_Limit",
                  "rawType": "float64",
                  "type": "float"
                }
              ],
              "ref": "2e6d17d1-5aee-445a-b307-d6e28fdfc5f6",
              "rows": [
                [
                  "count",
                  "100000.0"
                ],
                [
                  "mean",
                  "10.1717906"
                ],
                [
                  "std",
                  "6.88062798443327"
                ],
                [
                  "min",
                  "-6.49"
                ],
                [
                  "25%",
                  "4.97"
                ],
                [
                  "50%",
                  "9.25"
                ],
                [
                  "75%",
                  "14.66"
                ],
                [
                  "max",
                  "36.97"
                ]
              ],
              "shape": {
                "columns": 1,
                "rows": 8
              }
            },
            "text/plain": [
              "count    100000.000000\n",
              "mean         10.171791\n",
              "std           6.880628\n",
              "min          -6.490000\n",
              "25%           4.970000\n",
              "50%           9.250000\n",
              "75%          14.660000\n",
              "max          36.970000\n",
              "Name: Changed_Credit_Limit, dtype: float64"
            ]
          },
          "execution_count": 43,
          "metadata": {},
          "output_type": "execute_result"
        }
      ],
      "source": [
        "train_df['Changed_Credit_Limit'].describe()"
      ]
    },
    {
      "cell_type": "markdown",
      "id": "36019c1c",
      "metadata": {},
      "source": [
        "## Num_Credit_Inquiries - Represents the number of credit card inquiries"
      ]
    },
    {
      "cell_type": "code",
      "execution_count": 44,
      "id": "38e75578",
      "metadata": {},
      "outputs": [],
      "source": [
        "train_df['Num_Credit_Inquiries'] = (\n",
        "    train_df['Num_Credit_Inquiries']\n",
        "    .astype(str)\n",
        "    .str.replace(r'[^0-9\\-\\.]', '', regex=True)        # Nur Zahlen, Minus, Punkt behalten\n",
        "    .replace({'': np.nan, '-': np.nan, '.': np.nan})   # Leere oder symbolische Strings → NaN\n",
        "    .pipe(pd.to_numeric, errors='coerce')              # In Zahl konvertieren\n",
        "    .clip(lower=0)                                    # Keine negativen Werte (allow_negative=False)\n",
        "    .pipe(lambda s: s.fillna(s.median()))              # Fehlende Werte mit Median ersetzen\n",
        "    .round()                                           # Runden auf ganze Zahl\n",
        "    .astype('Int64')                                   # Integer mit Pandas-NA-Support\n",
        ")"
      ]
    },
    {
      "cell_type": "code",
      "execution_count": 45,
      "id": "90591336",
      "metadata": {},
      "outputs": [
        {
          "data": {
            "application/vnd.microsoft.datawrangler.viewer.v0+json": {
              "columns": [
                {
                  "name": "index",
                  "rawType": "object",
                  "type": "string"
                },
                {
                  "name": "Num_Credit_Inquiries",
                  "rawType": "Float64",
                  "type": "float"
                }
              ],
              "ref": "b2ee10e7-96ca-42ef-87d0-e7219c579598",
              "rows": [
                [
                  "count",
                  "100000.0"
                ],
                [
                  "mean",
                  "27.32678"
                ],
                [
                  "std",
                  "191.29376641146015"
                ],
                [
                  "min",
                  "0.0"
                ],
                [
                  "25%",
                  "3.0"
                ],
                [
                  "50%",
                  "6.0"
                ],
                [
                  "75%",
                  "9.0"
                ],
                [
                  "max",
                  "2597.0"
                ]
              ],
              "shape": {
                "columns": 1,
                "rows": 8
              }
            },
            "text/plain": [
              "count      100000.0\n",
              "mean       27.32678\n",
              "std      191.293766\n",
              "min             0.0\n",
              "25%             3.0\n",
              "50%             6.0\n",
              "75%             9.0\n",
              "max          2597.0\n",
              "Name: Num_Credit_Inquiries, dtype: Float64"
            ]
          },
          "execution_count": 45,
          "metadata": {},
          "output_type": "execute_result"
        }
      ],
      "source": [
        "train_df['Num_Credit_Inquiries'].describe()"
      ]
    },
    {
      "cell_type": "markdown",
      "id": "0fb3b6d5",
      "metadata": {},
      "source": [
        "## Credit_Mix - Represents the classification of the mix of credits"
      ]
    },
    {
      "cell_type": "code",
      "execution_count": 46,
      "id": "2c17e4d0",
      "metadata": {},
      "outputs": [],
      "source": [
        "train_df['Credit_Mix'] = (\n",
        "    train_df['Credit_Mix']\n",
        "    .replace('_', 'Unknown')      # \"_\" ersetzen\n",
        "    .fillna('Unknown')            # fehlende Werte auffüllen\n",
        "    .astype(str)                  # sicherstellen, dass alles String ist\n",
        "    .str.title()                  # schön formatiert (z. B. \"good\" → \"Good\")\n",
        ")"
      ]
    },
    {
      "cell_type": "code",
      "execution_count": 47,
      "id": "785b8be3",
      "metadata": {},
      "outputs": [
        {
          "data": {
            "application/vnd.microsoft.datawrangler.viewer.v0+json": {
              "columns": [
                {
                  "name": "Credit_Mix",
                  "rawType": "object",
                  "type": "string"
                },
                {
                  "name": "count",
                  "rawType": "int64",
                  "type": "integer"
                }
              ],
              "ref": "ed2d6195-3ce9-4d85-bb55-0dd3f2649a69",
              "rows": [
                [
                  "Standard",
                  "36479"
                ],
                [
                  "Good",
                  "24337"
                ],
                [
                  "Unknown",
                  "20195"
                ],
                [
                  "Bad",
                  "18989"
                ]
              ],
              "shape": {
                "columns": 1,
                "rows": 4
              }
            },
            "text/plain": [
              "Credit_Mix\n",
              "Standard    36479\n",
              "Good        24337\n",
              "Unknown     20195\n",
              "Bad         18989\n",
              "Name: count, dtype: int64"
            ]
          },
          "execution_count": 47,
          "metadata": {},
          "output_type": "execute_result"
        }
      ],
      "source": [
        "train_df['Credit_Mix'].value_counts()"
      ]
    },
    {
      "cell_type": "markdown",
      "id": "b155324a",
      "metadata": {},
      "source": [
        "## Outstanding_Debt - Represents the remaining debt to be paid (in USD)"
      ]
    },
    {
      "cell_type": "code",
      "execution_count": 48,
      "id": "17492e47",
      "metadata": {},
      "outputs": [],
      "source": [
        "train_df['Outstanding_Debt'] = (\n",
        "    train_df['Outstanding_Debt']\n",
        "    .astype(str)\n",
        "    .str.replace(r'[^0-9\\-\\.]', '', regex=True)       # Nur Zahlen, Minus, Punkt behalten\n",
        "    .replace({'': np.nan, '-': np.nan, '.': np.nan})  # Leere Strings → NaN\n",
        "    .pipe(pd.to_numeric, errors='coerce')             # Zu numerisch konvertieren\n",
        "    .clip(lower=0)                                   # Keine negativen Werte\n",
        "    .pipe(lambda s: s.fillna(s.median()))             # Fehlende Werte durch Median ersetzen\n",
        ")"
      ]
    },
    {
      "cell_type": "code",
      "execution_count": 49,
      "id": "ee391b02",
      "metadata": {},
      "outputs": [
        {
          "data": {
            "application/vnd.microsoft.datawrangler.viewer.v0+json": {
              "columns": [
                {
                  "name": "index",
                  "rawType": "object",
                  "type": "string"
                },
                {
                  "name": "Outstanding_Debt",
                  "rawType": "float64",
                  "type": "float"
                }
              ],
              "ref": "8dd8d4c3-fefe-4dc7-bab8-c386cf14fc01",
              "rows": [
                [
                  "count",
                  "100000.0"
                ],
                [
                  "mean",
                  "1426.220376"
                ],
                [
                  "std",
                  "1155.1290257464573"
                ],
                [
                  "min",
                  "0.23"
                ],
                [
                  "25%",
                  "566.0725"
                ],
                [
                  "50%",
                  "1166.155"
                ],
                [
                  "75%",
                  "1945.9625"
                ],
                [
                  "max",
                  "4998.07"
                ]
              ],
              "shape": {
                "columns": 1,
                "rows": 8
              }
            },
            "text/plain": [
              "count    100000.000000\n",
              "mean       1426.220376\n",
              "std        1155.129026\n",
              "min           0.230000\n",
              "25%         566.072500\n",
              "50%        1166.155000\n",
              "75%        1945.962500\n",
              "max        4998.070000\n",
              "Name: Outstanding_Debt, dtype: float64"
            ]
          },
          "execution_count": 49,
          "metadata": {},
          "output_type": "execute_result"
        }
      ],
      "source": [
        "train_df['Outstanding_Debt'].describe()"
      ]
    },
    {
      "cell_type": "markdown",
      "id": "d3e61e57",
      "metadata": {},
      "source": [
        "## Credit_Utilization_Ratio - Represents the utilization ratio of credit card"
      ]
    },
    {
      "cell_type": "code",
      "execution_count": 50,
      "id": "b4f4dc0f",
      "metadata": {},
      "outputs": [],
      "source": [
        "train_df['Credit_Utilization_Ratio'] = (\n",
        "    pd.to_numeric(train_df['Credit_Utilization_Ratio'], errors='coerce')  # In Zahlen umwandeln\n",
        "    .clip(lower=0, upper=100)                                             # Begrenzen zwischen 0 und 100\n",
        "    .pipe(lambda s: s.fillna(s.median()))                                 # Fehlende Werte durch Median ersetzen\n",
        ")"
      ]
    },
    {
      "cell_type": "code",
      "execution_count": 51,
      "id": "7f45009f",
      "metadata": {},
      "outputs": [
        {
          "data": {
            "application/vnd.microsoft.datawrangler.viewer.v0+json": {
              "columns": [
                {
                  "name": "index",
                  "rawType": "object",
                  "type": "string"
                },
                {
                  "name": "Credit_Utilization_Ratio",
                  "rawType": "float64",
                  "type": "float"
                }
              ],
              "ref": "ccd35cc9-e5a0-4597-aa23-9c451df03c27",
              "rows": [
                [
                  "count",
                  "100000.0"
                ],
                [
                  "mean",
                  "32.2851725189436"
                ],
                [
                  "std",
                  "5.116875070150906"
                ],
                [
                  "min",
                  "20.0"
                ],
                [
                  "25%",
                  "28.05256656125577"
                ],
                [
                  "50%",
                  "32.30578367171092"
                ],
                [
                  "75%",
                  "36.4966630559621"
                ],
                [
                  "max",
                  "50.00000000000001"
                ]
              ],
              "shape": {
                "columns": 1,
                "rows": 8
              }
            },
            "text/plain": [
              "count    100000.000000\n",
              "mean         32.285173\n",
              "std           5.116875\n",
              "min          20.000000\n",
              "25%          28.052567\n",
              "50%          32.305784\n",
              "75%          36.496663\n",
              "max          50.000000\n",
              "Name: Credit_Utilization_Ratio, dtype: float64"
            ]
          },
          "execution_count": 51,
          "metadata": {},
          "output_type": "execute_result"
        }
      ],
      "source": [
        "train_df['Credit_Utilization_Ratio'].describe()"
      ]
    },
    {
      "cell_type": "markdown",
      "id": "b305cf36",
      "metadata": {},
      "source": [
        "## Credit_History_Age - Represents the age of credit history of the person"
      ]
    },
    {
      "cell_type": "code",
      "execution_count": 52,
      "id": "389fa558",
      "metadata": {},
      "outputs": [],
      "source": [
        "train_df['Credit_History_Age'] = (\n",
        "    train_df['Credit_History_Age'].astype(str)\n",
        "    .pipe(lambda s: (\n",
        "        s.str.extract(r'(\\d+)\\s*Years', expand=False).astype(float) * 12 +\n",
        "        s.str.extract(r'(\\d+)\\s*Months', expand=False).astype(float)\n",
        "    ))\n",
        "    .pipe(lambda s: s.fillna(s.median()))  # Fehlende Werte → Median\n",
        "    .astype('Int64')                       # Integer mit NA-Unterstützung\n",
        ")"
      ]
    },
    {
      "cell_type": "code",
      "execution_count": 53,
      "id": "a737b49c",
      "metadata": {},
      "outputs": [
        {
          "data": {
            "application/vnd.microsoft.datawrangler.viewer.v0+json": {
              "columns": [
                {
                  "name": "index",
                  "rawType": "object",
                  "type": "string"
                },
                {
                  "name": "Credit_History_Age",
                  "rawType": "Float64",
                  "type": "float"
                }
              ],
              "ref": "4791a598-084f-451b-a14a-a2413bd9e5db",
              "rows": [
                [
                  "count",
                  "100000.0"
                ],
                [
                  "mean",
                  "220.99716"
                ],
                [
                  "std",
                  "95.13354558645104"
                ],
                [
                  "min",
                  "1.0"
                ],
                [
                  "25%",
                  "154.0"
                ],
                [
                  "50%",
                  "219.0"
                ],
                [
                  "75%",
                  "292.0"
                ],
                [
                  "max",
                  "404.0"
                ]
              ],
              "shape": {
                "columns": 1,
                "rows": 8
              }
            },
            "text/plain": [
              "count     100000.0\n",
              "mean     220.99716\n",
              "std      95.133546\n",
              "min            1.0\n",
              "25%          154.0\n",
              "50%          219.0\n",
              "75%          292.0\n",
              "max          404.0\n",
              "Name: Credit_History_Age, dtype: Float64"
            ]
          },
          "execution_count": 53,
          "metadata": {},
          "output_type": "execute_result"
        }
      ],
      "source": [
        "train_df['Credit_History_Age'].describe()"
      ]
    },
    {
      "cell_type": "markdown",
      "id": "82aaa7df",
      "metadata": {},
      "source": [
        "## Payment_of_Min_Amount - Represents whether only the minimum amount was paid by the person"
      ]
    },
    {
      "cell_type": "code",
      "execution_count": 54,
      "id": "ab6b8734",
      "metadata": {},
      "outputs": [],
      "source": [
        "train_df['Payment_of_Min_Amount'] = (\n",
        "    train_df['Payment_of_Min_Amount']\n",
        "    .replace('NM', 'Unknown')   # \"NM\" ersetzen\n",
        "    .fillna('Unknown')          # fehlende Werte auffüllen\n",
        "    .astype(str)                # sicherstellen, dass alles String ist\n",
        "    .str.title()                # \"unknown\" → \"Unknown\", \"yes\" → \"Yes\"\n",
        ")"
      ]
    },
    {
      "cell_type": "code",
      "execution_count": 55,
      "id": "0a24b020",
      "metadata": {},
      "outputs": [
        {
          "data": {
            "application/vnd.microsoft.datawrangler.viewer.v0+json": {
              "columns": [
                {
                  "name": "Payment_of_Min_Amount",
                  "rawType": "object",
                  "type": "string"
                },
                {
                  "name": "count",
                  "rawType": "int64",
                  "type": "integer"
                }
              ],
              "ref": "96dee550-125d-4233-aee4-2ea0e4bb7368",
              "rows": [
                [
                  "Yes",
                  "52326"
                ],
                [
                  "No",
                  "35667"
                ],
                [
                  "Unknown",
                  "12007"
                ]
              ],
              "shape": {
                "columns": 1,
                "rows": 3
              }
            },
            "text/plain": [
              "Payment_of_Min_Amount\n",
              "Yes        52326\n",
              "No         35667\n",
              "Unknown    12007\n",
              "Name: count, dtype: int64"
            ]
          },
          "execution_count": 55,
          "metadata": {},
          "output_type": "execute_result"
        }
      ],
      "source": [
        "train_df['Payment_of_Min_Amount'].value_counts()"
      ]
    },
    {
      "cell_type": "markdown",
      "id": "fa0ee44a",
      "metadata": {},
      "source": [
        "## Total_EMI_per_month - Represents the monthly EMI payments (in USD)"
      ]
    },
    {
      "cell_type": "code",
      "execution_count": 56,
      "id": "4fa24b92",
      "metadata": {},
      "outputs": [],
      "source": [
        "train_df['Total_EMI_per_month'] = (\n",
        "    train_df['Total_EMI_per_month']\n",
        "    .astype(str)\n",
        "    .str.replace(r'[^0-9\\-\\.]', '', regex=True)       # Nur Zahlen, Minus, Punkt behalten\n",
        "    .replace({'': np.nan, '-': np.nan, '.': np.nan})  # Leere oder symbolische Strings -> NaN\n",
        "    .pipe(pd.to_numeric, errors='coerce')             # In Zahlen umwandeln\n",
        "    .clip(lower=0)                                   # Keine negativen Werte (allow_negative=False)\n",
        "    .pipe(lambda s: s.fillna(s.median()))             # Fehlende Werte durch Median ersetzen\n",
        ")"
      ]
    },
    {
      "cell_type": "code",
      "execution_count": 57,
      "id": "de96cbb9",
      "metadata": {},
      "outputs": [
        {
          "data": {
            "application/vnd.microsoft.datawrangler.viewer.v0+json": {
              "columns": [
                {
                  "name": "index",
                  "rawType": "object",
                  "type": "string"
                },
                {
                  "name": "Total_EMI_per_month",
                  "rawType": "float64",
                  "type": "float"
                }
              ],
              "ref": "07a6da68-b05c-4a8b-9b2a-e6d08089b70b",
              "rows": [
                [
                  "count",
                  "100000.0"
                ],
                [
                  "mean",
                  "1403.1182166159933"
                ],
                [
                  "std",
                  "8306.041270321723"
                ],
                [
                  "min",
                  "0.0"
                ],
                [
                  "25%",
                  "30.30666049468699"
                ],
                [
                  "50%",
                  "69.24947329972044"
                ],
                [
                  "75%",
                  "161.22424910969863"
                ],
                [
                  "max",
                  "82331.0"
                ]
              ],
              "shape": {
                "columns": 1,
                "rows": 8
              }
            },
            "text/plain": [
              "count    100000.000000\n",
              "mean       1403.118217\n",
              "std        8306.041270\n",
              "min           0.000000\n",
              "25%          30.306660\n",
              "50%          69.249473\n",
              "75%         161.224249\n",
              "max       82331.000000\n",
              "Name: Total_EMI_per_month, dtype: float64"
            ]
          },
          "execution_count": 57,
          "metadata": {},
          "output_type": "execute_result"
        }
      ],
      "source": [
        "train_df['Total_EMI_per_month'].describe()"
      ]
    },
    {
      "cell_type": "markdown",
      "id": "13e9baf8",
      "metadata": {},
      "source": [
        "## Amount_invested_monthly - Represents the monthly amount invested by the customer (in USD)"
      ]
    },
    {
      "cell_type": "code",
      "execution_count": 58,
      "id": "988f346b",
      "metadata": {},
      "outputs": [],
      "source": [
        "train_df['Amount_invested_monthly'] = (\n",
        "    train_df['Amount_invested_monthly']\n",
        "    .astype(str)\n",
        "    .str.replace(r'[^0-9\\-\\.]', '', regex=True)       # Nur Ziffern, Minus und Punkt behalten\n",
        "    .replace({'': np.nan, '-': np.nan, '.': np.nan})  # Leere oder Platzhalter → NaN\n",
        "    .pipe(pd.to_numeric, errors='coerce')             # In numerisch konvertieren\n",
        "    .clip(lower=0)                                   # Negative Werte auf 0 setzen\n",
        "    .pipe(lambda s: s.fillna(s.median()))             # Fehlende Werte mit Median auffüllen\n",
        ")"
      ]
    },
    {
      "cell_type": "code",
      "execution_count": 59,
      "id": "f8cb7e0c",
      "metadata": {},
      "outputs": [
        {
          "data": {
            "application/vnd.microsoft.datawrangler.viewer.v0+json": {
              "columns": [
                {
                  "name": "index",
                  "rawType": "object",
                  "type": "string"
                },
                {
                  "name": "Amount_invested_monthly",
                  "rawType": "float64",
                  "type": "float"
                }
              ],
              "ref": "f4cf2134-c023-4116-8a63-649462344c84",
              "rows": [
                [
                  "count",
                  "100000.0"
                ],
                [
                  "mean",
                  "614.9513814856298"
                ],
                [
                  "std",
                  "1999.7266466393892"
                ],
                [
                  "min",
                  "0.0"
                ],
                [
                  "25%",
                  "77.0174138525233"
                ],
                [
                  "50%",
                  "135.92568154608836"
                ],
                [
                  "75%",
                  "255.0386978409323"
                ],
                [
                  "max",
                  "10000.0"
                ]
              ],
              "shape": {
                "columns": 1,
                "rows": 8
              }
            },
            "text/plain": [
              "count    100000.000000\n",
              "mean        614.951381\n",
              "std        1999.726647\n",
              "min           0.000000\n",
              "25%          77.017414\n",
              "50%         135.925682\n",
              "75%         255.038698\n",
              "max       10000.000000\n",
              "Name: Amount_invested_monthly, dtype: float64"
            ]
          },
          "execution_count": 59,
          "metadata": {},
          "output_type": "execute_result"
        }
      ],
      "source": [
        "train_df['Amount_invested_monthly'].describe()"
      ]
    },
    {
      "cell_type": "markdown",
      "id": "3fc4812c",
      "metadata": {},
      "source": [
        "## Payment_Behaviour - Represents the payment behavior of the customer (in USD)"
      ]
    },
    {
      "cell_type": "code",
      "execution_count": 60,
      "id": "d98ae733",
      "metadata": {},
      "outputs": [],
      "source": [
        "train_df['Payment_Behaviour'] = (\n",
        "    train_df['Payment_Behaviour']\n",
        "    .replace('!@9#%8', 'Unknown')     # Sonderwert ersetzen\n",
        "    .fillna('Unknown')                # Fehlende Werte auffüllen\n",
        "    .astype(str)                      # Sicherstellen, dass alles String ist\n",
        "    .str.replace('_', ' ', regex=False)  # Unterstriche durch Leerzeichen ersetzen\n",
        "    .str.replace(r'\\s+', ' ', regex=True) # Mehrere Leerzeichen zu einem\n",
        "    .str.strip()                      # Leerzeichen am Anfang/Ende entfernen\n",
        "    .str.title()                      # Schön formatieren (\"low_spender\" → \"Low Spender\")\n",
        ")"
      ]
    },
    {
      "cell_type": "code",
      "execution_count": 61,
      "id": "ede8c3f4",
      "metadata": {},
      "outputs": [
        {
          "data": {
            "application/vnd.microsoft.datawrangler.viewer.v0+json": {
              "columns": [
                {
                  "name": "Payment_Behaviour",
                  "rawType": "object",
                  "type": "string"
                },
                {
                  "name": "count",
                  "rawType": "int64",
                  "type": "integer"
                }
              ],
              "ref": "91a46f2b-8a8d-4ecb-97a9-46ce9b7b055e",
              "rows": [
                [
                  "Low Spent Small Value Payments",
                  "25513"
                ],
                [
                  "High Spent Medium Value Payments",
                  "17540"
                ],
                [
                  "Low Spent Medium Value Payments",
                  "13861"
                ],
                [
                  "High Spent Large Value Payments",
                  "13721"
                ],
                [
                  "High Spent Small Value Payments",
                  "11340"
                ],
                [
                  "Low Spent Large Value Payments",
                  "10425"
                ],
                [
                  "Unknown",
                  "7600"
                ]
              ],
              "shape": {
                "columns": 1,
                "rows": 7
              }
            },
            "text/plain": [
              "Payment_Behaviour\n",
              "Low Spent Small Value Payments      25513\n",
              "High Spent Medium Value Payments    17540\n",
              "Low Spent Medium Value Payments     13861\n",
              "High Spent Large Value Payments     13721\n",
              "High Spent Small Value Payments     11340\n",
              "Low Spent Large Value Payments      10425\n",
              "Unknown                              7600\n",
              "Name: count, dtype: int64"
            ]
          },
          "execution_count": 61,
          "metadata": {},
          "output_type": "execute_result"
        }
      ],
      "source": [
        "train_df['Payment_Behaviour'].value_counts()"
      ]
    },
    {
      "cell_type": "markdown",
      "id": "22799b9e",
      "metadata": {},
      "source": [
        "## Monthly_Balance - Represents the monthly balance amount of the customer (in USD)"
      ]
    },
    {
      "cell_type": "code",
      "execution_count": 62,
      "id": "7e89dffe",
      "metadata": {},
      "outputs": [],
      "source": [
        "train_df['Monthly_Balance'] = (\n",
        "    train_df['Monthly_Balance']\n",
        "    .astype(str)\n",
        "    .str.replace(r'[^0-9\\-\\.]', '', regex=True)       # Nur Ziffern, Minus, Punkt behalten\n",
        "    .replace({'': np.nan, '-': np.nan, '.': np.nan})  # Leere Strings oder Sonderzeichen → NaN\n",
        "    .pipe(pd.to_numeric, errors='coerce')             # In numerisch umwandeln\n",
        "    .where(lambda s: s > -1e6, other=np.nan)          # Unrealistische Werte (zu negativ) entfernen\n",
        "    .pipe(lambda s: s.fillna(s.median()))             # Fehlende Werte mit Median ersetzen\n",
        ")"
      ]
    },
    {
      "cell_type": "code",
      "execution_count": 63,
      "id": "a8d0fe3e",
      "metadata": {},
      "outputs": [
        {
          "data": {
            "application/vnd.microsoft.datawrangler.viewer.v0+json": {
              "columns": [
                {
                  "name": "index",
                  "rawType": "object",
                  "type": "string"
                },
                {
                  "name": "Monthly_Balance",
                  "rawType": "float64",
                  "type": "float"
                }
              ],
              "ref": "3b6d77a8-2de5-46b1-a9cf-742c104b3894",
              "rows": [
                [
                  "count",
                  "100000.0"
                ],
                [
                  "mean",
                  "401.7554939048529"
                ],
                [
                  "std",
                  "212.75001730578012"
                ],
                [
                  "min",
                  "0.0077596647753352"
                ],
                [
                  "25%",
                  "270.91386461372537"
                ],
                [
                  "50%",
                  "336.73122455696387"
                ],
                [
                  "75%",
                  "467.67059708236894"
                ],
                [
                  "max",
                  "1602.0405189622518"
                ]
              ],
              "shape": {
                "columns": 1,
                "rows": 8
              }
            },
            "text/plain": [
              "count    100000.000000\n",
              "mean        401.755494\n",
              "std         212.750017\n",
              "min           0.007760\n",
              "25%         270.913865\n",
              "50%         336.731225\n",
              "75%         467.670597\n",
              "max        1602.040519\n",
              "Name: Monthly_Balance, dtype: float64"
            ]
          },
          "execution_count": 63,
          "metadata": {},
          "output_type": "execute_result"
        }
      ],
      "source": [
        "train_df['Monthly_Balance'].describe()"
      ]
    },
    {
      "cell_type": "markdown",
      "id": "c978b864",
      "metadata": {},
      "source": [
        "## Credit_Score - Represents the bracket of credit score (Poor, Standard, Good)"
      ]
    },
    {
      "cell_type": "code",
      "execution_count": 64,
      "id": "8ebdd8d3",
      "metadata": {},
      "outputs": [],
      "source": [
        "train_df['Credit_Score'] = train_df['Credit_Score'].str.title()"
      ]
    },
    {
      "cell_type": "code",
      "execution_count": 65,
      "id": "d8094ddc",
      "metadata": {},
      "outputs": [
        {
          "data": {
            "application/vnd.microsoft.datawrangler.viewer.v0+json": {
              "columns": [
                {
                  "name": "Credit_Score",
                  "rawType": "object",
                  "type": "string"
                },
                {
                  "name": "count",
                  "rawType": "int64",
                  "type": "integer"
                }
              ],
              "ref": "2de69f70-e19e-44a1-b653-8712dfc9ca3f",
              "rows": [
                [
                  "Standard",
                  "53174"
                ],
                [
                  "Poor",
                  "28998"
                ],
                [
                  "Good",
                  "17828"
                ]
              ],
              "shape": {
                "columns": 1,
                "rows": 3
              }
            },
            "text/plain": [
              "Credit_Score\n",
              "Standard    53174\n",
              "Poor        28998\n",
              "Good        17828\n",
              "Name: count, dtype: int64"
            ]
          },
          "execution_count": 65,
          "metadata": {},
          "output_type": "execute_result"
        }
      ],
      "source": [
        "train_df['Credit_Score'].value_counts()"
      ]
    },
    {
      "cell_type": "markdown",
      "id": "04ac0e6f",
      "metadata": {},
      "source": [
        "### Qualitätscheck nach der Bereinigung\n"
      ]
    },
    {
      "cell_type": "code",
      "execution_count": 66,
      "id": "0ef56c6d",
      "metadata": {},
      "outputs": [
        {
          "data": {
            "application/vnd.microsoft.datawrangler.viewer.v0+json": {
              "columns": [
                {
                  "name": "index",
                  "rawType": "object",
                  "type": "string"
                },
                {
                  "name": "0",
                  "rawType": "object",
                  "type": "unknown"
                }
              ],
              "ref": "a2b157c8-8bb8-4e9d-89fe-ef15e69a96fd",
              "rows": [
                [
                  "ID",
                  "object"
                ],
                [
                  "Customer_ID",
                  "object"
                ],
                [
                  "Month",
                  "object"
                ],
                [
                  "Name",
                  "object"
                ],
                [
                  "Age",
                  "Int64"
                ],
                [
                  "SSN",
                  "object"
                ],
                [
                  "Occupation",
                  "object"
                ],
                [
                  "Annual_Income",
                  "float64"
                ],
                [
                  "Monthly_Inhand_Salary",
                  "float64"
                ],
                [
                  "Num_Bank_Accounts",
                  "Int64"
                ],
                [
                  "Num_Credit_Card",
                  "Int64"
                ],
                [
                  "Interest_Rate",
                  "Int64"
                ],
                [
                  "Num_of_Loan",
                  "Int64"
                ],
                [
                  "Type_of_Loan",
                  "object"
                ],
                [
                  "Delay_from_due_date",
                  "Int64"
                ],
                [
                  "Num_of_Delayed_Payment",
                  "Int64"
                ],
                [
                  "Changed_Credit_Limit",
                  "float64"
                ],
                [
                  "Num_Credit_Inquiries",
                  "Int64"
                ],
                [
                  "Credit_Mix",
                  "object"
                ],
                [
                  "Outstanding_Debt",
                  "float64"
                ],
                [
                  "Credit_Utilization_Ratio",
                  "float64"
                ],
                [
                  "Credit_History_Age",
                  "Int64"
                ],
                [
                  "Payment_of_Min_Amount",
                  "object"
                ],
                [
                  "Total_EMI_per_month",
                  "float64"
                ],
                [
                  "Amount_invested_monthly",
                  "float64"
                ],
                [
                  "Payment_Behaviour",
                  "object"
                ],
                [
                  "Monthly_Balance",
                  "float64"
                ],
                [
                  "Credit_Score",
                  "object"
                ]
              ],
              "shape": {
                "columns": 1,
                "rows": 28
              }
            },
            "text/plain": [
              "ID                           object\n",
              "Customer_ID                  object\n",
              "Month                        object\n",
              "Name                         object\n",
              "Age                           Int64\n",
              "SSN                          object\n",
              "Occupation                   object\n",
              "Annual_Income               float64\n",
              "Monthly_Inhand_Salary       float64\n",
              "Num_Bank_Accounts             Int64\n",
              "Num_Credit_Card               Int64\n",
              "Interest_Rate                 Int64\n",
              "Num_of_Loan                   Int64\n",
              "Type_of_Loan                 object\n",
              "Delay_from_due_date           Int64\n",
              "Num_of_Delayed_Payment        Int64\n",
              "Changed_Credit_Limit        float64\n",
              "Num_Credit_Inquiries          Int64\n",
              "Credit_Mix                   object\n",
              "Outstanding_Debt            float64\n",
              "Credit_Utilization_Ratio    float64\n",
              "Credit_History_Age            Int64\n",
              "Payment_of_Min_Amount        object\n",
              "Total_EMI_per_month         float64\n",
              "Amount_invested_monthly     float64\n",
              "Payment_Behaviour            object\n",
              "Monthly_Balance             float64\n",
              "Credit_Score                 object\n",
              "dtype: object"
            ]
          },
          "execution_count": 66,
          "metadata": {},
          "output_type": "execute_result"
        }
      ],
      "source": [
        "train_df.isna().sum()\n",
        "train_df.dtypes"
      ]
    },
    {
      "cell_type": "markdown",
      "id": "e98c1d88",
      "metadata": {},
      "source": [
        "# 2️⃣ Datenbereinigung - test"
      ]
    },
    {
      "cell_type": "markdown",
      "id": "228fb3e9",
      "metadata": {},
      "source": [
        "## Hilfsfunktion aus train\n",
        "\n",
        "Die vorgenommenen Bereinigungsschritte aus train werden für test angewendet (außer für Credit_Score)"
      ]
    },
    {
      "cell_type": "code",
      "execution_count": 67,
      "id": "52db6fb0",
      "metadata": {},
      "outputs": [],
      "source": [
        "def clean_dataframe(df: pd.DataFrame) -> pd.DataFrame:\n",
        "    \"\"\"Wendet die train-Bereinigung auf eine Kopie von df an.\"\"\"\n",
        "    cleaned = df.copy()\n",
        "\n",
        "    ssn_placeholders = {'#F%$D@*&8'}\n",
        "    ssn_pattern = re.compile(r'^\\d{3}-\\d{2}-\\d{4}$')\n",
        "\n",
        "    def _strip_identifier(column_name):\n",
        "        if column_name in cleaned.columns:\n",
        "            cleaned[column_name] = cleaned[column_name].astype(str).str.strip()\n",
        "\n",
        "    def _numeric_from_string(column_name, clip_lower=None, clip_upper=None, fill='median', as_int=False):\n",
        "        if column_name not in cleaned.columns:\n",
        "            return\n",
        "        series = (\n",
        "            cleaned[column_name]\n",
        "            .astype(str)\n",
        "            .str.replace(r'[^0-9\\-\\.]', '', regex=True)\n",
        "            .replace({'': np.nan, '-': np.nan, '.': np.nan, 'nan': np.nan, 'None': np.nan})\n",
        "        )\n",
        "        numeric = pd.to_numeric(series, errors='coerce')\n",
        "        if clip_lower is not None:\n",
        "            numeric = numeric.clip(lower=clip_lower)\n",
        "        if clip_upper is not None:\n",
        "            numeric = numeric.clip(upper=clip_upper)\n",
        "        if fill == 'median':\n",
        "            fill_value = numeric.median()\n",
        "            if pd.isna(fill_value):\n",
        "                fill_value = 0\n",
        "            numeric = numeric.fillna(fill_value)\n",
        "        elif fill is not None:\n",
        "            numeric = numeric.fillna(fill)\n",
        "        if as_int:\n",
        "            numeric = numeric.round().astype('Int64')\n",
        "        cleaned[column_name] = numeric\n",
        "\n",
        "    for column in ('ID', 'Customer_ID'):\n",
        "        _strip_identifier(column)\n",
        "\n",
        "    if 'Name' in cleaned.columns:\n",
        "        name = (\n",
        "            cleaned['Name']\n",
        "            .fillna('Unknown')\n",
        "            .astype(str)\n",
        "            .str.strip()\n",
        "            .str.replace(r\"\\s+\", ' ', regex=True)\n",
        "            .str.title()\n",
        "        )\n",
        "        cleaned['Name'] = name\n",
        "\n",
        "    if 'SSN' in cleaned.columns:\n",
        "        ssn = cleaned['SSN'].astype('string').str.strip()\n",
        "        ssn = ssn.where(~ssn.isin(ssn_placeholders), other=pd.NA)\n",
        "        ssn = ssn.where(ssn.str.fullmatch(ssn_pattern), other=pd.NA)\n",
        "        cleaned['SSN'] = ssn\n",
        "\n",
        "    if 'Month' in cleaned.columns:\n",
        "        cleaned['Month'] = (\n",
        "            cleaned['Month']\n",
        "            .astype('string')\n",
        "            .str.strip()\n",
        "            .str.title()\n",
        "        )\n",
        "\n",
        "    if 'Age' in cleaned.columns:\n",
        "        age = cleaned['Age'].astype('string').str.replace('_', '', regex=False)\n",
        "        age = pd.to_numeric(age, errors='coerce').abs()\n",
        "        mask = age >= 100\n",
        "        age.loc[mask] = age.loc[mask].astype(str).str[:2].astype(float)\n",
        "        mask = age >= 100\n",
        "        age.loc[mask] = age.loc[mask].astype(str).str[:1].astype(float)\n",
        "        age = age.clip(lower=18, upper=90)\n",
        "        median_age = age.median()\n",
        "        if pd.isna(median_age):\n",
        "            median_age = 30\n",
        "        age = age.fillna(median_age)\n",
        "        cleaned['Age'] = age.round().astype('Int64')\n",
        "\n",
        "    if 'Occupation' in cleaned.columns:\n",
        "        occupation = cleaned['Occupation'].astype('string').replace('_______', 'Unknown')\n",
        "        occupation = occupation.fillna('Unknown')\n",
        "        occupation = (\n",
        "            occupation\n",
        "            .str.replace('_', ' ', regex=False)\n",
        "            .str.replace(r\"\\s+\", ' ', regex=True)\n",
        "            .str.strip()\n",
        "            .str.title()\n",
        "        )\n",
        "        cleaned['Occupation'] = occupation\n",
        "\n",
        "    _numeric_from_string('Annual_Income', clip_lower=0)\n",
        "\n",
        "    if 'Monthly_Inhand_Salary' in cleaned.columns and 'Annual_Income' in cleaned.columns:\n",
        "        monthly = pd.to_numeric(cleaned['Monthly_Inhand_Salary'], errors='coerce')\n",
        "        monthly = monthly.fillna(cleaned['Annual_Income'] / 12)\n",
        "        cleaned['Monthly_Inhand_Salary'] = monthly\n",
        "\n",
        "    for column in ('Num_Bank_Accounts', 'Num_Credit_Card', 'Interest_Rate', 'Num_of_Loan'):\n",
        "        _numeric_from_string(column, clip_lower=0, as_int=True)\n",
        "\n",
        "    if 'Type_of_Loan' in cleaned.columns:\n",
        "        def _format_loans(value):\n",
        "            if not isinstance(value, str):\n",
        "                return 'Unknown'\n",
        "            value = value.strip()\n",
        "            if not value or value.lower() in {'unknown', 'nan'}:\n",
        "                return 'Unknown'\n",
        "            normalized = value.replace(' and ', ', ')\n",
        "            parts = [\n",
        "                part.strip().title().replace('_', ' ').replace('-', ' ')\n",
        "                for part in re.split(r',\\s*', normalized)\n",
        "                if part.strip()\n",
        "            ]\n",
        "            return ', '.join(dict.fromkeys(parts)) or 'Unknown'\n",
        "\n",
        "        cleaned['Type_of_Loan'] = cleaned['Type_of_Loan'].astype(str).apply(_format_loans)\n",
        "\n",
        "    _numeric_from_string('Delay_from_due_date', clip_lower=0, as_int=True)\n",
        "\n",
        "    if 'Num_of_Delayed_Payment' in cleaned.columns:\n",
        "        delayed = (\n",
        "            cleaned['Num_of_Delayed_Payment']\n",
        "            .astype(str)\n",
        "            .str.replace(r'[^0-9\\-\\.]', '', regex=True)\n",
        "            .replace({'': np.nan, '-': np.nan, '.': np.nan, 'nan': np.nan, 'None': np.nan})\n",
        "            .pipe(pd.to_numeric, errors='coerce')\n",
        "            .clip(lower=0)\n",
        "        )\n",
        "        fill_value = delayed.median()\n",
        "        if pd.isna(fill_value):\n",
        "            fill_value = 0\n",
        "        delayed = delayed.fillna(fill_value).round().astype('Int64')\n",
        "        cleaned['Num_of_Delayed_Payment'] = delayed\n",
        "\n",
        "    _numeric_from_string('Changed_Credit_Limit', fill=0)\n",
        "    _numeric_from_string('Num_Credit_Inquiries', clip_lower=0, as_int=True)\n",
        "\n",
        "    if 'Credit_Mix' in cleaned.columns:\n",
        "        mix = cleaned['Credit_Mix'].replace('_', 'Unknown').fillna('Unknown').astype(str)\n",
        "        cleaned['Credit_Mix'] = mix.str.title()\n",
        "\n",
        "    _numeric_from_string('Outstanding_Debt', clip_lower=0)\n",
        "    _numeric_from_string('Credit_Utilization_Ratio', clip_lower=0, clip_upper=100)\n",
        "\n",
        "    if 'Credit_History_Age' in cleaned.columns:\n",
        "        history = cleaned['Credit_History_Age'].astype('string')\n",
        "        years = pd.to_numeric(history.str.extract(r'(\\d+)\\s*Years', expand=False), errors='coerce').fillna(0)\n",
        "        months = pd.to_numeric(history.str.extract(r'(\\d+)\\s*Months', expand=False), errors='coerce').fillna(0)\n",
        "        total_months = years * 12 + months\n",
        "        total_months = total_months.where(total_months > 0, other=np.nan)\n",
        "        median_history = total_months.median()\n",
        "        if pd.isna(median_history):\n",
        "            median_history = 0\n",
        "        cleaned['Credit_History_Age'] = total_months.fillna(median_history).round().astype('Int64')\n",
        "\n",
        "    if 'Payment_of_Min_Amount' in cleaned.columns:\n",
        "        payment_min = cleaned['Payment_of_Min_Amount'].replace('NM', 'Unknown')\n",
        "        payment_min = payment_min.fillna('Unknown').astype(str)\n",
        "        cleaned['Payment_of_Min_Amount'] = payment_min.str.title()\n",
        "\n",
        "    for column in ('Total_EMI_per_month', 'Amount_invested_monthly'):\n",
        "        _numeric_from_string(column, clip_lower=0)\n",
        "\n",
        "    if 'Payment_Behaviour' in cleaned.columns:\n",
        "        behaviour = (\n",
        "            cleaned['Payment_Behaviour']\n",
        "            .replace('!@9#%8', 'Unknown')\n",
        "            .fillna('Unknown')\n",
        "            .astype(str)\n",
        "            .str.replace('_', ' ', regex=False)\n",
        "            .str.replace(r\"\\s+\", ' ', regex=True)\n",
        "            .str.strip()\n",
        "            .str.title()\n",
        "        )\n",
        "        cleaned['Payment_Behaviour'] = behaviour\n",
        "\n",
        "    if 'Monthly_Balance' in cleaned.columns:\n",
        "        balance = (\n",
        "            cleaned['Monthly_Balance']\n",
        "            .astype(str)\n",
        "            .str.replace(r'[^0-9\\-\\.]', '', regex=True)\n",
        "            .replace({'': np.nan, '-': np.nan, '.': np.nan, 'nan': np.nan, 'None': np.nan})\n",
        "            .pipe(pd.to_numeric, errors='coerce')\n",
        "        )\n",
        "        balance = balance.where(balance > -1e6, other=np.nan)\n",
        "        median_balance = balance.median()\n",
        "        if pd.isna(median_balance):\n",
        "            median_balance = 0\n",
        "        cleaned['Monthly_Balance'] = balance.fillna(median_balance)\n",
        "\n",
        "    if 'Credit_Score' in cleaned.columns:\n",
        "        cleaned['Credit_Score'] = cleaned['Credit_Score'].astype(str).str.title()\n",
        "\n",
        "    return cleaned"
      ]
    },
    {
      "cell_type": "markdown",
      "id": "91911a59",
      "metadata": {},
      "source": [
        "## Überprüfung"
      ]
    },
    {
      "cell_type": "code",
      "execution_count": 68,
      "id": "69e6b509",
      "metadata": {},
      "outputs": [
        {
          "name": "stdout",
          "output_type": "stream",
          "text": [
            "<class 'pandas.core.frame.DataFrame'>\n",
            "RangeIndex: 50000 entries, 0 to 49999\n",
            "Data columns (total 27 columns):\n",
            " #   Column                    Non-Null Count  Dtype  \n",
            "---  ------                    --------------  -----  \n",
            " 0   ID                        50000 non-null  object \n",
            " 1   Customer_ID               50000 non-null  object \n",
            " 2   Month                     50000 non-null  string \n",
            " 3   Name                      50000 non-null  object \n",
            " 4   Age                       50000 non-null  Int64  \n",
            " 5   SSN                       47172 non-null  string \n",
            " 6   Occupation                50000 non-null  string \n",
            " 7   Annual_Income             50000 non-null  float64\n",
            " 8   Monthly_Inhand_Salary     50000 non-null  float64\n",
            " 9   Num_Bank_Accounts         50000 non-null  Int64  \n",
            " 10  Num_Credit_Card           50000 non-null  Int64  \n",
            " 11  Interest_Rate             50000 non-null  Int64  \n",
            " 12  Num_of_Loan               50000 non-null  Int64  \n",
            " 13  Type_of_Loan              50000 non-null  object \n",
            " 14  Delay_from_due_date       50000 non-null  Int64  \n",
            " 15  Num_of_Delayed_Payment    50000 non-null  Int64  \n",
            " 16  Changed_Credit_Limit      50000 non-null  float64\n",
            " 17  Num_Credit_Inquiries      50000 non-null  Int64  \n",
            " 18  Credit_Mix                50000 non-null  object \n",
            " 19  Outstanding_Debt          50000 non-null  float64\n",
            " 20  Credit_Utilization_Ratio  50000 non-null  float64\n",
            " 21  Credit_History_Age        50000 non-null  Int64  \n",
            " 22  Payment_of_Min_Amount     50000 non-null  object \n",
            " 23  Total_EMI_per_month       50000 non-null  float64\n",
            " 24  Amount_invested_monthly   50000 non-null  float64\n",
            " 25  Payment_Behaviour         50000 non-null  object \n",
            " 26  Monthly_Balance           50000 non-null  float64\n",
            "dtypes: Int64(9), float64(8), object(7), string(3)\n",
            "memory usage: 10.7+ MB\n"
          ]
        }
      ],
      "source": [
        "test_df = clean_dataframe(test_df)\n",
        "test_df.info()"
      ]
    },
    {
      "cell_type": "markdown",
      "id": "8eed09ed",
      "metadata": {},
      "source": [
        "# 3️⃣ Export"
      ]
    },
    {
      "cell_type": "code",
      "execution_count": 69,
      "id": "746cf869",
      "metadata": {},
      "outputs": [],
      "source": [
        "train_df.to_csv(\"../data/train_cleaned.csv\")\n",
        "test_df.to_csv(\"../data/test_cleaned.csv\")"
      ]
    }
  ],
  "metadata": {
    "kernelspec": {
      "display_name": "MALE01",
      "language": "python",
      "name": "python3"
    },
    "language_info": {
      "codemirror_mode": {
        "name": "ipython",
        "version": 3
      },
      "file_extension": ".py",
      "mimetype": "text/x-python",
      "name": "python",
      "nbconvert_exporter": "python",
      "pygments_lexer": "ipython3",
      "version": "3.13.2"
    }
  },
  "nbformat": 4,
  "nbformat_minor": 5
}
