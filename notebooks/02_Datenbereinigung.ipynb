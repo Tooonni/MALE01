{
  "cells": [
    {
      "cell_type": "markdown",
      "id": "1a364235",
      "metadata": {},
      "source": [
        "# Imports"
      ]
    },
    {
      "cell_type": "code",
      "execution_count": 1,
      "id": "e070092d",
      "metadata": {},
      "outputs": [],
      "source": [
        "import pandas as pd\n",
        "import numpy as np\n",
        "import matplotlib.pyplot as plt\n",
        "import seaborn as sns\n",
        "import re"
      ]
    },
    {
      "cell_type": "code",
      "execution_count": 2,
      "id": "fd6c7e3f",
      "metadata": {},
      "outputs": [
        {
          "name": "stderr",
          "output_type": "stream",
          "text": [
            "/var/folders/0c/r0htcd1j05v_lb53s4xtzbn80000gn/T/ipykernel_17930/3018219347.py:1: DtypeWarning: Columns (26) have mixed types. Specify dtype option on import or set low_memory=False.\n",
            "  train_df = pd.read_csv(\"../data/train.csv\")\n"
          ]
        }
      ],
      "source": [
        "train_df = pd.read_csv(\"../data/train.csv\")\n",
        "test_df = pd.read_csv(\"../data/test.csv\")"
      ]
    },
    {
      "cell_type": "markdown",
      "id": "00124913",
      "metadata": {},
      "source": [
        "# 1️⃣ Datenbereinigung - train"
      ]
    },
    {
      "cell_type": "code",
      "execution_count": 3,
      "id": "8e9fdac2",
      "metadata": {},
      "outputs": [
        {
          "name": "stdout",
          "output_type": "stream",
          "text": [
            "<class 'pandas.core.frame.DataFrame'>\n",
            "RangeIndex: 100000 entries, 0 to 99999\n",
            "Data columns (total 28 columns):\n",
            " #   Column                    Non-Null Count   Dtype  \n",
            "---  ------                    --------------   -----  \n",
            " 0   ID                        100000 non-null  object \n",
            " 1   Customer_ID               100000 non-null  object \n",
            " 2   Month                     100000 non-null  object \n",
            " 3   Name                      90015 non-null   object \n",
            " 4   Age                       100000 non-null  object \n",
            " 5   SSN                       100000 non-null  object \n",
            " 6   Occupation                100000 non-null  object \n",
            " 7   Annual_Income             100000 non-null  object \n",
            " 8   Monthly_Inhand_Salary     84998 non-null   float64\n",
            " 9   Num_Bank_Accounts         100000 non-null  int64  \n",
            " 10  Num_Credit_Card           100000 non-null  int64  \n",
            " 11  Interest_Rate             100000 non-null  int64  \n",
            " 12  Num_of_Loan               100000 non-null  object \n",
            " 13  Type_of_Loan              88592 non-null   object \n",
            " 14  Delay_from_due_date       100000 non-null  int64  \n",
            " 15  Num_of_Delayed_Payment    92998 non-null   object \n",
            " 16  Changed_Credit_Limit      100000 non-null  object \n",
            " 17  Num_Credit_Inquiries      98035 non-null   float64\n",
            " 18  Credit_Mix                100000 non-null  object \n",
            " 19  Outstanding_Debt          100000 non-null  object \n",
            " 20  Credit_Utilization_Ratio  100000 non-null  float64\n",
            " 21  Credit_History_Age        90970 non-null   object \n",
            " 22  Payment_of_Min_Amount     100000 non-null  object \n",
            " 23  Total_EMI_per_month       100000 non-null  float64\n",
            " 24  Amount_invested_monthly   95521 non-null   object \n",
            " 25  Payment_Behaviour         100000 non-null  object \n",
            " 26  Monthly_Balance           98800 non-null   object \n",
            " 27  Credit_Score              100000 non-null  object \n",
            "dtypes: float64(4), int64(4), object(20)\n",
            "memory usage: 21.4+ MB\n"
          ]
        }
      ],
      "source": [
        "train_df.info()"
      ]
    },
    {
      "cell_type": "code",
      "execution_count": 4,
      "id": "c6bd3eed",
      "metadata": {},
      "outputs": [
        {
          "data": {
            "application/vnd.microsoft.datawrangler.viewer.v0+json": {
              "columns": [
                {
                  "name": "index",
                  "rawType": "int64",
                  "type": "integer"
                },
                {
                  "name": "ID",
                  "rawType": "object",
                  "type": "string"
                },
                {
                  "name": "Customer_ID",
                  "rawType": "object",
                  "type": "string"
                },
                {
                  "name": "Month",
                  "rawType": "object",
                  "type": "string"
                },
                {
                  "name": "Name",
                  "rawType": "object",
                  "type": "string"
                },
                {
                  "name": "Age",
                  "rawType": "object",
                  "type": "string"
                },
                {
                  "name": "SSN",
                  "rawType": "object",
                  "type": "string"
                },
                {
                  "name": "Occupation",
                  "rawType": "object",
                  "type": "string"
                },
                {
                  "name": "Annual_Income",
                  "rawType": "object",
                  "type": "string"
                },
                {
                  "name": "Monthly_Inhand_Salary",
                  "rawType": "float64",
                  "type": "float"
                },
                {
                  "name": "Num_Bank_Accounts",
                  "rawType": "int64",
                  "type": "integer"
                },
                {
                  "name": "Num_Credit_Card",
                  "rawType": "int64",
                  "type": "integer"
                },
                {
                  "name": "Interest_Rate",
                  "rawType": "int64",
                  "type": "integer"
                },
                {
                  "name": "Num_of_Loan",
                  "rawType": "object",
                  "type": "string"
                },
                {
                  "name": "Type_of_Loan",
                  "rawType": "object",
                  "type": "string"
                },
                {
                  "name": "Delay_from_due_date",
                  "rawType": "int64",
                  "type": "integer"
                },
                {
                  "name": "Num_of_Delayed_Payment",
                  "rawType": "object",
                  "type": "unknown"
                },
                {
                  "name": "Changed_Credit_Limit",
                  "rawType": "object",
                  "type": "string"
                },
                {
                  "name": "Num_Credit_Inquiries",
                  "rawType": "float64",
                  "type": "float"
                },
                {
                  "name": "Credit_Mix",
                  "rawType": "object",
                  "type": "string"
                },
                {
                  "name": "Outstanding_Debt",
                  "rawType": "object",
                  "type": "string"
                },
                {
                  "name": "Credit_Utilization_Ratio",
                  "rawType": "float64",
                  "type": "float"
                },
                {
                  "name": "Credit_History_Age",
                  "rawType": "object",
                  "type": "unknown"
                },
                {
                  "name": "Payment_of_Min_Amount",
                  "rawType": "object",
                  "type": "string"
                },
                {
                  "name": "Total_EMI_per_month",
                  "rawType": "float64",
                  "type": "float"
                },
                {
                  "name": "Amount_invested_monthly",
                  "rawType": "object",
                  "type": "string"
                },
                {
                  "name": "Payment_Behaviour",
                  "rawType": "object",
                  "type": "string"
                },
                {
                  "name": "Monthly_Balance",
                  "rawType": "object",
                  "type": "string"
                },
                {
                  "name": "Credit_Score",
                  "rawType": "object",
                  "type": "string"
                }
              ],
              "ref": "7b775e2e-210a-4bf0-b979-7ea007b8c23e",
              "rows": [
                [
                  "0",
                  "0x1602",
                  "CUS_0xd40",
                  "January",
                  "Aaron Maashoh",
                  "23",
                  "821-00-0265",
                  "Scientist",
                  "19114.12",
                  "1824.8433333333328",
                  "3",
                  "4",
                  "3",
                  "4",
                  "Auto Loan, Credit-Builder Loan, Personal Loan, and Home Equity Loan",
                  "3",
                  "7",
                  "11.27",
                  "4.0",
                  "_",
                  "809.98",
                  "26.822619623699016",
                  "22 Years and 1 Months",
                  "No",
                  "49.57494921489417",
                  "80.41529543900253",
                  "High_spent_Small_value_payments",
                  "312.49408867943663",
                  "Good"
                ],
                [
                  "1",
                  "0x1603",
                  "CUS_0xd40",
                  "February",
                  "Aaron Maashoh",
                  "23",
                  "821-00-0265",
                  "Scientist",
                  "19114.12",
                  null,
                  "3",
                  "4",
                  "3",
                  "4",
                  "Auto Loan, Credit-Builder Loan, Personal Loan, and Home Equity Loan",
                  "-1",
                  null,
                  "11.27",
                  "4.0",
                  "Good",
                  "809.98",
                  "31.94496005538421",
                  null,
                  "No",
                  "49.57494921489417",
                  "118.28022162236736",
                  "Low_spent_Large_value_payments",
                  "284.62916249607184",
                  "Good"
                ],
                [
                  "2",
                  "0x1604",
                  "CUS_0xd40",
                  "March",
                  "Aaron Maashoh",
                  "-500",
                  "821-00-0265",
                  "Scientist",
                  "19114.12",
                  null,
                  "3",
                  "4",
                  "3",
                  "4",
                  "Auto Loan, Credit-Builder Loan, Personal Loan, and Home Equity Loan",
                  "3",
                  "7",
                  "_",
                  "4.0",
                  "Good",
                  "809.98",
                  "28.60935202206993",
                  "22 Years and 3 Months",
                  "No",
                  "49.57494921489417",
                  "81.699521264648",
                  "Low_spent_Medium_value_payments",
                  "331.2098628537912",
                  "Good"
                ],
                [
                  "3",
                  "0x1605",
                  "CUS_0xd40",
                  "April",
                  "Aaron Maashoh",
                  "23",
                  "821-00-0265",
                  "Scientist",
                  "19114.12",
                  null,
                  "3",
                  "4",
                  "3",
                  "4",
                  "Auto Loan, Credit-Builder Loan, Personal Loan, and Home Equity Loan",
                  "5",
                  "4",
                  "6.27",
                  "4.0",
                  "Good",
                  "809.98",
                  "31.37786186958235",
                  "22 Years and 4 Months",
                  "No",
                  "49.57494921489417",
                  "199.4580743910713",
                  "Low_spent_Small_value_payments",
                  "223.45130972736786",
                  "Good"
                ],
                [
                  "4",
                  "0x1606",
                  "CUS_0xd40",
                  "May",
                  "Aaron Maashoh",
                  "23",
                  "821-00-0265",
                  "Scientist",
                  "19114.12",
                  "1824.8433333333328",
                  "3",
                  "4",
                  "3",
                  "4",
                  "Auto Loan, Credit-Builder Loan, Personal Loan, and Home Equity Loan",
                  "6",
                  null,
                  "11.27",
                  "4.0",
                  "Good",
                  "809.98",
                  "24.797346908844982",
                  "22 Years and 5 Months",
                  "No",
                  "49.57494921489417",
                  "41.420153086217326",
                  "High_spent_Medium_value_payments",
                  "341.48923103222177",
                  "Good"
                ]
              ],
              "shape": {
                "columns": 28,
                "rows": 5
              }
            },
            "text/html": [
              "<div>\n",
              "<style scoped>\n",
              "    .dataframe tbody tr th:only-of-type {\n",
              "        vertical-align: middle;\n",
              "    }\n",
              "\n",
              "    .dataframe tbody tr th {\n",
              "        vertical-align: top;\n",
              "    }\n",
              "\n",
              "    .dataframe thead th {\n",
              "        text-align: right;\n",
              "    }\n",
              "</style>\n",
              "<table border=\"1\" class=\"dataframe\">\n",
              "  <thead>\n",
              "    <tr style=\"text-align: right;\">\n",
              "      <th></th>\n",
              "      <th>ID</th>\n",
              "      <th>Customer_ID</th>\n",
              "      <th>Month</th>\n",
              "      <th>Name</th>\n",
              "      <th>Age</th>\n",
              "      <th>SSN</th>\n",
              "      <th>Occupation</th>\n",
              "      <th>Annual_Income</th>\n",
              "      <th>Monthly_Inhand_Salary</th>\n",
              "      <th>Num_Bank_Accounts</th>\n",
              "      <th>...</th>\n",
              "      <th>Credit_Mix</th>\n",
              "      <th>Outstanding_Debt</th>\n",
              "      <th>Credit_Utilization_Ratio</th>\n",
              "      <th>Credit_History_Age</th>\n",
              "      <th>Payment_of_Min_Amount</th>\n",
              "      <th>Total_EMI_per_month</th>\n",
              "      <th>Amount_invested_monthly</th>\n",
              "      <th>Payment_Behaviour</th>\n",
              "      <th>Monthly_Balance</th>\n",
              "      <th>Credit_Score</th>\n",
              "    </tr>\n",
              "  </thead>\n",
              "  <tbody>\n",
              "    <tr>\n",
              "      <th>0</th>\n",
              "      <td>0x1602</td>\n",
              "      <td>CUS_0xd40</td>\n",
              "      <td>January</td>\n",
              "      <td>Aaron Maashoh</td>\n",
              "      <td>23</td>\n",
              "      <td>821-00-0265</td>\n",
              "      <td>Scientist</td>\n",
              "      <td>19114.12</td>\n",
              "      <td>1824.843333</td>\n",
              "      <td>3</td>\n",
              "      <td>...</td>\n",
              "      <td>_</td>\n",
              "      <td>809.98</td>\n",
              "      <td>26.822620</td>\n",
              "      <td>22 Years and 1 Months</td>\n",
              "      <td>No</td>\n",
              "      <td>49.574949</td>\n",
              "      <td>80.41529543900253</td>\n",
              "      <td>High_spent_Small_value_payments</td>\n",
              "      <td>312.49408867943663</td>\n",
              "      <td>Good</td>\n",
              "    </tr>\n",
              "    <tr>\n",
              "      <th>1</th>\n",
              "      <td>0x1603</td>\n",
              "      <td>CUS_0xd40</td>\n",
              "      <td>February</td>\n",
              "      <td>Aaron Maashoh</td>\n",
              "      <td>23</td>\n",
              "      <td>821-00-0265</td>\n",
              "      <td>Scientist</td>\n",
              "      <td>19114.12</td>\n",
              "      <td>NaN</td>\n",
              "      <td>3</td>\n",
              "      <td>...</td>\n",
              "      <td>Good</td>\n",
              "      <td>809.98</td>\n",
              "      <td>31.944960</td>\n",
              "      <td>NaN</td>\n",
              "      <td>No</td>\n",
              "      <td>49.574949</td>\n",
              "      <td>118.28022162236736</td>\n",
              "      <td>Low_spent_Large_value_payments</td>\n",
              "      <td>284.62916249607184</td>\n",
              "      <td>Good</td>\n",
              "    </tr>\n",
              "    <tr>\n",
              "      <th>2</th>\n",
              "      <td>0x1604</td>\n",
              "      <td>CUS_0xd40</td>\n",
              "      <td>March</td>\n",
              "      <td>Aaron Maashoh</td>\n",
              "      <td>-500</td>\n",
              "      <td>821-00-0265</td>\n",
              "      <td>Scientist</td>\n",
              "      <td>19114.12</td>\n",
              "      <td>NaN</td>\n",
              "      <td>3</td>\n",
              "      <td>...</td>\n",
              "      <td>Good</td>\n",
              "      <td>809.98</td>\n",
              "      <td>28.609352</td>\n",
              "      <td>22 Years and 3 Months</td>\n",
              "      <td>No</td>\n",
              "      <td>49.574949</td>\n",
              "      <td>81.699521264648</td>\n",
              "      <td>Low_spent_Medium_value_payments</td>\n",
              "      <td>331.2098628537912</td>\n",
              "      <td>Good</td>\n",
              "    </tr>\n",
              "    <tr>\n",
              "      <th>3</th>\n",
              "      <td>0x1605</td>\n",
              "      <td>CUS_0xd40</td>\n",
              "      <td>April</td>\n",
              "      <td>Aaron Maashoh</td>\n",
              "      <td>23</td>\n",
              "      <td>821-00-0265</td>\n",
              "      <td>Scientist</td>\n",
              "      <td>19114.12</td>\n",
              "      <td>NaN</td>\n",
              "      <td>3</td>\n",
              "      <td>...</td>\n",
              "      <td>Good</td>\n",
              "      <td>809.98</td>\n",
              "      <td>31.377862</td>\n",
              "      <td>22 Years and 4 Months</td>\n",
              "      <td>No</td>\n",
              "      <td>49.574949</td>\n",
              "      <td>199.4580743910713</td>\n",
              "      <td>Low_spent_Small_value_payments</td>\n",
              "      <td>223.45130972736786</td>\n",
              "      <td>Good</td>\n",
              "    </tr>\n",
              "    <tr>\n",
              "      <th>4</th>\n",
              "      <td>0x1606</td>\n",
              "      <td>CUS_0xd40</td>\n",
              "      <td>May</td>\n",
              "      <td>Aaron Maashoh</td>\n",
              "      <td>23</td>\n",
              "      <td>821-00-0265</td>\n",
              "      <td>Scientist</td>\n",
              "      <td>19114.12</td>\n",
              "      <td>1824.843333</td>\n",
              "      <td>3</td>\n",
              "      <td>...</td>\n",
              "      <td>Good</td>\n",
              "      <td>809.98</td>\n",
              "      <td>24.797347</td>\n",
              "      <td>22 Years and 5 Months</td>\n",
              "      <td>No</td>\n",
              "      <td>49.574949</td>\n",
              "      <td>41.420153086217326</td>\n",
              "      <td>High_spent_Medium_value_payments</td>\n",
              "      <td>341.48923103222177</td>\n",
              "      <td>Good</td>\n",
              "    </tr>\n",
              "  </tbody>\n",
              "</table>\n",
              "<p>5 rows × 28 columns</p>\n",
              "</div>"
            ],
            "text/plain": [
              "       ID Customer_ID     Month           Name   Age          SSN Occupation  \\\n",
              "0  0x1602   CUS_0xd40   January  Aaron Maashoh    23  821-00-0265  Scientist   \n",
              "1  0x1603   CUS_0xd40  February  Aaron Maashoh    23  821-00-0265  Scientist   \n",
              "2  0x1604   CUS_0xd40     March  Aaron Maashoh  -500  821-00-0265  Scientist   \n",
              "3  0x1605   CUS_0xd40     April  Aaron Maashoh    23  821-00-0265  Scientist   \n",
              "4  0x1606   CUS_0xd40       May  Aaron Maashoh    23  821-00-0265  Scientist   \n",
              "\n",
              "  Annual_Income  Monthly_Inhand_Salary  Num_Bank_Accounts  ...  Credit_Mix  \\\n",
              "0      19114.12            1824.843333                  3  ...           _   \n",
              "1      19114.12                    NaN                  3  ...        Good   \n",
              "2      19114.12                    NaN                  3  ...        Good   \n",
              "3      19114.12                    NaN                  3  ...        Good   \n",
              "4      19114.12            1824.843333                  3  ...        Good   \n",
              "\n",
              "   Outstanding_Debt Credit_Utilization_Ratio     Credit_History_Age  \\\n",
              "0            809.98                26.822620  22 Years and 1 Months   \n",
              "1            809.98                31.944960                    NaN   \n",
              "2            809.98                28.609352  22 Years and 3 Months   \n",
              "3            809.98                31.377862  22 Years and 4 Months   \n",
              "4            809.98                24.797347  22 Years and 5 Months   \n",
              "\n",
              "   Payment_of_Min_Amount Total_EMI_per_month Amount_invested_monthly  \\\n",
              "0                     No           49.574949       80.41529543900253   \n",
              "1                     No           49.574949      118.28022162236736   \n",
              "2                     No           49.574949         81.699521264648   \n",
              "3                     No           49.574949       199.4580743910713   \n",
              "4                     No           49.574949      41.420153086217326   \n",
              "\n",
              "                  Payment_Behaviour     Monthly_Balance Credit_Score  \n",
              "0   High_spent_Small_value_payments  312.49408867943663         Good  \n",
              "1    Low_spent_Large_value_payments  284.62916249607184         Good  \n",
              "2   Low_spent_Medium_value_payments   331.2098628537912         Good  \n",
              "3    Low_spent_Small_value_payments  223.45130972736786         Good  \n",
              "4  High_spent_Medium_value_payments  341.48923103222177         Good  \n",
              "\n",
              "[5 rows x 28 columns]"
            ]
          },
          "execution_count": 4,
          "metadata": {},
          "output_type": "execute_result"
        }
      ],
      "source": [
        "train_df.head()"
      ]
    },
    {
      "cell_type": "markdown",
      "id": "14a3c74f",
      "metadata": {},
      "source": [
        "## Identifikatoren - ID, Customer_ID, Name, SSN\n",
        "- Entfernt überflüssige Leerzeichen in den ID-Spalten\n",
        "- Vereinheitlicht Namen und setzt fehlende Werte auf Unknown\n",
        "- Maskiert ungültige SSN-Einträge"
      ]
    },
    {
      "cell_type": "code",
      "execution_count": 5,
      "id": "5c45f4e8",
      "metadata": {},
      "outputs": [],
      "source": [
        "train_df['ID'] = train_df['ID'].astype(str).str.strip()\n",
        "train_df['Customer_ID'] = train_df['Customer_ID'].astype(str).str.strip()"
      ]
    },
    {
      "cell_type": "code",
      "execution_count": 6,
      "id": "12246a4d",
      "metadata": {},
      "outputs": [],
      "source": [
        "train_df['Name'] = (\n",
        "    train_df['Name']\n",
        "    .fillna('Unknown')\n",
        "    .astype(str)\n",
        "    .str.strip()\n",
        "    .str.replace(r\"\\s+\", \" \", regex=True)\n",
        "    .str.title()\n",
        ")"
      ]
    },
    {
      "cell_type": "code",
      "execution_count": 7,
      "id": "1507cd1a",
      "metadata": {},
      "outputs": [],
      "source": [
        "pattern = re.compile(r'^\\d{3}-\\d{2}-\\d{4}$')\n",
        "\n",
        "train_df['SSN'] = (\n",
        "    train_df['SSN']\n",
        "    .astype(str)\n",
        "    .str.strip()\n",
        "    .where(lambda s: s.apply(lambda x: bool(pattern.match(x)) if isinstance(x, str) else False), other=pd.NA)\n",
        ")"
      ]
    },
    {
      "cell_type": "code",
      "execution_count": 8,
      "id": "a6fed013",
      "metadata": {},
      "outputs": [
        {
          "data": {
            "application/vnd.microsoft.datawrangler.viewer.v0+json": {
              "columns": [
                {
                  "name": "index",
                  "rawType": "int64",
                  "type": "integer"
                },
                {
                  "name": "ID",
                  "rawType": "object",
                  "type": "string"
                },
                {
                  "name": "Customer_ID",
                  "rawType": "object",
                  "type": "string"
                },
                {
                  "name": "Name",
                  "rawType": "object",
                  "type": "string"
                },
                {
                  "name": "SSN",
                  "rawType": "object",
                  "type": "string"
                }
              ],
              "ref": "e4257c8a-be5f-4ac1-adce-0d452030f583",
              "rows": [
                [
                  "0",
                  "0x1602",
                  "CUS_0xd40",
                  "Aaron Maashoh",
                  "821-00-0265"
                ],
                [
                  "1",
                  "0x1603",
                  "CUS_0xd40",
                  "Aaron Maashoh",
                  "821-00-0265"
                ],
                [
                  "2",
                  "0x1604",
                  "CUS_0xd40",
                  "Aaron Maashoh",
                  "821-00-0265"
                ],
                [
                  "3",
                  "0x1605",
                  "CUS_0xd40",
                  "Aaron Maashoh",
                  "821-00-0265"
                ],
                [
                  "4",
                  "0x1606",
                  "CUS_0xd40",
                  "Aaron Maashoh",
                  "821-00-0265"
                ]
              ],
              "shape": {
                "columns": 4,
                "rows": 5
              }
            },
            "text/html": [
              "<div>\n",
              "<style scoped>\n",
              "    .dataframe tbody tr th:only-of-type {\n",
              "        vertical-align: middle;\n",
              "    }\n",
              "\n",
              "    .dataframe tbody tr th {\n",
              "        vertical-align: top;\n",
              "    }\n",
              "\n",
              "    .dataframe thead th {\n",
              "        text-align: right;\n",
              "    }\n",
              "</style>\n",
              "<table border=\"1\" class=\"dataframe\">\n",
              "  <thead>\n",
              "    <tr style=\"text-align: right;\">\n",
              "      <th></th>\n",
              "      <th>ID</th>\n",
              "      <th>Customer_ID</th>\n",
              "      <th>Name</th>\n",
              "      <th>SSN</th>\n",
              "    </tr>\n",
              "  </thead>\n",
              "  <tbody>\n",
              "    <tr>\n",
              "      <th>0</th>\n",
              "      <td>0x1602</td>\n",
              "      <td>CUS_0xd40</td>\n",
              "      <td>Aaron Maashoh</td>\n",
              "      <td>821-00-0265</td>\n",
              "    </tr>\n",
              "    <tr>\n",
              "      <th>1</th>\n",
              "      <td>0x1603</td>\n",
              "      <td>CUS_0xd40</td>\n",
              "      <td>Aaron Maashoh</td>\n",
              "      <td>821-00-0265</td>\n",
              "    </tr>\n",
              "    <tr>\n",
              "      <th>2</th>\n",
              "      <td>0x1604</td>\n",
              "      <td>CUS_0xd40</td>\n",
              "      <td>Aaron Maashoh</td>\n",
              "      <td>821-00-0265</td>\n",
              "    </tr>\n",
              "    <tr>\n",
              "      <th>3</th>\n",
              "      <td>0x1605</td>\n",
              "      <td>CUS_0xd40</td>\n",
              "      <td>Aaron Maashoh</td>\n",
              "      <td>821-00-0265</td>\n",
              "    </tr>\n",
              "    <tr>\n",
              "      <th>4</th>\n",
              "      <td>0x1606</td>\n",
              "      <td>CUS_0xd40</td>\n",
              "      <td>Aaron Maashoh</td>\n",
              "      <td>821-00-0265</td>\n",
              "    </tr>\n",
              "  </tbody>\n",
              "</table>\n",
              "</div>"
            ],
            "text/plain": [
              "       ID Customer_ID           Name          SSN\n",
              "0  0x1602   CUS_0xd40  Aaron Maashoh  821-00-0265\n",
              "1  0x1603   CUS_0xd40  Aaron Maashoh  821-00-0265\n",
              "2  0x1604   CUS_0xd40  Aaron Maashoh  821-00-0265\n",
              "3  0x1605   CUS_0xd40  Aaron Maashoh  821-00-0265\n",
              "4  0x1606   CUS_0xd40  Aaron Maashoh  821-00-0265"
            ]
          },
          "execution_count": 8,
          "metadata": {},
          "output_type": "execute_result"
        }
      ],
      "source": [
        "train_df[['ID', 'Customer_ID', 'Name', 'SSN']].head()"
      ]
    },
    {
      "cell_type": "markdown",
      "id": "455f3b0c",
      "metadata": {},
      "source": [
        "## Month - Represents the month of the year\n",
        "\n",
        "- Zu welchen Monat die Daten zu der ID gehören\n",
        "- Eine ID (Kunde) enthählt 3 Einträge zu seinem Konto und hat somit 3 Monate (Bsp. Mai bis Juli)"
      ]
    },
    {
      "cell_type": "code",
      "execution_count": 9,
      "id": "356ed5d9",
      "metadata": {},
      "outputs": [
        {
          "data": {
            "text/plain": [
              "0"
            ]
          },
          "execution_count": 9,
          "metadata": {},
          "output_type": "execute_result"
        }
      ],
      "source": [
        "train_df[\"Month\"].isna().sum()"
      ]
    },
    {
      "cell_type": "code",
      "execution_count": 10,
      "id": "e7064e61",
      "metadata": {},
      "outputs": [],
      "source": [
        "train_df['Month'] = (\n",
        "    train_df['Month']\n",
        "    .astype(str)\n",
        "    .str.strip()\n",
        "    .str.title()\n",
        ")"
      ]
    },
    {
      "cell_type": "code",
      "execution_count": 11,
      "id": "261bca9c",
      "metadata": {},
      "outputs": [
        {
          "data": {
            "image/png": "[encoded data removed]",
            "text/plain": [
              "<Figure size 640x480 with 1 Axes>"
            ]
          },
          "metadata": {},
          "output_type": "display_data"
        }
      ],
      "source": [
        "ax = sns.barplot(\n",
        "    x=train_df['Month'].value_counts().sort_index().index.astype(str),\n",
        "    y=train_df['Month'].value_counts().sort_index().values\n",
        ")\n",
        "\n",
        "for container in ax.containers:\n",
        "    ax.bar_label(container, fmt='%d', label_type='edge', padding=3)\n",
        "\n",
        "plt.title('Barplot des Monats')\n",
        "plt.xlabel('Monat')\n",
        "plt.ylabel('Anzahl')\n",
        "plt.show()\n"
      ]
    },
    {
      "cell_type": "markdown",
      "id": "cda8fcca",
      "metadata": {},
      "source": [
        "- man hat nur Daten von Januar bis August\n",
        "- was ist mit Septemeber bis Dezember?"
      ]
    },
    {
      "cell_type": "markdown",
      "id": "d1ffc4c3",
      "metadata": {},
      "source": [
        "## Age - Represents the age of the person\n",
        "\n",
        "- \"_\" wird entfernt\n",
        "- wird als Dtype numeric und aufgerundet\n",
        "- durch Aufrundung entsehen 3- und 4-stellige Zahlen; dabei werden erst die letzten Ziffen entfernt --> dadruch wird 2 stellig\n",
        "- unter 16 wird auf 16 gesetzt, da es um ein Kredit geht (Arbeitsfähigkeit)\n",
        "- fehlende Werte werden mit dem Median ersetzt"
      ]
    },
    {
      "cell_type": "code",
      "execution_count": 12,
      "id": "a48a64b3",
      "metadata": {},
      "outputs": [
        {
          "data": {
            "text/plain": [
              "0"
            ]
          },
          "execution_count": 12,
          "metadata": {},
          "output_type": "execute_result"
        }
      ],
      "source": [
        "train_df[\"Age\"].isna().sum()"
      ]
    },
    {
      "cell_type": "code",
      "execution_count": 13,
      "id": "a7b87d52",
      "metadata": {},
      "outputs": [],
      "source": [
        "train_df['Age'] = (\n",
        "    train_df['Age']\n",
        "    .astype(str)\n",
        "    .str.replace('_', '', regex=False)\n",
        ")"
      ]
    },
    {
      "cell_type": "code",
      "execution_count": 14,
      "id": "3e3ba4be",
      "metadata": {},
      "outputs": [],
      "source": [
        "train_df['Age'] = pd.to_numeric(train_df['Age'], errors='coerce').abs()"
      ]
    },
    {
      "cell_type": "code",
      "execution_count": 15,
      "id": "db6ac772",
      "metadata": {},
      "outputs": [],
      "source": [
        "mask = train_df['Age'] >= 100\n",
        "train_df.loc[mask, 'Age'] = (\n",
        "    train_df.loc[mask, 'Age'].astype(str).str[:1].astype(float)\n",
        ")\n",
        "\n",
        "mask = train_df['Age'] >= 100\n",
        "train_df.loc[mask, 'Age'] = (\n",
        "    train_df.loc[mask, 'Age'].astype(str).str[:1].astype(float)\n",
        ")"
      ]
    },
    {
      "cell_type": "code",
      "execution_count": 16,
      "id": "5a976b75",
      "metadata": {},
      "outputs": [
        {
          "data": {
            "image/png": "[encoded data removed]",
            "text/plain": [
              "<Figure size 640x480 with 1 Axes>"
            ]
          },
          "metadata": {},
          "output_type": "display_data"
        }
      ],
      "source": [
        "sns.boxplot(data=train_df, x=\"Age\")\n",
        "plt.title(\"Boxplot des Alters\")\n",
        "plt.xlabel(\"Alter\")\n",
        "plt.show()"
      ]
    },
    {
      "cell_type": "code",
      "execution_count": 17,
      "id": "82f60486",
      "metadata": {},
      "outputs": [],
      "source": [
        "train_df['Age'] = (\n",
        "    train_df['Age']\n",
        "    .clip(lower=16)\n",
        "    .fillna(train_df['Age'].median())\n",
        "    .round()\n",
        "    .astype('Int64')\n",
        ")"
      ]
    },
    {
      "cell_type": "code",
      "execution_count": 18,
      "id": "52242b9d",
      "metadata": {},
      "outputs": [
        {
          "data": {
            "application/vnd.microsoft.datawrangler.viewer.v0+json": {
              "columns": [
                {
                  "name": "index",
                  "rawType": "object",
                  "type": "string"
                },
                {
                  "name": "Age",
                  "rawType": "Float64",
                  "type": "float"
                }
              ],
              "ref": "5d07fba5-38ff-4e87-bc69-4f122ab86dad",
              "rows": [
                [
                  "count",
                  "100000.0"
                ],
                [
                  "mean",
                  "32.88078"
                ],
                [
                  "std",
                  "10.93758487506401"
                ],
                [
                  "min",
                  "16.0"
                ],
                [
                  "25%",
                  "24.0"
                ],
                [
                  "50%",
                  "32.0"
                ],
                [
                  "75%",
                  "41.0"
                ],
                [
                  "max",
                  "99.0"
                ]
              ],
              "shape": {
                "columns": 1,
                "rows": 8
              }
            },
            "text/plain": [
              "count     100000.0\n",
              "mean      32.88078\n",
              "std      10.937585\n",
              "min           16.0\n",
              "25%           24.0\n",
              "50%           32.0\n",
              "75%           41.0\n",
              "max           99.0\n",
              "Name: Age, dtype: Float64"
            ]
          },
          "execution_count": 18,
          "metadata": {},
          "output_type": "execute_result"
        }
      ],
      "source": [
        "train_df['Age'].describe()"
      ]
    },
    {
      "cell_type": "code",
      "execution_count": 19,
      "id": "dbc47166",
      "metadata": {},
      "outputs": [
        {
          "data": {
            "image/png": "[encoded data removed]",
            "text/plain": [
              "<Figure size 640x480 with 1 Axes>"
            ]
          },
          "metadata": {},
          "output_type": "display_data"
        }
      ],
      "source": [
        "sns.boxplot(data=train_df, x=\"Age\")\n",
        "plt.title(\"Boxplot des Alters\")\n",
        "plt.xlabel(\"Alter\")\n",
        "plt.show()"
      ]
    },
    {
      "cell_type": "markdown",
      "id": "351e373c",
      "metadata": {},
      "source": [
        "## Occupation - Represents the Occupation of the person (Beruf)\n",
        "\n",
        "- Unbekannte Berufe werden mit \"Unknown\" gekennzeichnet\n",
        "- Texte werden bereinigt"
      ]
    },
    {
      "cell_type": "code",
      "execution_count": 20,
      "id": "49d43b56",
      "metadata": {},
      "outputs": [
        {
          "data": {
            "text/plain": [
              "0"
            ]
          },
          "execution_count": 20,
          "metadata": {},
          "output_type": "execute_result"
        }
      ],
      "source": [
        "train_df[\"Occupation\"].isna().sum()"
      ]
    },
    {
      "cell_type": "code",
      "execution_count": 21,
      "id": "73ae9404",
      "metadata": {},
      "outputs": [],
      "source": [
        "train_df['Occupation'] = (\n",
        "    train_df['Occupation']\n",
        "    .astype(str)\n",
        "    .replace('_______', 'Unknown')\n",
        "    .str.replace('_', ' ', regex=False)\n",
        "    .str.replace(r'\\s+', ' ', regex=True)\n",
        "    .str.strip()\n",
        "    .str.title()\n",
        ")"
      ]
    },
    {
      "cell_type": "code",
      "execution_count": 22,
      "id": "9d49fbbd",
      "metadata": {},
      "outputs": [
        {
          "data": {
            "application/vnd.microsoft.datawrangler.viewer.v0+json": {
              "columns": [
                {
                  "name": "Occupation",
                  "rawType": "object",
                  "type": "string"
                },
                {
                  "name": "count",
                  "rawType": "int64",
                  "type": "integer"
                }
              ],
              "ref": "447c030c-63cd-47f2-9e3a-ba190344bca8",
              "rows": [
                [
                  "Unknown",
                  "7062"
                ],
                [
                  "Lawyer",
                  "6575"
                ],
                [
                  "Architect",
                  "6355"
                ],
                [
                  "Engineer",
                  "6350"
                ],
                [
                  "Scientist",
                  "6299"
                ],
                [
                  "Mechanic",
                  "6291"
                ],
                [
                  "Accountant",
                  "6271"
                ],
                [
                  "Developer",
                  "6235"
                ],
                [
                  "Media Manager",
                  "6232"
                ],
                [
                  "Teacher",
                  "6215"
                ]
              ],
              "shape": {
                "columns": 1,
                "rows": 10
              }
            },
            "text/plain": [
              "Occupation\n",
              "Unknown          7062\n",
              "Lawyer           6575\n",
              "Architect        6355\n",
              "Engineer         6350\n",
              "Scientist        6299\n",
              "Mechanic         6291\n",
              "Accountant       6271\n",
              "Developer        6235\n",
              "Media Manager    6232\n",
              "Teacher          6215\n",
              "Name: count, dtype: int64"
            ]
          },
          "execution_count": 22,
          "metadata": {},
          "output_type": "execute_result"
        }
      ],
      "source": [
        "train_df['Occupation'].value_counts().head(10)"
      ]
    },
    {
      "cell_type": "code",
      "execution_count": 23,
      "id": "0260054e",
      "metadata": {},
      "outputs": [
        {
          "data": {
            "image/png": "[encoded data removed]",
            "text/plain": [
              "<Figure size 1200x600 with 1 Axes>"
            ]
          },
          "metadata": {},
          "output_type": "display_data"
        }
      ],
      "source": [
        "plt.figure(figsize=(12, 6))\n",
        "\n",
        "ax = sns.countplot(train_df, x=\"Occupation\")\n",
        "\n",
        "for container in ax.containers:\n",
        "    ax.bar_label(container, fmt='%d',\n",
        "                label_type='edge',\n",
        "                padding=3)\n",
        "\n",
        "plt.xticks(rotation=45, ha=\"right\")\n",
        "plt.title(\"Barplot der Berufe\")\n",
        "plt.xlabel(\"Beruf\")\n",
        "plt.show()"
      ]
    },
    {
      "cell_type": "markdown",
      "id": "b3310e3a",
      "metadata": {},
      "source": [
        "## Annual_Income - Represents the annual income of the person\n",
        "\n",
        "- zu numeric umgewandelt\n",
        "- nicht Zahlenartige zeichen entfernt\n",
        "- NaN hinzugefügt für nicht Zahlenwerte\n",
        "- alles unter 0 in positive Werte ungewandelt\n",
        "- NaN mit Median ersetzt"
      ]
    },
    {
      "cell_type": "code",
      "execution_count": 24,
      "id": "4890b589",
      "metadata": {},
      "outputs": [
        {
          "data": {
            "text/plain": [
              "0"
            ]
          },
          "execution_count": 24,
          "metadata": {},
          "output_type": "execute_result"
        }
      ],
      "source": [
        "train_df[\"Annual_Income\"].isna().sum()"
      ]
    },
    {
      "cell_type": "code",
      "execution_count": 25,
      "id": "d1da3ee6",
      "metadata": {},
      "outputs": [],
      "source": [
        "train_df['Annual_Income'] = (\n",
        "    pd.to_numeric(\n",
        "        train_df['Annual_Income']\n",
        "        .astype(str)\n",
        "        .str.replace(r'[^0-9\\-\\.]', '', regex=True)\n",
        "        .replace({'': np.nan, '-': np.nan, '.': np.nan}),\n",
        "        errors='coerce'\n",
        "    )\n",
        "    .abs()\n",
        "    .fillna(lambda s: s.median())\n",
        ")"
      ]
    },
    {
      "cell_type": "code",
      "execution_count": 26,
      "id": "ec5edd1b",
      "metadata": {},
      "outputs": [
        {
          "data": {
            "application/vnd.microsoft.datawrangler.viewer.v0+json": {
              "columns": [
                {
                  "name": "index",
                  "rawType": "object",
                  "type": "string"
                },
                {
                  "name": "Annual_Income",
                  "rawType": "float64",
                  "type": "float"
                }
              ],
              "ref": "5a884895-e849-4a2a-896e-1c2d97997045",
              "rows": [
                [
                  "count",
                  "100000.0"
                ],
                [
                  "mean",
                  "176415.70129814997"
                ],
                [
                  "std",
                  "1429618.0514141545"
                ],
                [
                  "min",
                  "7005.93"
                ],
                [
                  "25%",
                  "19457.5"
                ],
                [
                  "50%",
                  "37578.61"
                ],
                [
                  "75%",
                  "72790.92"
                ],
                [
                  "max",
                  "24198062.0"
                ]
              ],
              "shape": {
                "columns": 1,
                "rows": 8
              }
            },
            "text/plain": [
              "count    1.000000e+05\n",
              "mean     1.764157e+05\n",
              "std      1.429618e+06\n",
              "min      7.005930e+03\n",
              "25%      1.945750e+04\n",
              "50%      3.757861e+04\n",
              "75%      7.279092e+04\n",
              "max      2.419806e+07\n",
              "Name: Annual_Income, dtype: float64"
            ]
          },
          "execution_count": 26,
          "metadata": {},
          "output_type": "execute_result"
        }
      ],
      "source": [
        "train_df['Annual_Income'].describe()"
      ]
    },
    {
      "cell_type": "code",
      "execution_count": 27,
      "id": "679a855a",
      "metadata": {},
      "outputs": [
        {
          "data": {
            "image/png": "[encoded data removed]",
            "text/plain": [
              "<Figure size 640x480 with 1 Axes>"
            ]
          },
          "metadata": {},
          "output_type": "display_data"
        }
      ],
      "source": [
        "sns.boxplot(data=train_df, x=\"Annual_Income\")\n",
        "plt.ticklabel_format(style='plain', axis='x')\n",
        "plt.title(\"Boxplot des jährlichen Einkommmens\")\n",
        "plt.xlabel(\"jährliches Einkommen\")\n",
        "plt.show()"
      ]
    },
    {
      "cell_type": "markdown",
      "id": "f4450eba",
      "metadata": {},
      "source": [
        "- Sehr starke und viele Ausreißer, diese ggf. entfernen"
      ]
    },
    {
      "cell_type": "markdown",
      "id": "b8f54b23",
      "metadata": {},
      "source": [
        "## Monthly_Inhand_Salary - Represents the monthly base salary of a person\n",
        "\n",
        "- leere Werte mit dem Jährlichen Gehalte durch 12 berechnet (vorausgesetzt man erhählt nur 12 Gehälter)"
      ]
    },
    {
      "cell_type": "code",
      "execution_count": 28,
      "id": "24cd1006",
      "metadata": {},
      "outputs": [
        {
          "data": {
            "text/plain": [
              "15002"
            ]
          },
          "execution_count": 28,
          "metadata": {},
          "output_type": "execute_result"
        }
      ],
      "source": [
        "train_df['Monthly_Inhand_Salary'].isna().sum()"
      ]
    },
    {
      "cell_type": "code",
      "execution_count": 29,
      "id": "545fc85f",
      "metadata": {},
      "outputs": [],
      "source": [
        "train_df['Monthly_Inhand_Salary'] = train_df['Monthly_Inhand_Salary'].fillna(train_df['Annual_Income'] / 12)"
      ]
    },
    {
      "cell_type": "code",
      "execution_count": 30,
      "id": "4881332a",
      "metadata": {},
      "outputs": [
        {
          "data": {
            "application/vnd.microsoft.datawrangler.viewer.v0+json": {
              "columns": [
                {
                  "name": "index",
                  "rawType": "object",
                  "type": "string"
                },
                {
                  "name": "Monthly_Inhand_Salary",
                  "rawType": "float64",
                  "type": "float"
                }
              ],
              "ref": "d4815637-29ef-49c5-b8a9-25fc3c96bf2e",
              "rows": [
                [
                  "count",
                  "100000.0"
                ],
                [
                  "mean",
                  "5743.258610735121"
                ],
                [
                  "std",
                  "45814.6946566061"
                ],
                [
                  "min",
                  "303.6454166666666"
                ],
                [
                  "25%",
                  "1625.793333333333"
                ],
                [
                  "50%",
                  "3101.3719100905537"
                ],
                [
                  "75%",
                  "5971.780000000001"
                ],
                [
                  "max",
                  "1990379.5833333333"
                ]
              ],
              "shape": {
                "columns": 1,
                "rows": 8
              }
            },
            "text/plain": [
              "count    1.000000e+05\n",
              "mean     5.743259e+03\n",
              "std      4.581469e+04\n",
              "min      3.036454e+02\n",
              "25%      1.625793e+03\n",
              "50%      3.101372e+03\n",
              "75%      5.971780e+03\n",
              "max      1.990380e+06\n",
              "Name: Monthly_Inhand_Salary, dtype: float64"
            ]
          },
          "execution_count": 30,
          "metadata": {},
          "output_type": "execute_result"
        }
      ],
      "source": [
        "train_df['Monthly_Inhand_Salary'].describe()"
      ]
    },
    {
      "cell_type": "code",
      "execution_count": 31,
      "id": "63d11b96",
      "metadata": {},
      "outputs": [
        {
          "data": {
            "image/png": "[encoded data removed]",
            "text/plain": [
              "<Figure size 640x480 with 1 Axes>"
            ]
          },
          "metadata": {},
          "output_type": "display_data"
        }
      ],
      "source": [
        "sns.boxplot(data=train_df, x=\"Monthly_Inhand_Salary\")\n",
        "plt.ticklabel_format(style='plain', axis='x')\n",
        "plt.title(\"Boxplot des monatlichen Einkommmens\")\n",
        "plt.xlabel(\"monatliches Einkommen\")\n",
        "plt.show()"
      ]
    },
    {
      "cell_type": "markdown",
      "id": "b15ca308",
      "metadata": {},
      "source": [
        "- Sehr starke und viele Ausreißer, diese ggf. entfernen"
      ]
    },
    {
      "cell_type": "markdown",
      "id": "d88efa88",
      "metadata": {},
      "source": [
        "## Num_Bank_Accounts - Represents the number of bank accounts a person holds\n",
        "\n",
        "- alle nicht Zahlenartige Werte werden entfernt\n",
        "- Komma wird mit Punkt ersetzt \n",
        "- wird zu Zahl umgewandelt\n",
        "- negative Werte werden positiv\n",
        "- alle 3 und 4 stellige Zahlen werden auf 2 stellig umgewandelt"
      ]
    },
    {
      "cell_type": "code",
      "execution_count": 32,
      "id": "23afd531",
      "metadata": {},
      "outputs": [
        {
          "data": {
            "text/plain": [
              "0"
            ]
          },
          "execution_count": 32,
          "metadata": {},
          "output_type": "execute_result"
        }
      ],
      "source": [
        "train_df[\"Num_Bank_Accounts\"].isna().sum()"
      ]
    },
    {
      "cell_type": "code",
      "execution_count": 33,
      "id": "f384995f",
      "metadata": {},
      "outputs": [],
      "source": [
        "train_df['Num_Bank_Accounts'] = (\n",
        "    train_df['Num_Bank_Accounts']\n",
        "      .astype(str)\n",
        "      .str.replace(r'[^0-9\\-\\.,]', '', regex=True)\n",
        "      .str.replace(',', '.', regex=False)\n",
        "      .pipe(pd.to_numeric, errors='coerce')\n",
        "      .abs()\n",
        "      .round()\n",
        ").astype('Int64')"
      ]
    },
    {
      "cell_type": "code",
      "execution_count": 34,
      "id": "87c00f81",
      "metadata": {},
      "outputs": [
        {
          "data": {
            "image/png": "[encoded data removed]",
            "text/plain": [
              "<Figure size 640x480 with 1 Axes>"
            ]
          },
          "metadata": {},
          "output_type": "display_data"
        }
      ],
      "source": [
        "sns.boxplot(data=train_df, x=\"Num_Bank_Accounts\")\n",
        "plt.ticklabel_format(style='plain', axis='x')\n",
        "plt.title(\"Boxplot der Anzahl von Konten\")\n",
        "plt.xlabel(\"Anzahl Konten\")\n",
        "plt.show()"
      ]
    },
    {
      "cell_type": "code",
      "execution_count": 35,
      "id": "43772bb1",
      "metadata": {},
      "outputs": [],
      "source": [
        "mask = train_df['Num_Bank_Accounts'] >= 100\n",
        "train_df.loc[mask, 'Num_Bank_Accounts'] = (\n",
        "    train_df.loc[mask, 'Num_Bank_Accounts'].astype(str).str[:1].astype(float)\n",
        ")\n",
        "\n",
        "mask = train_df['Num_Bank_Accounts'] >= 100\n",
        "train_df.loc[mask, 'Num_Bank_Accounts'] = (\n",
        "    train_df.loc[mask, 'Num_Bank_Accounts'].astype(str).str[:1].astype(float)\n",
        ")"
      ]
    },
    {
      "cell_type": "code",
      "execution_count": 36,
      "id": "2bb972b7",
      "metadata": {},
      "outputs": [
        {
          "data": {
            "image/png": "[encoded data removed]",
            "text/plain": [
              "<Figure size 640x480 with 1 Axes>"
            ]
          },
          "metadata": {},
          "output_type": "display_data"
        }
      ],
      "source": [
        "sns.boxplot(data=train_df, x=\"Num_Bank_Accounts\")\n",
        "plt.ticklabel_format(style='plain', axis='x')\n",
        "plt.title(\"Boxplot der Anzahl von Konten\")\n",
        "plt.xlabel(\"Anzahl Konten\")\n",
        "plt.show()"
      ]
    },
    {
      "cell_type": "code",
      "execution_count": 37,
      "id": "ce9df70d",
      "metadata": {},
      "outputs": [
        {
          "data": {
            "application/vnd.microsoft.datawrangler.viewer.v0+json": {
              "columns": [
                {
                  "name": "index",
                  "rawType": "object",
                  "type": "string"
                },
                {
                  "name": "Num_Bank_Accounts",
                  "rawType": "Float64",
                  "type": "float"
                }
              ],
              "ref": "fa61d408-00ef-4b6f-9e46-f7a392db7aa0",
              "rows": [
                [
                  "count",
                  "100000.0"
                ],
                [
                  "mean",
                  "5.37433"
                ],
                [
                  "std",
                  "2.9611306512964504"
                ],
                [
                  "min",
                  "0.0"
                ],
                [
                  "25%",
                  "3.0"
                ],
                [
                  "50%",
                  "5.0"
                ],
                [
                  "75%",
                  "7.0"
                ],
                [
                  "max",
                  "99.0"
                ]
              ],
              "shape": {
                "columns": 1,
                "rows": 8
              }
            },
            "text/plain": [
              "count    100000.0\n",
              "mean      5.37433\n",
              "std      2.961131\n",
              "min           0.0\n",
              "25%           3.0\n",
              "50%           5.0\n",
              "75%           7.0\n",
              "max          99.0\n",
              "Name: Num_Bank_Accounts, dtype: Float64"
            ]
          },
          "execution_count": 37,
          "metadata": {},
          "output_type": "execute_result"
        }
      ],
      "source": [
        "train_df['Num_Bank_Accounts'].describe()"
      ]
    },
    {
      "cell_type": "markdown",
      "id": "147ac7fb",
      "metadata": {},
      "source": [
        "## Num_Credit_Card - Represents the number of other credit cards held by a person\n",
        "\n",
        "- Werte werden zu Zahlen umgewandelt\n",
        "- nicht zahlenartige Werte werden entfernt\n",
        "- Leere Werte werden mit NaN ersetzt\n",
        "- alle negative Werte werden positiv\n",
        "- alles 3 und 4 stellige Zahlen werden 2 stellig\n",
        "- Fehlende Werte werden mit dem Median ersetzt"
      ]
    },
    {
      "cell_type": "code",
      "execution_count": 38,
      "id": "b62fe723",
      "metadata": {},
      "outputs": [
        {
          "data": {
            "text/plain": [
              "0"
            ]
          },
          "execution_count": 38,
          "metadata": {},
          "output_type": "execute_result"
        }
      ],
      "source": [
        "train_df[\"Num_Credit_Card\"].isna().sum()"
      ]
    },
    {
      "cell_type": "code",
      "execution_count": 39,
      "id": "ea783477",
      "metadata": {},
      "outputs": [],
      "source": [
        "train_df['Num_Credit_Card'] = (\n",
        "    pd.to_numeric(\n",
        "        train_df['Num_Credit_Card']\n",
        "        .astype(str)\n",
        "        .str.replace(r'[^0-9\\-\\.]', '', regex=True)\n",
        "        .replace({'': np.nan, '-': np.nan, '.': np.nan}),\n",
        "        errors='coerce'\n",
        "    )\n",
        "    .abs()\n",
        "    .round()\n",
        "    .astype('Int64')\n",
        "    .fillna(lambda s: s.median())\n",
        ")"
      ]
    },
    {
      "cell_type": "code",
      "execution_count": 40,
      "id": "dd123e3f",
      "metadata": {},
      "outputs": [
        {
          "data": {
            "image/png": "[encoded data removed]",
            "text/plain": [
              "<Figure size 640x480 with 1 Axes>"
            ]
          },
          "metadata": {},
          "output_type": "display_data"
        }
      ],
      "source": [
        "sns.boxplot(data=train_df, x=\"Num_Credit_Card\")\n",
        "plt.ticklabel_format(style='plain', axis='x')\n",
        "plt.title(\"Boxplot der Anzahl von Kredit Karten\")\n",
        "plt.xlabel(\"Anzahl Kredit Karten\")\n",
        "plt.show()"
      ]
    },
    {
      "cell_type": "code",
      "execution_count": 41,
      "id": "845dd356",
      "metadata": {},
      "outputs": [],
      "source": [
        "mask = train_df['Num_Credit_Card'] >= 100\n",
        "train_df.loc[mask, 'Num_Credit_Card'] = (\n",
        "    train_df.loc[mask, 'Num_Credit_Card'].astype(str).str[:1].astype(float)\n",
        ")\n",
        "\n",
        "mask = train_df['Num_Credit_Card'] >= 100\n",
        "train_df.loc[mask, 'Num_Credit_Card'] = (\n",
        "    train_df.loc[mask, 'Num_Credit_Card'].astype(str).str[:1].astype(float)\n",
        ")"
      ]
    },
    {
      "cell_type": "code",
      "execution_count": 42,
      "id": "ca242702",
      "metadata": {},
      "outputs": [
        {
          "data": {
            "image/png": "[encoded data removed]",
            "text/plain": [
              "<Figure size 640x480 with 1 Axes>"
            ]
          },
          "metadata": {},
          "output_type": "display_data"
        }
      ],
      "source": [
        "sns.boxplot(data=train_df, x=\"Num_Credit_Card\")\n",
        "plt.ticklabel_format(style='plain', axis='x')\n",
        "plt.title(\"Boxplot der Anzahl von Kredit Karten\")\n",
        "plt.xlabel(\"Anzahl Kredit Karten\")\n",
        "plt.show()"
      ]
    },
    {
      "cell_type": "code",
      "execution_count": 43,
      "id": "6eade822",
      "metadata": {},
      "outputs": [
        {
          "data": {
            "application/vnd.microsoft.datawrangler.viewer.v0+json": {
              "columns": [
                {
                  "name": "index",
                  "rawType": "object",
                  "type": "string"
                },
                {
                  "name": "Num_Credit_Card",
                  "rawType": "Float64",
                  "type": "float"
                }
              ],
              "ref": "59d759db-c972-4ec1-bf56-39df527bc1b7",
              "rows": [
                [
                  "count",
                  "100000.0"
                ],
                [
                  "mean",
                  "5.56058"
                ],
                [
                  "std",
                  "2.981563174039686"
                ],
                [
                  "min",
                  "0.0"
                ],
                [
                  "25%",
                  "4.0"
                ],
                [
                  "50%",
                  "5.0"
                ],
                [
                  "75%",
                  "7.0"
                ],
                [
                  "max",
                  "99.0"
                ]
              ],
              "shape": {
                "columns": 1,
                "rows": 8
              }
            },
            "text/plain": [
              "count    100000.0\n",
              "mean      5.56058\n",
              "std      2.981563\n",
              "min           0.0\n",
              "25%           4.0\n",
              "50%           5.0\n",
              "75%           7.0\n",
              "max          99.0\n",
              "Name: Num_Credit_Card, dtype: Float64"
            ]
          },
          "execution_count": 43,
          "metadata": {},
          "output_type": "execute_result"
        }
      ],
      "source": [
        "train_df['Num_Credit_Card'].describe()"
      ]
    },
    {
      "cell_type": "markdown",
      "id": "894775a5",
      "metadata": {},
      "source": [
        "## Interest_Rate - Represents the interest rate on credit card\n",
        "\n",
        "- Wert wird numerisch\n",
        "- alle nicht zahlenartige Zahlen werden entfernt\n",
        "- leere Werte etc. werden mit NaN ersetzt\n",
        "- negative Werte werden positiv\n",
        "- 3 und 4 stellige Zahlen werden 2 stellig"
      ]
    },
    {
      "cell_type": "code",
      "execution_count": 44,
      "id": "74a6fc41",
      "metadata": {},
      "outputs": [
        {
          "data": {
            "text/plain": [
              "0"
            ]
          },
          "execution_count": 44,
          "metadata": {},
          "output_type": "execute_result"
        }
      ],
      "source": [
        "train_df[\"Interest_Rate\"].isna().sum()"
      ]
    },
    {
      "cell_type": "code",
      "execution_count": 45,
      "id": "39e8b40c",
      "metadata": {},
      "outputs": [],
      "source": [
        "train_df['Interest_Rate'] = (\n",
        "    pd.to_numeric(\n",
        "        train_df['Interest_Rate']\n",
        "        .astype(str)\n",
        "        .str.replace(r'[^0-9\\-\\.]', '', regex=True)\n",
        "        .replace({'': np.nan, '-': np.nan, '.': np.nan}),\n",
        "        errors='coerce'\n",
        "    )\n",
        "    .abs()\n",
        "    .round()\n",
        "    .astype('Int64')\n",
        "    .fillna(lambda s: s.median())\n",
        ")"
      ]
    },
    {
      "cell_type": "code",
      "execution_count": 46,
      "id": "36333703",
      "metadata": {},
      "outputs": [
        {
          "data": {
            "image/png": "[encoded data removed]",
            "text/plain": [
              "<Figure size 640x480 with 1 Axes>"
            ]
          },
          "metadata": {},
          "output_type": "display_data"
        }
      ],
      "source": [
        "sns.boxplot(data=train_df, x=\"Interest_Rate\")\n",
        "plt.ticklabel_format(style='plain', axis='x')\n",
        "plt.title(\"Boxplot der Summen von Zinsen an einer Kreditkarte\")\n",
        "plt.xlabel(\"Summe Zinsen Kredit Karte\")\n",
        "plt.show()"
      ]
    },
    {
      "cell_type": "code",
      "execution_count": 47,
      "id": "920b7271",
      "metadata": {},
      "outputs": [],
      "source": [
        "mask = train_df['Interest_Rate'] >= 100\n",
        "train_df.loc[mask, 'Interest_Rate'] = (\n",
        "    train_df.loc[mask, 'Interest_Rate'].astype(str).str[:1].astype(float)\n",
        ")\n",
        "\n",
        "mask = train_df['Interest_Rate'] >= 100\n",
        "train_df.loc[mask, 'Interest_Rate'] = (\n",
        "    train_df.loc[mask, 'Interest_Rate'].astype(str).str[:1].astype(float)\n",
        ")"
      ]
    },
    {
      "cell_type": "code",
      "execution_count": 48,
      "id": "eb0e4fc7",
      "metadata": {},
      "outputs": [
        {
          "data": {
            "image/png": "[encoded data removed]",
            "text/plain": [
              "<Figure size 640x480 with 1 Axes>"
            ]
          },
          "metadata": {},
          "output_type": "display_data"
        }
      ],
      "source": [
        "sns.boxplot(data=train_df, x=\"Interest_Rate\")\n",
        "plt.ticklabel_format(style='plain', axis='x')\n",
        "plt.title(\"Boxplot der Summen von Zinsen an einer Kreditkarte\")\n",
        "plt.xlabel(\"Summe Zinsen Kredit Karte\")\n",
        "plt.show()"
      ]
    },
    {
      "cell_type": "code",
      "execution_count": 49,
      "id": "9844d1a7",
      "metadata": {},
      "outputs": [
        {
          "data": {
            "application/vnd.microsoft.datawrangler.viewer.v0+json": {
              "columns": [
                {
                  "name": "index",
                  "rawType": "object",
                  "type": "string"
                },
                {
                  "name": "Interest_Rate",
                  "rawType": "Float64",
                  "type": "float"
                }
              ],
              "ref": "06840d2f-dd6a-41fb-bc45-3627dcddb1a9",
              "rows": [
                [
                  "count",
                  "100000.0"
                ],
                [
                  "mean",
                  "14.31833"
                ],
                [
                  "std",
                  "8.852721599479855"
                ],
                [
                  "min",
                  "1.0"
                ],
                [
                  "25%",
                  "7.0"
                ],
                [
                  "50%",
                  "13.0"
                ],
                [
                  "75%",
                  "20.0"
                ],
                [
                  "max",
                  "99.0"
                ]
              ],
              "shape": {
                "columns": 1,
                "rows": 8
              }
            },
            "text/plain": [
              "count    100000.0\n",
              "mean     14.31833\n",
              "std      8.852722\n",
              "min           1.0\n",
              "25%           7.0\n",
              "50%          13.0\n",
              "75%          20.0\n",
              "max          99.0\n",
              "Name: Interest_Rate, dtype: Float64"
            ]
          },
          "execution_count": 49,
          "metadata": {},
          "output_type": "execute_result"
        }
      ],
      "source": [
        "train_df['Interest_Rate'].describe()"
      ]
    },
    {
      "cell_type": "markdown",
      "id": "85ab33a8",
      "metadata": {},
      "source": [
        "## Num_of_Loan - Represents the number of loans taken from the bank\n",
        "\n",
        "- Wert wird numerisch\n",
        "- nicht Zahlenartige Werte werden entfernt\n",
        "- Leere Werte etc. werden mit NaN ersetzt\n",
        "- negative Werte werden positiv\n",
        "- 3 und 4 stellige Zahlen werden 2 stellig"
      ]
    },
    {
      "cell_type": "code",
      "execution_count": 50,
      "id": "24f2371a",
      "metadata": {},
      "outputs": [
        {
          "data": {
            "text/plain": [
              "0"
            ]
          },
          "execution_count": 50,
          "metadata": {},
          "output_type": "execute_result"
        }
      ],
      "source": [
        "train_df[\"Num_of_Loan\"].isna().sum()"
      ]
    },
    {
      "cell_type": "code",
      "execution_count": 51,
      "id": "de803a37",
      "metadata": {},
      "outputs": [],
      "source": [
        "train_df['Num_of_Loan'] = (\n",
        "    pd.to_numeric(\n",
        "        train_df['Num_of_Loan']\n",
        "        .astype(str)\n",
        "        .str.replace(r'[^0-9\\-\\.]', '', regex=True)\n",
        "        .replace({'': np.nan, '-': np.nan, '.': np.nan}),\n",
        "        errors='coerce'\n",
        "    )\n",
        "    .abs()\n",
        "    .round()\n",
        "    .astype('Int64')\n",
        "    .fillna(lambda s: s.median())\n",
        ")"
      ]
    },
    {
      "cell_type": "code",
      "execution_count": 52,
      "id": "048d5f99",
      "metadata": {},
      "outputs": [
        {
          "data": {
            "image/png": "[encoded data removed]",
            "text/plain": [
              "<Figure size 640x480 with 1 Axes>"
            ]
          },
          "metadata": {},
          "output_type": "display_data"
        }
      ],
      "source": [
        "sns.boxplot(data=train_df, x=\"Num_of_Loan\")\n",
        "plt.ticklabel_format(style='plain', axis='x')\n",
        "plt.title(\"Boxplot der Summen von Krediten\")\n",
        "plt.xlabel(\"Summe Kredite\")\n",
        "plt.show()"
      ]
    },
    {
      "cell_type": "code",
      "execution_count": 53,
      "id": "c5671725",
      "metadata": {},
      "outputs": [],
      "source": [
        "mask = train_df['Num_of_Loan'] >= 100\n",
        "train_df.loc[mask, 'Num_of_Loan'] = (\n",
        "    train_df.loc[mask, 'Num_of_Loan'].astype(str).str[:1].astype(float)\n",
        ")\n",
        "\n",
        "mask = train_df['Num_of_Loan'] >= 100\n",
        "train_df.loc[mask, 'Num_of_Loan'] = (\n",
        "    train_df.loc[mask, 'Num_of_Loan'].astype(str).str[:1].astype(float)\n",
        ")"
      ]
    },
    {
      "cell_type": "code",
      "execution_count": 54,
      "id": "43a0c63a",
      "metadata": {},
      "outputs": [
        {
          "data": {
            "image/png": "[encoded data removed]",
            "text/plain": [
              "<Figure size 640x480 with 1 Axes>"
            ]
          },
          "metadata": {},
          "output_type": "display_data"
        }
      ],
      "source": [
        "sns.boxplot(data=train_df, x=\"Num_of_Loan\")\n",
        "plt.ticklabel_format(style='plain', axis='x')\n",
        "plt.title(\"Boxplot der Summen von Krediten\")\n",
        "plt.xlabel(\"Summe Kredite\")\n",
        "plt.show()"
      ]
    },
    {
      "cell_type": "code",
      "execution_count": 55,
      "id": "12d01c55",
      "metadata": {},
      "outputs": [
        {
          "data": {
            "application/vnd.microsoft.datawrangler.viewer.v0+json": {
              "columns": [
                {
                  "name": "index",
                  "rawType": "object",
                  "type": "string"
                },
                {
                  "name": "Num_of_Loan",
                  "rawType": "Float64",
                  "type": "float"
                }
              ],
              "ref": "b854e395-b78a-4bad-9f30-41c27abaa7a2",
              "rows": [
                [
                  "count",
                  "100000.0"
                ],
                [
                  "mean",
                  "3.45168"
                ],
                [
                  "std",
                  "2.645576528538096"
                ],
                [
                  "min",
                  "0.0"
                ],
                [
                  "25%",
                  "1.0"
                ],
                [
                  "50%",
                  "3.0"
                ],
                [
                  "75%",
                  "5.0"
                ],
                [
                  "max",
                  "95.0"
                ]
              ],
              "shape": {
                "columns": 1,
                "rows": 8
              }
            },
            "text/plain": [
              "count    100000.0\n",
              "mean      3.45168\n",
              "std      2.645577\n",
              "min           0.0\n",
              "25%           1.0\n",
              "50%           3.0\n",
              "75%           5.0\n",
              "max          95.0\n",
              "Name: Num_of_Loan, dtype: Float64"
            ]
          },
          "execution_count": 55,
          "metadata": {},
          "output_type": "execute_result"
        }
      ],
      "source": [
        "train_df['Num_of_Loan'].describe()"
      ]
    },
    {
      "cell_type": "markdown",
      "id": "42375da9",
      "metadata": {},
      "source": [
        "## Type_of_Loan - Represents the types of loan taken by a person\n",
        "\n",
        "- keine Bereinigung, da individuelle Text vorhanden sind"
      ]
    },
    {
      "cell_type": "code",
      "execution_count": 56,
      "id": "963bbdde",
      "metadata": {},
      "outputs": [
        {
          "data": {
            "application/vnd.microsoft.datawrangler.viewer.v0+json": {
              "columns": [
                {
                  "name": "index",
                  "rawType": "int64",
                  "type": "integer"
                },
                {
                  "name": "Type_of_Loan",
                  "rawType": "object",
                  "type": "string"
                }
              ],
              "ref": "ed2843d0-9773-47a7-aaed-854f184b22fb",
              "rows": [
                [
                  "0",
                  "Auto Loan, Credit-Builder Loan, Personal Loan, and Home Equity Loan"
                ],
                [
                  "1",
                  "Auto Loan, Credit-Builder Loan, Personal Loan, and Home Equity Loan"
                ],
                [
                  "2",
                  "Auto Loan, Credit-Builder Loan, Personal Loan, and Home Equity Loan"
                ],
                [
                  "3",
                  "Auto Loan, Credit-Builder Loan, Personal Loan, and Home Equity Loan"
                ],
                [
                  "4",
                  "Auto Loan, Credit-Builder Loan, Personal Loan, and Home Equity Loan"
                ],
                [
                  "5",
                  "Auto Loan, Credit-Builder Loan, Personal Loan, and Home Equity Loan"
                ],
                [
                  "6",
                  "Auto Loan, Credit-Builder Loan, Personal Loan, and Home Equity Loan"
                ],
                [
                  "7",
                  "Auto Loan, Credit-Builder Loan, Personal Loan, and Home Equity Loan"
                ],
                [
                  "8",
                  "Credit-Builder Loan"
                ],
                [
                  "9",
                  "Credit-Builder Loan"
                ]
              ],
              "shape": {
                "columns": 1,
                "rows": 10
              }
            },
            "text/plain": [
              "0    Auto Loan, Credit-Builder Loan, Personal Loan,...\n",
              "1    Auto Loan, Credit-Builder Loan, Personal Loan,...\n",
              "2    Auto Loan, Credit-Builder Loan, Personal Loan,...\n",
              "3    Auto Loan, Credit-Builder Loan, Personal Loan,...\n",
              "4    Auto Loan, Credit-Builder Loan, Personal Loan,...\n",
              "5    Auto Loan, Credit-Builder Loan, Personal Loan,...\n",
              "6    Auto Loan, Credit-Builder Loan, Personal Loan,...\n",
              "7    Auto Loan, Credit-Builder Loan, Personal Loan,...\n",
              "8                                  Credit-Builder Loan\n",
              "9                                  Credit-Builder Loan\n",
              "Name: Type_of_Loan, dtype: object"
            ]
          },
          "execution_count": 56,
          "metadata": {},
          "output_type": "execute_result"
        }
      ],
      "source": [
        "train_df[\"Type_of_Loan\"].head(10)"
      ]
    },
    {
      "cell_type": "code",
      "execution_count": 57,
      "id": "4ca3c6ed",
      "metadata": {},
      "outputs": [
        {
          "data": {
            "application/vnd.microsoft.datawrangler.viewer.v0+json": {
              "columns": [
                {
                  "name": "Type_of_Loan",
                  "rawType": "object",
                  "type": "string"
                },
                {
                  "name": "count",
                  "rawType": "int64",
                  "type": "integer"
                }
              ],
              "ref": "3ba2af36-2172-433c-940f-f72e7648d06e",
              "rows": [
                [
                  "Not Specified",
                  "1408"
                ],
                [
                  "Credit-Builder Loan",
                  "1280"
                ],
                [
                  "Personal Loan",
                  "1272"
                ],
                [
                  "Debt Consolidation Loan",
                  "1264"
                ],
                [
                  "Student Loan",
                  "1240"
                ],
                [
                  "Payday Loan",
                  "1200"
                ],
                [
                  "Mortgage Loan",
                  "1176"
                ],
                [
                  "Auto Loan",
                  "1152"
                ],
                [
                  "Home Equity Loan",
                  "1136"
                ],
                [
                  "Personal Loan, and Student Loan",
                  "320"
                ],
                [
                  "Not Specified, and Payday Loan",
                  "272"
                ],
                [
                  "Mortgage Loan, and Home Equity Loan",
                  "264"
                ],
                [
                  "Student Loan, and Payday Loan",
                  "256"
                ],
                [
                  "Credit-Builder Loan, and Not Specified",
                  "248"
                ],
                [
                  "Student Loan, and Credit-Builder Loan",
                  "248"
                ],
                [
                  "Payday Loan, and Auto Loan",
                  "240"
                ],
                [
                  "Payday Loan, and Debt Consolidation Loan",
                  "240"
                ],
                [
                  "Payday Loan, and Student Loan",
                  "232"
                ],
                [
                  "Personal Loan, and Credit-Builder Loan",
                  "232"
                ],
                [
                  "Mortgage Loan, and Not Specified",
                  "232"
                ],
                [
                  "Auto Loan, and Personal Loan",
                  "232"
                ],
                [
                  "Payday Loan, and Personal Loan",
                  "232"
                ],
                [
                  "Credit-Builder Loan, and Mortgage Loan",
                  "232"
                ],
                [
                  "Debt Consolidation Loan, and Home Equity Loan",
                  "224"
                ],
                [
                  "Auto Loan, and Payday Loan",
                  "224"
                ],
                [
                  "Home Equity Loan, and Student Loan",
                  "216"
                ],
                [
                  "Credit-Builder Loan, and Auto Loan",
                  "216"
                ],
                [
                  "Auto Loan, and Debt Consolidation Loan",
                  "216"
                ],
                [
                  "Student Loan, and Student Loan",
                  "216"
                ],
                [
                  "Not Specified, and Auto Loan",
                  "216"
                ],
                [
                  "Mortgage Loan, and Student Loan",
                  "216"
                ],
                [
                  "Debt Consolidation Loan, and Payday Loan",
                  "216"
                ],
                [
                  "Home Equity Loan, and Not Specified",
                  "216"
                ],
                [
                  "Credit-Builder Loan, and Home Equity Loan",
                  "216"
                ],
                [
                  "Credit-Builder Loan, and Debt Consolidation Loan",
                  "208"
                ],
                [
                  "Home Equity Loan, and Mortgage Loan",
                  "208"
                ],
                [
                  "Student Loan, and Auto Loan",
                  "208"
                ],
                [
                  "Not Specified, and Credit-Builder Loan",
                  "208"
                ],
                [
                  "Personal Loan, and Debt Consolidation Loan",
                  "208"
                ],
                [
                  "Personal Loan, and Not Specified",
                  "208"
                ],
                [
                  "Home Equity Loan, and Debt Consolidation Loan",
                  "200"
                ],
                [
                  "Mortgage Loan, and Mortgage Loan",
                  "200"
                ],
                [
                  "Not Specified, and Debt Consolidation Loan",
                  "200"
                ],
                [
                  "Auto Loan, and Mortgage Loan",
                  "200"
                ],
                [
                  "Payday Loan, and Credit-Builder Loan",
                  "200"
                ],
                [
                  "Payday Loan, and Not Specified",
                  "200"
                ],
                [
                  "Debt Consolidation Loan, and Debt Consolidation Loan",
                  "200"
                ],
                [
                  "Mortgage Loan, and Debt Consolidation Loan",
                  "200"
                ],
                [
                  "Payday Loan, and Mortgage Loan",
                  "192"
                ],
                [
                  "Student Loan, and Mortgage Loan",
                  "192"
                ]
              ],
              "shape": {
                "columns": 1,
                "rows": 6260
              }
            },
            "text/plain": [
              "Type_of_Loan\n",
              "Not Specified                                                                                                                         1408\n",
              "Credit-Builder Loan                                                                                                                   1280\n",
              "Personal Loan                                                                                                                         1272\n",
              "Debt Consolidation Loan                                                                                                               1264\n",
              "Student Loan                                                                                                                          1240\n",
              "                                                                                                                                      ... \n",
              "Not Specified, Mortgage Loan, Auto Loan, and Payday Loan                                                                                 8\n",
              "Payday Loan, Mortgage Loan, Debt Consolidation Loan, and Student Loan                                                                    8\n",
              "Debt Consolidation Loan, Auto Loan, Personal Loan, Debt Consolidation Loan, Student Loan, and Credit-Builder Loan                        8\n",
              "Student Loan, Auto Loan, Student Loan, Credit-Builder Loan, Home Equity Loan, Debt Consolidation Loan, and Debt Consolidation Loan       8\n",
              "Personal Loan, Auto Loan, Mortgage Loan, Student Loan, and Student Loan                                                                  8\n",
              "Name: count, Length: 6260, dtype: int64"
            ]
          },
          "execution_count": 57,
          "metadata": {},
          "output_type": "execute_result"
        }
      ],
      "source": [
        "train_df[\"Type_of_Loan\"].value_counts()"
      ]
    },
    {
      "cell_type": "markdown",
      "id": "316be8ac",
      "metadata": {},
      "source": [
        "## Delay_from_due_date - Represents the average number of days delayed from the payment date\n",
        "\n",
        "- Wert wird numerisch\n",
        "- fehlende Werte mit dem Median ersetzt\n",
        "- negative Werte werden postitiv"
      ]
    },
    {
      "cell_type": "code",
      "execution_count": 58,
      "id": "4ed69c73",
      "metadata": {},
      "outputs": [
        {
          "data": {
            "text/plain": [
              "0"
            ]
          },
          "execution_count": 58,
          "metadata": {},
          "output_type": "execute_result"
        }
      ],
      "source": [
        "train_df[\"Delay_from_due_date\"].isna().sum()"
      ]
    },
    {
      "cell_type": "code",
      "execution_count": 59,
      "id": "0a027ff2",
      "metadata": {},
      "outputs": [],
      "source": [
        "train_df['Delay_from_due_date'] = (\n",
        "    pd.to_numeric(train_df['Delay_from_due_date'], errors='coerce')\n",
        "    .fillna(lambda s: s.median())\n",
        "    .abs()\n",
        "    .astype('Int64')\n",
        ")"
      ]
    },
    {
      "cell_type": "code",
      "execution_count": 60,
      "id": "e2420f24",
      "metadata": {},
      "outputs": [
        {
          "data": {
            "image/png": "[encoded data removed]",
            "text/plain": [
              "<Figure size 640x480 with 1 Axes>"
            ]
          },
          "metadata": {},
          "output_type": "display_data"
        }
      ],
      "source": [
        "sns.boxplot(data=train_df, x=\"Delay_from_due_date\")\n",
        "plt.ticklabel_format(style='plain', axis='x')\n",
        "plt.title(\"Boxplot Durchschnitt von Zahlungsverzug\")\n",
        "plt.xlabel(\"Zahlungsverzug\")\n",
        "plt.show()"
      ]
    },
    {
      "cell_type": "code",
      "execution_count": 61,
      "id": "63f59f87",
      "metadata": {},
      "outputs": [
        {
          "data": {
            "application/vnd.microsoft.datawrangler.viewer.v0+json": {
              "columns": [
                {
                  "name": "index",
                  "rawType": "object",
                  "type": "string"
                },
                {
                  "name": "Delay_from_due_date",
                  "rawType": "Float64",
                  "type": "float"
                }
              ],
              "ref": "0d7f5a13-c48e-4943-a51e-3a47004f2e9f",
              "rows": [
                [
                  "count",
                  "100000.0"
                ],
                [
                  "mean",
                  "21.09504"
                ],
                [
                  "std",
                  "14.82280218288855"
                ],
                [
                  "min",
                  "0.0"
                ],
                [
                  "25%",
                  "10.0"
                ],
                [
                  "50%",
                  "18.0"
                ],
                [
                  "75%",
                  "28.0"
                ],
                [
                  "max",
                  "67.0"
                ]
              ],
              "shape": {
                "columns": 1,
                "rows": 8
              }
            },
            "text/plain": [
              "count     100000.0\n",
              "mean      21.09504\n",
              "std      14.822802\n",
              "min            0.0\n",
              "25%           10.0\n",
              "50%           18.0\n",
              "75%           28.0\n",
              "max           67.0\n",
              "Name: Delay_from_due_date, dtype: Float64"
            ]
          },
          "execution_count": 61,
          "metadata": {},
          "output_type": "execute_result"
        }
      ],
      "source": [
        "train_df['Delay_from_due_date'].describe()"
      ]
    },
    {
      "cell_type": "markdown",
      "id": "c4e20c4f",
      "metadata": {},
      "source": [
        "## Num_of_Delayed_Payment - Represents the average number of payments delayed by a person\n",
        "\n",
        "- nicht zahlenartige Werte werden entfernt\n",
        "- leere Werte etc. werden mit NaN ersetzt\n",
        "- Werte werden numerisch\n",
        "- fehlende Werte werden mit dem Median ersetzt\n",
        "- negative Werte werden positiv\n",
        "- 3 und 4 stellige Werte werden 2 stellig"
      ]
    },
    {
      "cell_type": "code",
      "execution_count": 62,
      "id": "c915a06f",
      "metadata": {},
      "outputs": [
        {
          "data": {
            "text/plain": [
              "7002"
            ]
          },
          "execution_count": 62,
          "metadata": {},
          "output_type": "execute_result"
        }
      ],
      "source": [
        "train_df[\"Num_of_Delayed_Payment\"].isna().sum()"
      ]
    },
    {
      "cell_type": "code",
      "execution_count": 63,
      "id": "4f3f1537",
      "metadata": {},
      "outputs": [],
      "source": [
        "train_df['Num_of_Delayed_Payment'] = (\n",
        "    train_df['Num_of_Delayed_Payment']\n",
        "    .astype(str)\n",
        "    .str.replace(r'[^0-9\\-\\.]', '', regex=True)\n",
        "    .replace({'': np.nan, '-': np.nan, '.': np.nan})\n",
        "    .pipe(pd.to_numeric, errors='coerce')\n",
        "    .pipe(lambda s: s.fillna(s.median()))\n",
        "    .abs()\n",
        "    .astype('Int64')\n",
        ")"
      ]
    },
    {
      "cell_type": "code",
      "execution_count": 64,
      "id": "1fb2674b",
      "metadata": {},
      "outputs": [
        {
          "data": {
            "image/png": "[encoded data removed]",
            "text/plain": [
              "<Figure size 640x480 with 1 Axes>"
            ]
          },
          "metadata": {},
          "output_type": "display_data"
        }
      ],
      "source": [
        "sns.boxplot(data=train_df, x=\"Num_of_Delayed_Payment\")\n",
        "plt.ticklabel_format(style='plain', axis='x')\n",
        "plt.title(\"Boxplot der Summen von Zahlungspflichte\")\n",
        "plt.xlabel(\"Summe Zahlungspflichtig\")\n",
        "plt.show()"
      ]
    },
    {
      "cell_type": "code",
      "execution_count": 65,
      "id": "8ae311ed",
      "metadata": {},
      "outputs": [],
      "source": [
        "mask = train_df['Num_of_Delayed_Payment'] >= 100\n",
        "train_df.loc[mask, 'Num_of_Delayed_Payment'] = (\n",
        "    train_df.loc[mask, 'Num_of_Delayed_Payment'].astype(str).str[:1].astype(float)\n",
        ")\n",
        "\n",
        "mask = train_df['Num_of_Delayed_Payment'] >= 100\n",
        "train_df.loc[mask, 'Num_of_Delayed_Payment'] = (\n",
        "    train_df.loc[mask, 'Num_of_Delayed_Payment'].astype(str).str[:1].astype(float)\n",
        ")"
      ]
    },
    {
      "cell_type": "code",
      "execution_count": 66,
      "id": "325b04ff",
      "metadata": {},
      "outputs": [
        {
          "data": {
            "image/png": "[encoded data removed]",
            "text/plain": [
              "<Figure size 640x480 with 1 Axes>"
            ]
          },
          "metadata": {},
          "output_type": "display_data"
        }
      ],
      "source": [
        "sns.boxplot(data=train_df, x=\"Num_of_Delayed_Payment\")\n",
        "plt.ticklabel_format(style='plain', axis='x')\n",
        "plt.title(\"Boxplot der Summen von Zahlungspflichte\")\n",
        "plt.xlabel(\"Summe Zahlungspflichtig\")\n",
        "plt.show()"
      ]
    },
    {
      "cell_type": "code",
      "execution_count": 67,
      "id": "876e1c45",
      "metadata": {},
      "outputs": [
        {
          "data": {
            "application/vnd.microsoft.datawrangler.viewer.v0+json": {
              "columns": [
                {
                  "name": "index",
                  "rawType": "object",
                  "type": "string"
                },
                {
                  "name": "Num_of_Delayed_Payment",
                  "rawType": "Float64",
                  "type": "float"
                }
              ],
              "ref": "0eeb9e13-045d-4823-9322-6705aec190c4",
              "rows": [
                [
                  "count",
                  "100000.0"
                ],
                [
                  "mean",
                  "13.31473"
                ],
                [
                  "std",
                  "6.125855882095405"
                ],
                [
                  "min",
                  "0.0"
                ],
                [
                  "25%",
                  "9.0"
                ],
                [
                  "50%",
                  "14.0"
                ],
                [
                  "75%",
                  "18.0"
                ],
                [
                  "max",
                  "98.0"
                ]
              ],
              "shape": {
                "columns": 1,
                "rows": 8
              }
            },
            "text/plain": [
              "count    100000.0\n",
              "mean     13.31473\n",
              "std      6.125856\n",
              "min           0.0\n",
              "25%           9.0\n",
              "50%          14.0\n",
              "75%          18.0\n",
              "max          98.0\n",
              "Name: Num_of_Delayed_Payment, dtype: Float64"
            ]
          },
          "execution_count": 67,
          "metadata": {},
          "output_type": "execute_result"
        }
      ],
      "source": [
        "train_df['Num_of_Delayed_Payment'].describe()"
      ]
    },
    {
      "cell_type": "markdown",
      "id": "4bd48bde",
      "metadata": {},
      "source": [
        "## Changed_Credit_Limit - Represents the percentage change in credit card limit\n",
        "\n",
        "- nicht zahlenartige Werte werden entfernt\n",
        "- Leere Werte etc. werden mit NaN ersetzt\n",
        "- Wert wird numerisch\n",
        "- NaN werden mit 0 ersetzt"
      ]
    },
    {
      "cell_type": "code",
      "execution_count": 68,
      "id": "f11ed508",
      "metadata": {},
      "outputs": [
        {
          "data": {
            "application/vnd.microsoft.datawrangler.viewer.v0+json": {
              "columns": [
                {
                  "name": "index",
                  "rawType": "int64",
                  "type": "integer"
                },
                {
                  "name": "Changed_Credit_Limit",
                  "rawType": "object",
                  "type": "string"
                }
              ],
              "ref": "965104b2-e534-4721-9e89-6e0782d00c8a",
              "rows": [
                [
                  "0",
                  "11.27"
                ],
                [
                  "1",
                  "11.27"
                ],
                [
                  "2",
                  "_"
                ],
                [
                  "3",
                  "6.27"
                ],
                [
                  "4",
                  "11.27"
                ],
                [
                  "5",
                  "9.27"
                ],
                [
                  "6",
                  "11.27"
                ],
                [
                  "7",
                  "11.27"
                ],
                [
                  "8",
                  "5.42"
                ],
                [
                  "9",
                  "7.42"
                ]
              ],
              "shape": {
                "columns": 1,
                "rows": 10
              }
            },
            "text/plain": [
              "0    11.27\n",
              "1    11.27\n",
              "2        _\n",
              "3     6.27\n",
              "4    11.27\n",
              "5     9.27\n",
              "6    11.27\n",
              "7    11.27\n",
              "8     5.42\n",
              "9     7.42\n",
              "Name: Changed_Credit_Limit, dtype: object"
            ]
          },
          "execution_count": 68,
          "metadata": {},
          "output_type": "execute_result"
        }
      ],
      "source": [
        "train_df[\"Changed_Credit_Limit\"].head(10)"
      ]
    },
    {
      "cell_type": "code",
      "execution_count": 69,
      "id": "9b928e71",
      "metadata": {},
      "outputs": [
        {
          "data": {
            "text/plain": [
              "0"
            ]
          },
          "execution_count": 69,
          "metadata": {},
          "output_type": "execute_result"
        }
      ],
      "source": [
        "train_df[\"Changed_Credit_Limit\"].isna().sum()"
      ]
    },
    {
      "cell_type": "code",
      "execution_count": 70,
      "id": "02dcc33a",
      "metadata": {},
      "outputs": [],
      "source": [
        "train_df['Changed_Credit_Limit'] = (\n",
        "    train_df['Changed_Credit_Limit']\n",
        "    .astype(str)\n",
        "    .str.replace(r'[^0-9\\-\\.]', '', regex=True)\n",
        "    .replace({'': np.nan, '-': np.nan, '.': np.nan})\n",
        "    .pipe(pd.to_numeric, errors='coerce')\n",
        "    .fillna(0)\n",
        ")"
      ]
    },
    {
      "cell_type": "code",
      "execution_count": 71,
      "id": "1d634c11",
      "metadata": {},
      "outputs": [
        {
          "data": {
            "image/png": "[encoded data removed]",
            "text/plain": [
              "<Figure size 640x480 with 1 Axes>"
            ]
          },
          "metadata": {},
          "output_type": "display_data"
        }
      ],
      "source": [
        "sns.boxplot(data=train_df, x=\"Changed_Credit_Limit\")\n",
        "plt.ticklabel_format(style='plain', axis='x')\n",
        "plt.title(\"Boxplot Veränderung der Zinsen auf Kredit Karten\")\n",
        "plt.xlabel(\"Änderung der Zinesn auf Kreditkarten\")\n",
        "plt.show()"
      ]
    },
    {
      "cell_type": "code",
      "execution_count": 72,
      "id": "b11dae1d",
      "metadata": {},
      "outputs": [
        {
          "data": {
            "application/vnd.microsoft.datawrangler.viewer.v0+json": {
              "columns": [
                {
                  "name": "index",
                  "rawType": "object",
                  "type": "string"
                },
                {
                  "name": "Changed_Credit_Limit",
                  "rawType": "float64",
                  "type": "float"
                }
              ],
              "ref": "a62a852c-2e88-482e-905b-a22e8ebd6a6b",
              "rows": [
                [
                  "count",
                  "100000.0"
                ],
                [
                  "mean",
                  "10.1717906"
                ],
                [
                  "std",
                  "6.88062798443327"
                ],
                [
                  "min",
                  "-6.49"
                ],
                [
                  "25%",
                  "4.97"
                ],
                [
                  "50%",
                  "9.25"
                ],
                [
                  "75%",
                  "14.66"
                ],
                [
                  "max",
                  "36.97"
                ]
              ],
              "shape": {
                "columns": 1,
                "rows": 8
              }
            },
            "text/plain": [
              "count    100000.000000\n",
              "mean         10.171791\n",
              "std           6.880628\n",
              "min          -6.490000\n",
              "25%           4.970000\n",
              "50%           9.250000\n",
              "75%          14.660000\n",
              "max          36.970000\n",
              "Name: Changed_Credit_Limit, dtype: float64"
            ]
          },
          "execution_count": 72,
          "metadata": {},
          "output_type": "execute_result"
        }
      ],
      "source": [
        "train_df['Changed_Credit_Limit'].describe()"
      ]
    },
    {
      "cell_type": "markdown",
      "id": "36019c1c",
      "metadata": {},
      "source": [
        "## Num_Credit_Inquiries - Represents the number of credit card inquiries\n",
        "\n",
        "- nicht zahlenartige Wertw werden entfernt\n",
        "- leere Werte etc. werden mit NaN ersetzt\n",
        "- Werte werden numerisch\n",
        "- fehlende Werte mit dem Median ersetzen\n",
        "- Negative Werte werden positiv\n",
        "- 3 und 4 stellige Zahlen werden 2 stellig"
      ]
    },
    {
      "cell_type": "code",
      "execution_count": 73,
      "id": "be8acd8d",
      "metadata": {},
      "outputs": [
        {
          "data": {
            "text/plain": [
              "1965"
            ]
          },
          "execution_count": 73,
          "metadata": {},
          "output_type": "execute_result"
        }
      ],
      "source": [
        "train_df[\"Num_Credit_Inquiries\"].isna().sum()"
      ]
    },
    {
      "cell_type": "code",
      "execution_count": 74,
      "id": "38e75578",
      "metadata": {},
      "outputs": [],
      "source": [
        "train_df['Num_Credit_Inquiries'] = (\n",
        "    train_df['Num_Credit_Inquiries']\n",
        "    .astype(str)\n",
        "    .str.replace(r'[^0-9\\-\\.]', '', regex=True)\n",
        "    .replace({'': np.nan, '-': np.nan, '.': np.nan})\n",
        "    .pipe(pd.to_numeric, errors='coerce')\n",
        "    .pipe(lambda s: s.fillna(s.median()))\n",
        "    .abs()\n",
        "    .round()\n",
        "    .astype('Int64')\n",
        ")"
      ]
    },
    {
      "cell_type": "code",
      "execution_count": 75,
      "id": "98f48297",
      "metadata": {},
      "outputs": [
        {
          "data": {
            "image/png": "[encoded data removed]",
            "text/plain": [
              "<Figure size 640x480 with 1 Axes>"
            ]
          },
          "metadata": {},
          "output_type": "display_data"
        }
      ],
      "source": [
        "sns.boxplot(data=train_df, x=\"Num_Credit_Inquiries\")\n",
        "plt.ticklabel_format(style='plain', axis='x')\n",
        "plt.title(\"Boxplot Anfragen Kredit Karten\")\n",
        "plt.xlabel(\"Anfragen Kredit Karten\")\n",
        "plt.show()"
      ]
    },
    {
      "cell_type": "code",
      "execution_count": 76,
      "id": "8494a409",
      "metadata": {},
      "outputs": [],
      "source": [
        "mask = train_df['Num_Credit_Inquiries'] >= 100\n",
        "train_df.loc[mask, 'Num_Credit_Inquiries'] = (\n",
        "    train_df.loc[mask, 'Num_Credit_Inquiries'].astype(str).str[:1].astype(float)\n",
        ")\n",
        "\n",
        "mask = train_df['Num_Credit_Inquiries'] >= 100\n",
        "train_df.loc[mask, 'Num_Credit_Inquiries'] = (\n",
        "    train_df.loc[mask, 'Num_Credit_Inquiries'].astype(str).str[:1].astype(float)\n",
        ")"
      ]
    },
    {
      "cell_type": "code",
      "execution_count": 77,
      "id": "135a3a40",
      "metadata": {},
      "outputs": [
        {
          "data": {
            "image/png": "[encoded data removed]",
            "text/plain": [
              "<Figure size 640x480 with 1 Axes>"
            ]
          },
          "metadata": {},
          "output_type": "display_data"
        }
      ],
      "source": [
        "sns.boxplot(data=train_df, x=\"Num_Credit_Inquiries\")\n",
        "plt.ticklabel_format(style='plain', axis='x')\n",
        "plt.title(\"Boxplot Anfragen Kredit Karten\")\n",
        "plt.xlabel(\"Anfragen Kredit Karten\")\n",
        "plt.show()"
      ]
    },
    {
      "cell_type": "code",
      "execution_count": 78,
      "id": "90591336",
      "metadata": {},
      "outputs": [
        {
          "data": {
            "application/vnd.microsoft.datawrangler.viewer.v0+json": {
              "columns": [
                {
                  "name": "index",
                  "rawType": "object",
                  "type": "string"
                },
                {
                  "name": "Num_Credit_Inquiries",
                  "rawType": "Float64",
                  "type": "float"
                }
              ],
              "ref": "44ce667f-81d4-4c73-b70d-5761fedd8a0e",
              "rows": [
                [
                  "count",
                  "100000.0"
                ],
                [
                  "mean",
                  "5.75924"
                ],
                [
                  "std",
                  "4.01236284662244"
                ],
                [
                  "min",
                  "0.0"
                ],
                [
                  "25%",
                  "3.0"
                ],
                [
                  "50%",
                  "6.0"
                ],
                [
                  "75%",
                  "8.0"
                ],
                [
                  "max",
                  "93.0"
                ]
              ],
              "shape": {
                "columns": 1,
                "rows": 8
              }
            },
            "text/plain": [
              "count    100000.0\n",
              "mean      5.75924\n",
              "std      4.012363\n",
              "min           0.0\n",
              "25%           3.0\n",
              "50%           6.0\n",
              "75%           8.0\n",
              "max          93.0\n",
              "Name: Num_Credit_Inquiries, dtype: Float64"
            ]
          },
          "execution_count": 78,
          "metadata": {},
          "output_type": "execute_result"
        }
      ],
      "source": [
        "train_df['Num_Credit_Inquiries'].describe()"
      ]
    },
    {
      "cell_type": "markdown",
      "id": "0fb3b6d5",
      "metadata": {},
      "source": [
        "## Credit_Mix - Represents the classification of the mix of credits\n",
        "\n",
        "- leere Werte werden mit \"Unknown\" ersetzt"
      ]
    },
    {
      "cell_type": "code",
      "execution_count": 79,
      "id": "5d1878ab",
      "metadata": {},
      "outputs": [
        {
          "data": {
            "text/plain": [
              "0"
            ]
          },
          "execution_count": 79,
          "metadata": {},
          "output_type": "execute_result"
        }
      ],
      "source": [
        "train_df[\"Credit_Mix\"].isna().sum()"
      ]
    },
    {
      "cell_type": "code",
      "execution_count": 80,
      "id": "2c17e4d0",
      "metadata": {},
      "outputs": [],
      "source": [
        "train_df['Credit_Mix'] = (\n",
        "    train_df['Credit_Mix']\n",
        "    .replace('_', 'Unknown')\n",
        "    .astype(str)\n",
        "    .str.title()\n",
        ")"
      ]
    },
    {
      "cell_type": "code",
      "execution_count": 81,
      "id": "88d7fa10",
      "metadata": {},
      "outputs": [
        {
          "data": {
            "image/png": "[encoded data removed]",
            "text/plain": [
              "<Figure size 1200x600 with 1 Axes>"
            ]
          },
          "metadata": {},
          "output_type": "display_data"
        }
      ],
      "source": [
        "plt.figure(figsize=(12, 6))\n",
        "\n",
        "ax = sns.countplot(train_df, x=\"Credit_Mix\")\n",
        "\n",
        "for container in ax.containers:\n",
        "    ax.bar_label(container, fmt='%d',\n",
        "                label_type='edge',\n",
        "                padding=3)\n",
        "\n",
        "plt.xticks(rotation=45, ha=\"right\")\n",
        "plt.title(\"Mischungen der Kredite\")\n",
        "plt.xlabel(\"Klassifikation\")\n",
        "plt.show()"
      ]
    },
    {
      "cell_type": "code",
      "execution_count": 82,
      "id": "785b8be3",
      "metadata": {},
      "outputs": [
        {
          "data": {
            "application/vnd.microsoft.datawrangler.viewer.v0+json": {
              "columns": [
                {
                  "name": "Credit_Mix",
                  "rawType": "object",
                  "type": "string"
                },
                {
                  "name": "count",
                  "rawType": "int64",
                  "type": "integer"
                }
              ],
              "ref": "77a03d42-72ec-416b-8cbd-54e0cf8e11c6",
              "rows": [
                [
                  "Standard",
                  "36479"
                ],
                [
                  "Good",
                  "24337"
                ],
                [
                  "Unknown",
                  "20195"
                ],
                [
                  "Bad",
                  "18989"
                ]
              ],
              "shape": {
                "columns": 1,
                "rows": 4
              }
            },
            "text/plain": [
              "Credit_Mix\n",
              "Standard    36479\n",
              "Good        24337\n",
              "Unknown     20195\n",
              "Bad         18989\n",
              "Name: count, dtype: int64"
            ]
          },
          "execution_count": 82,
          "metadata": {},
          "output_type": "execute_result"
        }
      ],
      "source": [
        "train_df['Credit_Mix'].value_counts()"
      ]
    },
    {
      "cell_type": "markdown",
      "id": "b155324a",
      "metadata": {},
      "source": [
        "## Outstanding_Debt - Represents the remaining debt to be paid (in USD)\n",
        "\n",
        "- nicht zahlenartige Werte werden entfernt\n",
        "- leere Werte etc. werden mit NaN ersetzt\n",
        "- Werte werden numerisch\n",
        "- NaN werden mit dem Median ersetzt\n",
        "- negative Werte werden positiv"
      ]
    },
    {
      "cell_type": "code",
      "execution_count": 83,
      "id": "7828da99",
      "metadata": {},
      "outputs": [
        {
          "data": {
            "text/plain": [
              "0"
            ]
          },
          "execution_count": 83,
          "metadata": {},
          "output_type": "execute_result"
        }
      ],
      "source": [
        "train_df[\"Outstanding_Debt\"].isna().sum()"
      ]
    },
    {
      "cell_type": "code",
      "execution_count": 84,
      "id": "17492e47",
      "metadata": {},
      "outputs": [],
      "source": [
        "train_df['Outstanding_Debt'] = (\n",
        "    train_df['Outstanding_Debt']\n",
        "    .astype(str)\n",
        "    .str.replace(r'[^0-9\\-\\.]', '', regex=True)\n",
        "    .replace({'': np.nan, '-': np.nan, '.': np.nan})\n",
        "    .pipe(pd.to_numeric, errors='coerce')\n",
        "    .pipe(lambda s: s.fillna(s.median()))\n",
        "    .abs()\n",
        ")"
      ]
    },
    {
      "cell_type": "code",
      "execution_count": 85,
      "id": "3db394c0",
      "metadata": {},
      "outputs": [
        {
          "data": {
            "image/png": "[encoded data removed]",
            "text/plain": [
              "<Figure size 640x480 with 1 Axes>"
            ]
          },
          "metadata": {},
          "output_type": "display_data"
        }
      ],
      "source": [
        "sns.boxplot(data=train_df, x=\"Outstanding_Debt\")\n",
        "plt.ticklabel_format(style='plain', axis='x')\n",
        "plt.title(\"Boxplot Summen der zu zahlenden Schulden\")\n",
        "plt.xlabel(\"Schulden zu zahlen\")\n",
        "plt.show()"
      ]
    },
    {
      "cell_type": "code",
      "execution_count": 86,
      "id": "ee391b02",
      "metadata": {},
      "outputs": [
        {
          "data": {
            "application/vnd.microsoft.datawrangler.viewer.v0+json": {
              "columns": [
                {
                  "name": "index",
                  "rawType": "object",
                  "type": "string"
                },
                {
                  "name": "Outstanding_Debt",
                  "rawType": "float64",
                  "type": "float"
                }
              ],
              "ref": "8b7bb350-3467-4246-a3d8-d65c4642562a",
              "rows": [
                [
                  "count",
                  "100000.0"
                ],
                [
                  "mean",
                  "1426.220376"
                ],
                [
                  "std",
                  "1155.1290257464573"
                ],
                [
                  "min",
                  "0.23"
                ],
                [
                  "25%",
                  "566.0725"
                ],
                [
                  "50%",
                  "1166.155"
                ],
                [
                  "75%",
                  "1945.9625"
                ],
                [
                  "max",
                  "4998.07"
                ]
              ],
              "shape": {
                "columns": 1,
                "rows": 8
              }
            },
            "text/plain": [
              "count    100000.000000\n",
              "mean       1426.220376\n",
              "std        1155.129026\n",
              "min           0.230000\n",
              "25%         566.072500\n",
              "50%        1166.155000\n",
              "75%        1945.962500\n",
              "max        4998.070000\n",
              "Name: Outstanding_Debt, dtype: float64"
            ]
          },
          "execution_count": 86,
          "metadata": {},
          "output_type": "execute_result"
        }
      ],
      "source": [
        "train_df['Outstanding_Debt'].describe()"
      ]
    },
    {
      "cell_type": "markdown",
      "id": "d3e61e57",
      "metadata": {},
      "source": [
        "## Credit_Utilization_Ratio - Represents the utilization ratio of credit card\n",
        "\n",
        "- Wert wird numerisch"
      ]
    },
    {
      "cell_type": "code",
      "execution_count": 87,
      "id": "a3de0152",
      "metadata": {},
      "outputs": [
        {
          "data": {
            "text/plain": [
              "0"
            ]
          },
          "execution_count": 87,
          "metadata": {},
          "output_type": "execute_result"
        }
      ],
      "source": [
        "train_df[\"Credit_Utilization_Ratio\"].isna().sum()"
      ]
    },
    {
      "cell_type": "code",
      "execution_count": 88,
      "id": "1ba7fc62",
      "metadata": {},
      "outputs": [
        {
          "data": {
            "application/vnd.microsoft.datawrangler.viewer.v0+json": {
              "columns": [
                {
                  "name": "index",
                  "rawType": "int64",
                  "type": "integer"
                },
                {
                  "name": "Credit_Utilization_Ratio",
                  "rawType": "float64",
                  "type": "float"
                }
              ],
              "ref": "82137f8b-b698-4bb1-8396-48dbe73c7bbd",
              "rows": [
                [
                  "0",
                  "26.822619623699016"
                ],
                [
                  "1",
                  "31.94496005538421"
                ],
                [
                  "2",
                  "28.60935202206993"
                ],
                [
                  "3",
                  "31.37786186958235"
                ],
                [
                  "4",
                  "24.797346908844982"
                ]
              ],
              "shape": {
                "columns": 1,
                "rows": 5
              }
            },
            "text/plain": [
              "0    26.822620\n",
              "1    31.944960\n",
              "2    28.609352\n",
              "3    31.377862\n",
              "4    24.797347\n",
              "Name: Credit_Utilization_Ratio, dtype: float64"
            ]
          },
          "execution_count": 88,
          "metadata": {},
          "output_type": "execute_result"
        }
      ],
      "source": [
        "train_df['Credit_Utilization_Ratio'].head()"
      ]
    },
    {
      "cell_type": "code",
      "execution_count": 89,
      "id": "44bb9e12",
      "metadata": {},
      "outputs": [
        {
          "data": {
            "application/vnd.microsoft.datawrangler.viewer.v0+json": {
              "columns": [
                {
                  "name": "Credit_Utilization_Ratio",
                  "rawType": "float64",
                  "type": "float"
                },
                {
                  "name": "count",
                  "rawType": "int64",
                  "type": "integer"
                }
              ],
              "ref": "53c93734-d0bf-4997-a156-5f7ab3f0db58",
              "rows": [
                [
                  "26.822619623699016",
                  "1"
                ],
                [
                  "28.327949052922875",
                  "1"
                ],
                [
                  "30.016575960889824",
                  "1"
                ],
                [
                  "25.478840581550177",
                  "1"
                ],
                [
                  "33.933754636335955",
                  "1"
                ],
                [
                  "30.381036613447968",
                  "1"
                ],
                [
                  "34.878793163414144",
                  "1"
                ],
                [
                  "36.5261426077803",
                  "1"
                ],
                [
                  "33.109420004371245",
                  "1"
                ],
                [
                  "37.08962387819726",
                  "1"
                ],
                [
                  "39.167866165699856",
                  "1"
                ],
                [
                  "36.89271511392509",
                  "1"
                ],
                [
                  "30.462162003439783",
                  "1"
                ],
                [
                  "23.660858927995445",
                  "1"
                ],
                [
                  "25.50280793579655",
                  "1"
                ],
                [
                  "30.736088121183208",
                  "1"
                ],
                [
                  "27.55107226935993",
                  "1"
                ],
                [
                  "33.078922855868136",
                  "1"
                ],
                [
                  "28.30934679907596",
                  "1"
                ],
                [
                  "31.92116214145498",
                  "1"
                ],
                [
                  "29.32461328384805",
                  "1"
                ],
                [
                  "34.980783476483424",
                  "1"
                ],
                [
                  "33.97995722631506",
                  "1"
                ],
                [
                  "27.626201554482716",
                  "1"
                ],
                [
                  "25.21028364886179",
                  "1"
                ],
                [
                  "27.80110533803636",
                  "1"
                ],
                [
                  "40.462233854179495",
                  "1"
                ],
                [
                  "27.34620991681087",
                  "1"
                ],
                [
                  "34.30790670955368",
                  "1"
                ],
                [
                  "36.64447733208796",
                  "1"
                ],
                [
                  "30.24050972105036",
                  "1"
                ],
                [
                  "32.00439656374331",
                  "1"
                ],
                [
                  "31.933060497180772",
                  "1"
                ],
                [
                  "27.35894032392524",
                  "1"
                ],
                [
                  "23.558649900130575",
                  "1"
                ],
                [
                  "26.31083111446829",
                  "1"
                ],
                [
                  "35.34466579889495",
                  "1"
                ],
                [
                  "35.46022971562693",
                  "1"
                ],
                [
                  "37.842247237439",
                  "1"
                ],
                [
                  "30.80730787347534",
                  "1"
                ],
                [
                  "35.639056704646826",
                  "1"
                ],
                [
                  "28.294939558796273",
                  "1"
                ],
                [
                  "34.67150206396404",
                  "1"
                ],
                [
                  "41.61365988245071",
                  "1"
                ],
                [
                  "27.717499784494947",
                  "1"
                ],
                [
                  "36.493241536949135",
                  "1"
                ],
                [
                  "30.495366904655626",
                  "1"
                ],
                [
                  "32.58733342211647",
                  "1"
                ],
                [
                  "26.71269712455721",
                  "1"
                ],
                [
                  "35.91623453741194",
                  "1"
                ]
              ],
              "shape": {
                "columns": 1,
                "rows": 100000
              }
            },
            "text/plain": [
              "Credit_Utilization_Ratio\n",
              "26.822620    1\n",
              "28.327949    1\n",
              "30.016576    1\n",
              "25.478841    1\n",
              "33.933755    1\n",
              "            ..\n",
              "30.687138    1\n",
              "38.730069    1\n",
              "30.017515    1\n",
              "27.279794    1\n",
              "34.192463    1\n",
              "Name: count, Length: 100000, dtype: int64"
            ]
          },
          "execution_count": 89,
          "metadata": {},
          "output_type": "execute_result"
        }
      ],
      "source": [
        "train_df['Credit_Utilization_Ratio'].value_counts(ascending=False)"
      ]
    },
    {
      "cell_type": "code",
      "execution_count": 90,
      "id": "b4f4dc0f",
      "metadata": {},
      "outputs": [],
      "source": [
        "train_df['Credit_Utilization_Ratio'] = (\n",
        "    pd.to_numeric(train_df['Credit_Utilization_Ratio'], errors='coerce')\n",
        ")"
      ]
    },
    {
      "cell_type": "code",
      "execution_count": 91,
      "id": "32eb6b93",
      "metadata": {},
      "outputs": [
        {
          "data": {
            "image/png": "[encoded data removed]",
            "text/plain": [
              "<Figure size 640x480 with 1 Axes>"
            ]
          },
          "metadata": {},
          "output_type": "display_data"
        }
      ],
      "source": [
        "sns.boxplot(data=train_df, x=\"Credit_Utilization_Ratio\")\n",
        "plt.ticklabel_format(style='plain', axis='x')\n",
        "plt.title(\"Boxplot Credit_Utilization_Ratio\")\n",
        "plt.xlabel(\"Credit_Utilization_Ratio\")\n",
        "plt.show()"
      ]
    },
    {
      "cell_type": "code",
      "execution_count": 92,
      "id": "7f45009f",
      "metadata": {},
      "outputs": [
        {
          "data": {
            "application/vnd.microsoft.datawrangler.viewer.v0+json": {
              "columns": [
                {
                  "name": "index",
                  "rawType": "object",
                  "type": "string"
                },
                {
                  "name": "Credit_Utilization_Ratio",
                  "rawType": "float64",
                  "type": "float"
                }
              ],
              "ref": "0f4e51cc-761a-4a86-acff-c3f06022bf96",
              "rows": [
                [
                  "count",
                  "100000.0"
                ],
                [
                  "mean",
                  "32.2851725189436"
                ],
                [
                  "std",
                  "5.116875070150906"
                ],
                [
                  "min",
                  "20.0"
                ],
                [
                  "25%",
                  "28.05256656125577"
                ],
                [
                  "50%",
                  "32.30578367171092"
                ],
                [
                  "75%",
                  "36.4966630559621"
                ],
                [
                  "max",
                  "50.00000000000001"
                ]
              ],
              "shape": {
                "columns": 1,
                "rows": 8
              }
            },
            "text/plain": [
              "count    100000.000000\n",
              "mean         32.285173\n",
              "std           5.116875\n",
              "min          20.000000\n",
              "25%          28.052567\n",
              "50%          32.305784\n",
              "75%          36.496663\n",
              "max          50.000000\n",
              "Name: Credit_Utilization_Ratio, dtype: float64"
            ]
          },
          "execution_count": 92,
          "metadata": {},
          "output_type": "execute_result"
        }
      ],
      "source": [
        "train_df['Credit_Utilization_Ratio'].describe()"
      ]
    },
    {
      "cell_type": "markdown",
      "id": "b305cf36",
      "metadata": {},
      "source": [
        "## Credit_History_Age - Represents the age of credit history of the person\n",
        "\n",
        "- Gesamtmonat wird berechnet = Jahre*12+Monat\n",
        "- NaN mit 0 ersetzen\n",
        "- Monate werden in Jahre umgewandelt\n",
        "- rundet auf eine Nachkommastelle"
      ]
    },
    {
      "cell_type": "code",
      "execution_count": 93,
      "id": "efc89cd2",
      "metadata": {},
      "outputs": [
        {
          "data": {
            "text/plain": [
              "9030"
            ]
          },
          "execution_count": 93,
          "metadata": {},
          "output_type": "execute_result"
        }
      ],
      "source": [
        "train_df['Credit_History_Age'].isna().sum()"
      ]
    },
    {
      "cell_type": "code",
      "execution_count": 94,
      "id": "d1aa149e",
      "metadata": {},
      "outputs": [
        {
          "data": {
            "application/vnd.microsoft.datawrangler.viewer.v0+json": {
              "columns": [
                {
                  "name": "index",
                  "rawType": "int64",
                  "type": "integer"
                },
                {
                  "name": "Credit_History_Age",
                  "rawType": "object",
                  "type": "unknown"
                }
              ],
              "ref": "97026e92-74ed-49c4-810d-0fbdadb753d0",
              "rows": [
                [
                  "0",
                  "22 Years and 1 Months"
                ],
                [
                  "1",
                  null
                ],
                [
                  "2",
                  "22 Years and 3 Months"
                ],
                [
                  "3",
                  "22 Years and 4 Months"
                ],
                [
                  "4",
                  "22 Years and 5 Months"
                ],
                [
                  "5",
                  "22 Years and 6 Months"
                ],
                [
                  "6",
                  "22 Years and 7 Months"
                ],
                [
                  "7",
                  null
                ],
                [
                  "8",
                  "26 Years and 7 Months"
                ],
                [
                  "9",
                  "26 Years and 8 Months"
                ]
              ],
              "shape": {
                "columns": 1,
                "rows": 10
              }
            },
            "text/plain": [
              "0    22 Years and 1 Months\n",
              "1                      NaN\n",
              "2    22 Years and 3 Months\n",
              "3    22 Years and 4 Months\n",
              "4    22 Years and 5 Months\n",
              "5    22 Years and 6 Months\n",
              "6    22 Years and 7 Months\n",
              "7                      NaN\n",
              "8    26 Years and 7 Months\n",
              "9    26 Years and 8 Months\n",
              "Name: Credit_History_Age, dtype: object"
            ]
          },
          "execution_count": 94,
          "metadata": {},
          "output_type": "execute_result"
        }
      ],
      "source": [
        "train_df['Credit_History_Age'].head(10)"
      ]
    },
    {
      "cell_type": "code",
      "execution_count": 95,
      "id": "389fa558",
      "metadata": {},
      "outputs": [],
      "source": [
        "train_df['Credit_History_Age'] = (\n",
        "    train_df['Credit_History_Age'].astype(str)\n",
        "    .pipe(lambda s: (\n",
        "        s.str.extract(r'(\\d+)\\s*Years', expand=False).astype(float) * 12 +\n",
        "        s.str.extract(r'(\\d+)\\s*Months', expand=False).astype(float)\n",
        "    ))\n",
        "    .fillna(0)\n",
        "    .pipe(lambda s: s / 12)\n",
        "    .astype('float')\n",
        "    .round(1)\n",
        ")"
      ]
    },
    {
      "cell_type": "code",
      "execution_count": 96,
      "id": "64b44876",
      "metadata": {},
      "outputs": [
        {
          "data": {
            "application/vnd.microsoft.datawrangler.viewer.v0+json": {
              "columns": [
                {
                  "name": "index",
                  "rawType": "int64",
                  "type": "integer"
                },
                {
                  "name": "Credit_History_Age",
                  "rawType": "float64",
                  "type": "float"
                }
              ],
              "ref": "fbc94e64-597a-4052-bd22-580faa0eaead",
              "rows": [
                [
                  "0",
                  "22.1"
                ],
                [
                  "1",
                  "0.0"
                ],
                [
                  "2",
                  "22.2"
                ],
                [
                  "3",
                  "22.3"
                ],
                [
                  "4",
                  "22.4"
                ],
                [
                  "5",
                  "22.5"
                ],
                [
                  "6",
                  "22.6"
                ],
                [
                  "7",
                  "0.0"
                ],
                [
                  "8",
                  "26.6"
                ],
                [
                  "9",
                  "26.7"
                ]
              ],
              "shape": {
                "columns": 1,
                "rows": 10
              }
            },
            "text/plain": [
              "0    22.1\n",
              "1     0.0\n",
              "2    22.2\n",
              "3    22.3\n",
              "4    22.4\n",
              "5    22.5\n",
              "6    22.6\n",
              "7     0.0\n",
              "8    26.6\n",
              "9    26.7\n",
              "Name: Credit_History_Age, dtype: float64"
            ]
          },
          "execution_count": 96,
          "metadata": {},
          "output_type": "execute_result"
        }
      ],
      "source": [
        "train_df['Credit_History_Age'].head(10)"
      ]
    },
    {
      "cell_type": "code",
      "execution_count": 97,
      "id": "be63a5bd",
      "metadata": {},
      "outputs": [
        {
          "data": {
            "image/png": "[encoded data removed]",
            "text/plain": [
              "<Figure size 640x480 with 1 Axes>"
            ]
          },
          "metadata": {},
          "output_type": "display_data"
        }
      ],
      "source": [
        "sns.boxplot(data=train_df, x=\"Credit_History_Age\")\n",
        "plt.ticklabel_format(style='plain', axis='x')\n",
        "plt.title(\"Boxplot Kredit Erfahrungen in Jahre\")\n",
        "plt.xlabel(\"Kreditjahre\")\n",
        "plt.show()"
      ]
    },
    {
      "cell_type": "code",
      "execution_count": 98,
      "id": "a737b49c",
      "metadata": {},
      "outputs": [
        {
          "data": {
            "application/vnd.microsoft.datawrangler.viewer.v0+json": {
              "columns": [
                {
                  "name": "index",
                  "rawType": "object",
                  "type": "string"
                },
                {
                  "name": "Credit_History_Age",
                  "rawType": "float64",
                  "type": "float"
                }
              ],
              "ref": "7b54f286-8581-4832-9c1c-f64b18e93b00",
              "rows": [
                [
                  "count",
                  "100000.0"
                ],
                [
                  "mean",
                  "16.767975"
                ],
                [
                  "std",
                  "9.526551267440148"
                ],
                [
                  "min",
                  "0.0"
                ],
                [
                  "25%",
                  "9.5"
                ],
                [
                  "50%",
                  "17.3"
                ],
                [
                  "75%",
                  "24.3"
                ],
                [
                  "max",
                  "33.7"
                ]
              ],
              "shape": {
                "columns": 1,
                "rows": 8
              }
            },
            "text/plain": [
              "count    100000.000000\n",
              "mean         16.767975\n",
              "std           9.526551\n",
              "min           0.000000\n",
              "25%           9.500000\n",
              "50%          17.300000\n",
              "75%          24.300000\n",
              "max          33.700000\n",
              "Name: Credit_History_Age, dtype: float64"
            ]
          },
          "execution_count": 98,
          "metadata": {},
          "output_type": "execute_result"
        }
      ],
      "source": [
        "train_df['Credit_History_Age'].describe()"
      ]
    },
    {
      "cell_type": "markdown",
      "id": "82aaa7df",
      "metadata": {},
      "source": [
        "## Payment_of_Min_Amount - Represents whether only the minimum amount was paid by the person\n",
        "\n",
        "- NM wird mit Unknown ersetzt"
      ]
    },
    {
      "cell_type": "code",
      "execution_count": 99,
      "id": "a396d5c8",
      "metadata": {},
      "outputs": [
        {
          "data": {
            "text/plain": [
              "0"
            ]
          },
          "execution_count": 99,
          "metadata": {},
          "output_type": "execute_result"
        }
      ],
      "source": [
        "train_df['Payment_of_Min_Amount'].isna().sum()"
      ]
    },
    {
      "cell_type": "code",
      "execution_count": 100,
      "id": "f7eb7a90",
      "metadata": {},
      "outputs": [
        {
          "data": {
            "application/vnd.microsoft.datawrangler.viewer.v0+json": {
              "columns": [
                {
                  "name": "Payment_of_Min_Amount",
                  "rawType": "object",
                  "type": "string"
                },
                {
                  "name": "count",
                  "rawType": "int64",
                  "type": "integer"
                }
              ],
              "ref": "22f7a67f-f0d2-488b-987f-06d6f0b2eb92",
              "rows": [
                [
                  "Yes",
                  "52326"
                ],
                [
                  "No",
                  "35667"
                ],
                [
                  "NM",
                  "12007"
                ]
              ],
              "shape": {
                "columns": 1,
                "rows": 3
              }
            },
            "text/plain": [
              "Payment_of_Min_Amount\n",
              "Yes    52326\n",
              "No     35667\n",
              "NM     12007\n",
              "Name: count, dtype: int64"
            ]
          },
          "execution_count": 100,
          "metadata": {},
          "output_type": "execute_result"
        }
      ],
      "source": [
        "train_df['Payment_of_Min_Amount'].value_counts()"
      ]
    },
    {
      "cell_type": "code",
      "execution_count": 101,
      "id": "ab6b8734",
      "metadata": {},
      "outputs": [],
      "source": [
        "train_df['Payment_of_Min_Amount'] = (\n",
        "    train_df['Payment_of_Min_Amount']\n",
        "    .replace('NM', 'Unknown')\n",
        "    .astype(str)                # sicherstellen, dass alles String ist\n",
        "    .str.title()                # \"unknown\" → \"Unknown\", \"yes\" → \"Yes\"\n",
        ")"
      ]
    },
    {
      "cell_type": "code",
      "execution_count": 102,
      "id": "0a24b020",
      "metadata": {},
      "outputs": [
        {
          "data": {
            "image/png": "[encoded data removed]",
            "text/plain": [
              "<Figure size 1200x600 with 1 Axes>"
            ]
          },
          "metadata": {},
          "output_type": "display_data"
        }
      ],
      "source": [
        "plt.figure(figsize=(12, 6))\n",
        "\n",
        "ax = sns.countplot(train_df, x=\"Payment_of_Min_Amount\")\n",
        "\n",
        "for container in ax.containers:\n",
        "    ax.bar_label(container, fmt='%d',\n",
        "                label_type='edge',\n",
        "                padding=3)\n",
        "\n",
        "plt.xticks(rotation=45, ha=\"right\")\n",
        "plt.title(\"Zahlt nur minimum des Kredites?\")\n",
        "plt.xlabel(\"Werte\")\n",
        "plt.show()"
      ]
    },
    {
      "cell_type": "markdown",
      "id": "fa0ee44a",
      "metadata": {},
      "source": [
        "## Total_EMI_per_month - Represents the monthly EMI payments (in USD)\n",
        "\n",
        "= An equated monthly installment (EMI) is a fixed payment amount made by a borrower to a lender at a specified date each calendar month.\n",
        "\n",
        "- Wert wird numerisch\n",
        "- 4 und 5 stellige auf 3 stellig ändern"
      ]
    },
    {
      "cell_type": "code",
      "execution_count": 103,
      "id": "a269eef0",
      "metadata": {},
      "outputs": [
        {
          "data": {
            "text/plain": [
              "0"
            ]
          },
          "execution_count": 103,
          "metadata": {},
          "output_type": "execute_result"
        }
      ],
      "source": [
        "train_df[\"Total_EMI_per_month\"].isna().sum()"
      ]
    },
    {
      "cell_type": "code",
      "execution_count": 104,
      "id": "62021479",
      "metadata": {},
      "outputs": [
        {
          "data": {
            "application/vnd.microsoft.datawrangler.viewer.v0+json": {
              "columns": [
                {
                  "name": "index",
                  "rawType": "int64",
                  "type": "integer"
                },
                {
                  "name": "Total_EMI_per_month",
                  "rawType": "float64",
                  "type": "float"
                }
              ],
              "ref": "a937b9f1-6f89-4fea-8fc2-bc94889df49f",
              "rows": [
                [
                  "0",
                  "49.57494921489417"
                ],
                [
                  "1",
                  "49.57494921489417"
                ],
                [
                  "2",
                  "49.57494921489417"
                ],
                [
                  "3",
                  "49.57494921489417"
                ],
                [
                  "4",
                  "49.57494921489417"
                ],
                [
                  "5",
                  "49.57494921489417"
                ],
                [
                  "6",
                  "49.57494921489417"
                ],
                [
                  "7",
                  "49.57494921489417"
                ],
                [
                  "8",
                  "18.816214573128885"
                ],
                [
                  "9",
                  "18.816214573128885"
                ]
              ],
              "shape": {
                "columns": 1,
                "rows": 10
              }
            },
            "text/plain": [
              "0    49.574949\n",
              "1    49.574949\n",
              "2    49.574949\n",
              "3    49.574949\n",
              "4    49.574949\n",
              "5    49.574949\n",
              "6    49.574949\n",
              "7    49.574949\n",
              "8    18.816215\n",
              "9    18.816215\n",
              "Name: Total_EMI_per_month, dtype: float64"
            ]
          },
          "execution_count": 104,
          "metadata": {},
          "output_type": "execute_result"
        }
      ],
      "source": [
        "train_df[\"Total_EMI_per_month\"].head(10)"
      ]
    },
    {
      "cell_type": "code",
      "execution_count": 105,
      "id": "4fa24b92",
      "metadata": {},
      "outputs": [],
      "source": [
        "train_df['Total_EMI_per_month'] = (\n",
        "    train_df['Total_EMI_per_month']\n",
        "    .pipe(pd.to_numeric, errors='coerce')\n",
        "    .round(1)\n",
        "    .abs()\n",
        ")"
      ]
    },
    {
      "cell_type": "code",
      "execution_count": 106,
      "id": "ebe10ae0",
      "metadata": {},
      "outputs": [
        {
          "data": {
            "image/png": "[encoded data removed]",
            "text/plain": [
              "<Figure size 640x480 with 1 Axes>"
            ]
          },
          "metadata": {},
          "output_type": "display_data"
        }
      ],
      "source": [
        "sns.boxplot(data=train_df, x=\"Total_EMI_per_month\")\n",
        "plt.ticklabel_format(style='plain', axis='x')\n",
        "plt.title(\"Boxplot monatlicher EMI Zahlung\")\n",
        "plt.xlabel(\"EMI Zahlung\")\n",
        "plt.show()"
      ]
    },
    {
      "cell_type": "code",
      "execution_count": 107,
      "id": "c90de149",
      "metadata": {},
      "outputs": [],
      "source": [
        "train_df['Total_EMI_per_month'] = train_df['Total_EMI_per_month'].apply(\n",
        "    lambda x: (\n",
        "        x / 100 if (pd.notna(x) and len(str(int(x))) == 5)\n",
        "        else x / 10 if (pd.notna(x) and len(str(int(x))) == 4)\n",
        "        else x\n",
        "    )\n",
        ")"
      ]
    },
    {
      "cell_type": "code",
      "execution_count": 108,
      "id": "8afd2e8e",
      "metadata": {},
      "outputs": [
        {
          "data": {
            "image/png": "[encoded data removed]",
            "text/plain": [
              "<Figure size 640x480 with 1 Axes>"
            ]
          },
          "metadata": {},
          "output_type": "display_data"
        }
      ],
      "source": [
        "sns.boxplot(data=train_df, x=\"Total_EMI_per_month\")\n",
        "plt.ticklabel_format(style='plain', axis='x')\n",
        "plt.title(\"Boxplot monatlicher EMI Zahlung\")\n",
        "plt.xlabel(\"EMI Zahlung\")\n",
        "plt.show()"
      ]
    },
    {
      "cell_type": "code",
      "execution_count": 109,
      "id": "de96cbb9",
      "metadata": {},
      "outputs": [
        {
          "data": {
            "application/vnd.microsoft.datawrangler.viewer.v0+json": {
              "columns": [
                {
                  "name": "index",
                  "rawType": "object",
                  "type": "string"
                },
                {
                  "name": "Total_EMI_per_month",
                  "rawType": "float64",
                  "type": "float"
                }
              ],
              "ref": "d019efa2-011c-40b8-8a9f-fe27005991b6",
              "rows": [
                [
                  "count",
                  "100000.0"
                ],
                [
                  "mean",
                  "115.37422070000001"
                ],
                [
                  "std",
                  "133.62319980772034"
                ],
                [
                  "min",
                  "0.0"
                ],
                [
                  "25%",
                  "30.3"
                ],
                [
                  "50%",
                  "69.25"
                ],
                [
                  "75%",
                  "157.7"
                ],
                [
                  "max",
                  "999.7"
                ]
              ],
              "shape": {
                "columns": 1,
                "rows": 8
              }
            },
            "text/plain": [
              "count    100000.000000\n",
              "mean        115.374221\n",
              "std         133.623200\n",
              "min           0.000000\n",
              "25%          30.300000\n",
              "50%          69.250000\n",
              "75%         157.700000\n",
              "max         999.700000\n",
              "Name: Total_EMI_per_month, dtype: float64"
            ]
          },
          "execution_count": 109,
          "metadata": {},
          "output_type": "execute_result"
        }
      ],
      "source": [
        "train_df['Total_EMI_per_month'].describe()"
      ]
    },
    {
      "cell_type": "markdown",
      "id": "13e9baf8",
      "metadata": {},
      "source": [
        "## Amount_invested_monthly - Represents the monthly amount invested by the customer (in USD)\n",
        "\n",
        "- nicht zahlenartige Werte entfernen\n",
        "- leere Werte etc. mit NaN ersetzten\n",
        "- Wert numerisch umwandeln\n",
        "- negative Werte postitiv machen\n",
        "- NaN mit 0 setzen"
      ]
    },
    {
      "cell_type": "code",
      "execution_count": 110,
      "id": "f00c33f8",
      "metadata": {},
      "outputs": [
        {
          "data": {
            "text/plain": [
              "4479"
            ]
          },
          "execution_count": 110,
          "metadata": {},
          "output_type": "execute_result"
        }
      ],
      "source": [
        "train_df['Amount_invested_monthly'].isna().sum()"
      ]
    },
    {
      "cell_type": "code",
      "execution_count": 111,
      "id": "988f346b",
      "metadata": {},
      "outputs": [],
      "source": [
        "train_df['Amount_invested_monthly'] = (\n",
        "    train_df['Amount_invested_monthly']\n",
        "    .astype(str)\n",
        "    .str.replace(r'[^0-9\\-\\.]', '', regex=True)       # Nur Ziffern, Minus und Punkt behalten\n",
        "    .replace({'': np.nan, '-': np.nan, '.': np.nan})  # Leere oder Platzhalter → NaN\n",
        "    .pipe(pd.to_numeric, errors='coerce')             # In numerisch konvertieren\n",
        "    .abs()                                   # Negative Werte auf 0 setzen\n",
        "    .fillna(0)             # Fehlende Werte mit Median auffüllen\n",
        ")"
      ]
    },
    {
      "cell_type": "code",
      "execution_count": 112,
      "id": "12021a4d",
      "metadata": {},
      "outputs": [
        {
          "data": {
            "image/png": "[encoded data removed]",
            "text/plain": [
              "<Figure size 640x480 with 1 Axes>"
            ]
          },
          "metadata": {},
          "output_type": "display_data"
        }
      ],
      "source": [
        "sns.boxplot(data=train_df, x=\"Amount_invested_monthly\")\n",
        "plt.ticklabel_format(style='plain', axis='x')\n",
        "plt.title(\"Boxplot monatlicher EMI Zahlung\")\n",
        "plt.xlabel(\"EMI Zahlung\")\n",
        "plt.show()"
      ]
    },
    {
      "cell_type": "code",
      "execution_count": 113,
      "id": "f8cb7e0c",
      "metadata": {},
      "outputs": [
        {
          "data": {
            "application/vnd.microsoft.datawrangler.viewer.v0+json": {
              "columns": [
                {
                  "name": "index",
                  "rawType": "object",
                  "type": "string"
                },
                {
                  "name": "Amount_invested_monthly",
                  "rawType": "float64",
                  "type": "float"
                }
              ],
              "ref": "6e6cbfa4-5747-4a0e-9cbc-f3f43b5c2622",
              "rows": [
                [
                  "count",
                  "100000.0"
                ],
                [
                  "mean",
                  "608.8632702091803"
                ],
                [
                  "std",
                  "2001.3820016725583"
                ],
                [
                  "min",
                  "0.0"
                ],
                [
                  "25%",
                  "67.4317114085257"
                ],
                [
                  "50%",
                  "128.6982391109755"
                ],
                [
                  "75%",
                  "255.0386978409323"
                ],
                [
                  "max",
                  "10000.0"
                ]
              ],
              "shape": {
                "columns": 1,
                "rows": 8
              }
            },
            "text/plain": [
              "count    100000.000000\n",
              "mean        608.863270\n",
              "std        2001.382002\n",
              "min           0.000000\n",
              "25%          67.431711\n",
              "50%         128.698239\n",
              "75%         255.038698\n",
              "max       10000.000000\n",
              "Name: Amount_invested_monthly, dtype: float64"
            ]
          },
          "execution_count": 113,
          "metadata": {},
          "output_type": "execute_result"
        }
      ],
      "source": [
        "train_df['Amount_invested_monthly'].describe()"
      ]
    },
    {
      "cell_type": "markdown",
      "id": "3fc4812c",
      "metadata": {},
      "source": [
        "## Payment_Behaviour - Represents the payment behavior of the customer (in USD)\n",
        "\n",
        "- Ausprägungen besser lesbar machen"
      ]
    },
    {
      "cell_type": "code",
      "execution_count": 114,
      "id": "dfc92622",
      "metadata": {},
      "outputs": [
        {
          "data": {
            "text/plain": [
              "0"
            ]
          },
          "execution_count": 114,
          "metadata": {},
          "output_type": "execute_result"
        }
      ],
      "source": [
        "train_df['Payment_Behaviour'].isna().sum()"
      ]
    },
    {
      "cell_type": "code",
      "execution_count": 115,
      "id": "eb0e35e9",
      "metadata": {},
      "outputs": [
        {
          "data": {
            "application/vnd.microsoft.datawrangler.viewer.v0+json": {
              "columns": [
                {
                  "name": "Payment_Behaviour",
                  "rawType": "object",
                  "type": "string"
                },
                {
                  "name": "count",
                  "rawType": "int64",
                  "type": "integer"
                }
              ],
              "ref": "ab4b53e5-2033-4e8e-930e-17eb8846f905",
              "rows": [
                [
                  "Low_spent_Small_value_payments",
                  "25513"
                ],
                [
                  "High_spent_Medium_value_payments",
                  "17540"
                ],
                [
                  "Low_spent_Medium_value_payments",
                  "13861"
                ],
                [
                  "High_spent_Large_value_payments",
                  "13721"
                ],
                [
                  "High_spent_Small_value_payments",
                  "11340"
                ],
                [
                  "Low_spent_Large_value_payments",
                  "10425"
                ],
                [
                  "!@9#%8",
                  "7600"
                ]
              ],
              "shape": {
                "columns": 1,
                "rows": 7
              }
            },
            "text/plain": [
              "Payment_Behaviour\n",
              "Low_spent_Small_value_payments      25513\n",
              "High_spent_Medium_value_payments    17540\n",
              "Low_spent_Medium_value_payments     13861\n",
              "High_spent_Large_value_payments     13721\n",
              "High_spent_Small_value_payments     11340\n",
              "Low_spent_Large_value_payments      10425\n",
              "!@9#%8                               7600\n",
              "Name: count, dtype: int64"
            ]
          },
          "execution_count": 115,
          "metadata": {},
          "output_type": "execute_result"
        }
      ],
      "source": [
        "train_df['Payment_Behaviour'].value_counts()"
      ]
    },
    {
      "cell_type": "code",
      "execution_count": 116,
      "id": "d98ae733",
      "metadata": {},
      "outputs": [],
      "source": [
        "train_df['Payment_Behaviour'] = (\n",
        "    train_df['Payment_Behaviour']\n",
        "    .replace('!@9#%8', 'Unknown')\n",
        "    .astype(str)\n",
        "    .str.replace('_', ' ', regex=False)\n",
        "    .str.replace(r'\\s+', ' ', regex=True)\n",
        "    .str.strip()\n",
        "    .str.title()\n",
        ")"
      ]
    },
    {
      "cell_type": "code",
      "execution_count": 117,
      "id": "ede8c3f4",
      "metadata": {},
      "outputs": [
        {
          "data": {
            "image/png": "[encoded data removed]",
            "text/plain": [
              "<Figure size 1200x600 with 1 Axes>"
            ]
          },
          "metadata": {},
          "output_type": "display_data"
        }
      ],
      "source": [
        "plt.figure(figsize=(12, 6))\n",
        "\n",
        "ax = sns.countplot(train_df, x=\"Payment_Behaviour\")\n",
        "\n",
        "for container in ax.containers:\n",
        "    ax.bar_label(container, fmt='%d',\n",
        "                label_type='edge',\n",
        "                padding=3)\n",
        "\n",
        "plt.xticks(rotation=45, ha=\"right\")\n",
        "plt.title(\"Zahlungsverhalten\")\n",
        "plt.xlabel(\"Werte\")\n",
        "plt.show()"
      ]
    },
    {
      "cell_type": "markdown",
      "id": "22799b9e",
      "metadata": {},
      "source": [
        "## Monthly_Balance - Represents the monthly balance amount of the customer (in USD)\n",
        "\n",
        "- nicht zahlenartige Werte entfent\n",
        "- leere Werte etc. mit NaN ersetzt\n",
        "- numerisch umwandeln\n",
        "- unrealtischte Werte und leere mit 0 ersetzten"
      ]
    },
    {
      "cell_type": "code",
      "execution_count": 118,
      "id": "bf5443a6",
      "metadata": {},
      "outputs": [
        {
          "data": {
            "text/plain": [
              "1200"
            ]
          },
          "execution_count": 118,
          "metadata": {},
          "output_type": "execute_result"
        }
      ],
      "source": [
        "train_df['Monthly_Balance'].isna().sum()"
      ]
    },
    {
      "cell_type": "code",
      "execution_count": 119,
      "id": "7e89dffe",
      "metadata": {},
      "outputs": [],
      "source": [
        "train_df['Monthly_Balance'] = (\n",
        "    train_df['Monthly_Balance']\n",
        "    .astype(str)\n",
        "    .str.replace(r'[^0-9\\-\\.]', '', regex=True)\n",
        "    .replace({'': np.nan, '-': np.nan, '.': np.nan})\n",
        "    .pipe(pd.to_numeric, errors='coerce')\n",
        "    .where(lambda s: s > -1e6, other=np.nan)\n",
        "    .fillna(0)\n",
        ")"
      ]
    },
    {
      "cell_type": "code",
      "execution_count": 120,
      "id": "1e0376b4",
      "metadata": {},
      "outputs": [
        {
          "data": {
            "image/png": "[encoded data removed]",
            "text/plain": [
              "<Figure size 640x480 with 1 Axes>"
            ]
          },
          "metadata": {},
          "output_type": "display_data"
        }
      ],
      "source": [
        "sns.boxplot(data=train_df, x=\"Monthly_Balance\")\n",
        "plt.ticklabel_format(style='plain', axis='x')\n",
        "plt.title(\"Boxplot monatlicher Kontostand\")\n",
        "plt.xlabel(\"Kontostand\")\n",
        "plt.show()"
      ]
    },
    {
      "cell_type": "code",
      "execution_count": 121,
      "id": "a8d0fe3e",
      "metadata": {},
      "outputs": [
        {
          "data": {
            "application/vnd.microsoft.datawrangler.viewer.v0+json": {
              "columns": [
                {
                  "name": "index",
                  "rawType": "object",
                  "type": "string"
                },
                {
                  "name": "Monthly_Balance",
                  "rawType": "float64",
                  "type": "float"
                }
              ],
              "ref": "bbb786db-56bb-498f-9111-3311b8266454",
              "rows": [
                [
                  "count",
                  "100000.0"
                ],
                [
                  "mean",
                  "397.6844133999593"
                ],
                [
                  "std",
                  "217.13201744289327"
                ],
                [
                  "min",
                  "0.0"
                ],
                [
                  "25%",
                  "267.871374030552"
                ],
                [
                  "50%",
                  "334.806633079737"
                ],
                [
                  "75%",
                  "467.67059708236894"
                ],
                [
                  "max",
                  "1602.0405189622518"
                ]
              ],
              "shape": {
                "columns": 1,
                "rows": 8
              }
            },
            "text/plain": [
              "count    100000.000000\n",
              "mean        397.684413\n",
              "std         217.132017\n",
              "min           0.000000\n",
              "25%         267.871374\n",
              "50%         334.806633\n",
              "75%         467.670597\n",
              "max        1602.040519\n",
              "Name: Monthly_Balance, dtype: float64"
            ]
          },
          "execution_count": 121,
          "metadata": {},
          "output_type": "execute_result"
        }
      ],
      "source": [
        "train_df['Monthly_Balance'].describe()"
      ]
    },
    {
      "cell_type": "markdown",
      "id": "c978b864",
      "metadata": {},
      "source": [
        "## Credit_Score - Represents the bracket of credit score (Poor, Standard, Good)"
      ]
    },
    {
      "cell_type": "code",
      "execution_count": 122,
      "id": "8ebdd8d3",
      "metadata": {},
      "outputs": [],
      "source": [
        "train_df['Credit_Score'] = train_df['Credit_Score'].str.title()"
      ]
    },
    {
      "cell_type": "code",
      "execution_count": 123,
      "id": "d8094ddc",
      "metadata": {},
      "outputs": [
        {
          "data": {
            "application/vnd.microsoft.datawrangler.viewer.v0+json": {
              "columns": [
                {
                  "name": "Credit_Score",
                  "rawType": "object",
                  "type": "string"
                },
                {
                  "name": "count",
                  "rawType": "int64",
                  "type": "integer"
                }
              ],
              "ref": "bb56883e-7200-4bc2-8274-37915f2d82df",
              "rows": [
                [
                  "Standard",
                  "53174"
                ],
                [
                  "Poor",
                  "28998"
                ],
                [
                  "Good",
                  "17828"
                ]
              ],
              "shape": {
                "columns": 1,
                "rows": 3
              }
            },
            "text/plain": [
              "Credit_Score\n",
              "Standard    53174\n",
              "Poor        28998\n",
              "Good        17828\n",
              "Name: count, dtype: int64"
            ]
          },
          "execution_count": 123,
          "metadata": {},
          "output_type": "execute_result"
        }
      ],
      "source": [
        "train_df['Credit_Score'].value_counts()"
      ]
    },
    {
      "cell_type": "markdown",
      "id": "04ac0e6f",
      "metadata": {},
      "source": [
        "### Qualitätscheck nach der Bereinigung\n"
      ]
    },
    {
      "cell_type": "code",
      "execution_count": 124,
      "id": "0ef56c6d",
      "metadata": {},
      "outputs": [
        {
          "data": {
            "application/vnd.microsoft.datawrangler.viewer.v0+json": {
              "columns": [
                {
                  "name": "index",
                  "rawType": "object",
                  "type": "string"
                },
                {
                  "name": "0",
                  "rawType": "int64",
                  "type": "integer"
                }
              ],
              "ref": "f323c62b-5afb-4e02-8ce6-e903111ea063",
              "rows": [
                [
                  "ID",
                  "0"
                ],
                [
                  "Customer_ID",
                  "0"
                ],
                [
                  "Month",
                  "0"
                ],
                [
                  "Name",
                  "0"
                ],
                [
                  "Age",
                  "0"
                ],
                [
                  "SSN",
                  "5572"
                ],
                [
                  "Occupation",
                  "0"
                ],
                [
                  "Annual_Income",
                  "0"
                ],
                [
                  "Monthly_Inhand_Salary",
                  "0"
                ],
                [
                  "Num_Bank_Accounts",
                  "0"
                ],
                [
                  "Num_Credit_Card",
                  "0"
                ],
                [
                  "Interest_Rate",
                  "0"
                ],
                [
                  "Num_of_Loan",
                  "0"
                ],
                [
                  "Type_of_Loan",
                  "11408"
                ],
                [
                  "Delay_from_due_date",
                  "0"
                ],
                [
                  "Num_of_Delayed_Payment",
                  "0"
                ],
                [
                  "Changed_Credit_Limit",
                  "0"
                ],
                [
                  "Num_Credit_Inquiries",
                  "0"
                ],
                [
                  "Credit_Mix",
                  "0"
                ],
                [
                  "Outstanding_Debt",
                  "0"
                ],
                [
                  "Credit_Utilization_Ratio",
                  "0"
                ],
                [
                  "Credit_History_Age",
                  "0"
                ],
                [
                  "Payment_of_Min_Amount",
                  "0"
                ],
                [
                  "Total_EMI_per_month",
                  "0"
                ],
                [
                  "Amount_invested_monthly",
                  "0"
                ],
                [
                  "Payment_Behaviour",
                  "0"
                ],
                [
                  "Monthly_Balance",
                  "0"
                ],
                [
                  "Credit_Score",
                  "0"
                ]
              ],
              "shape": {
                "columns": 1,
                "rows": 28
              }
            },
            "text/plain": [
              "ID                              0\n",
              "Customer_ID                     0\n",
              "Month                           0\n",
              "Name                            0\n",
              "Age                             0\n",
              "SSN                          5572\n",
              "Occupation                      0\n",
              "Annual_Income                   0\n",
              "Monthly_Inhand_Salary           0\n",
              "Num_Bank_Accounts               0\n",
              "Num_Credit_Card                 0\n",
              "Interest_Rate                   0\n",
              "Num_of_Loan                     0\n",
              "Type_of_Loan                11408\n",
              "Delay_from_due_date             0\n",
              "Num_of_Delayed_Payment          0\n",
              "Changed_Credit_Limit            0\n",
              "Num_Credit_Inquiries            0\n",
              "Credit_Mix                      0\n",
              "Outstanding_Debt                0\n",
              "Credit_Utilization_Ratio        0\n",
              "Credit_History_Age              0\n",
              "Payment_of_Min_Amount           0\n",
              "Total_EMI_per_month             0\n",
              "Amount_invested_monthly         0\n",
              "Payment_Behaviour               0\n",
              "Monthly_Balance                 0\n",
              "Credit_Score                    0\n",
              "dtype: int64"
            ]
          },
          "execution_count": 124,
          "metadata": {},
          "output_type": "execute_result"
        }
      ],
      "source": [
        "train_df.isna().sum()"
      ]
    },
    {
      "cell_type": "code",
      "execution_count": 125,
      "id": "af8d8787",
      "metadata": {},
      "outputs": [
        {
          "data": {
            "application/vnd.microsoft.datawrangler.viewer.v0+json": {
              "columns": [
                {
                  "name": "index",
                  "rawType": "object",
                  "type": "string"
                },
                {
                  "name": "0",
                  "rawType": "object",
                  "type": "unknown"
                }
              ],
              "ref": "304c093c-d464-4ab2-b22f-917c69271589",
              "rows": [
                [
                  "ID",
                  "object"
                ],
                [
                  "Customer_ID",
                  "object"
                ],
                [
                  "Month",
                  "object"
                ],
                [
                  "Name",
                  "object"
                ],
                [
                  "Age",
                  "Int64"
                ],
                [
                  "SSN",
                  "object"
                ],
                [
                  "Occupation",
                  "object"
                ],
                [
                  "Annual_Income",
                  "float64"
                ],
                [
                  "Monthly_Inhand_Salary",
                  "float64"
                ],
                [
                  "Num_Bank_Accounts",
                  "Int64"
                ],
                [
                  "Num_Credit_Card",
                  "Int64"
                ],
                [
                  "Interest_Rate",
                  "Int64"
                ],
                [
                  "Num_of_Loan",
                  "Int64"
                ],
                [
                  "Type_of_Loan",
                  "object"
                ],
                [
                  "Delay_from_due_date",
                  "Int64"
                ],
                [
                  "Num_of_Delayed_Payment",
                  "Int64"
                ],
                [
                  "Changed_Credit_Limit",
                  "float64"
                ],
                [
                  "Num_Credit_Inquiries",
                  "Int64"
                ],
                [
                  "Credit_Mix",
                  "object"
                ],
                [
                  "Outstanding_Debt",
                  "float64"
                ],
                [
                  "Credit_Utilization_Ratio",
                  "float64"
                ],
                [
                  "Credit_History_Age",
                  "float64"
                ],
                [
                  "Payment_of_Min_Amount",
                  "object"
                ],
                [
                  "Total_EMI_per_month",
                  "float64"
                ],
                [
                  "Amount_invested_monthly",
                  "float64"
                ],
                [
                  "Payment_Behaviour",
                  "object"
                ],
                [
                  "Monthly_Balance",
                  "float64"
                ],
                [
                  "Credit_Score",
                  "object"
                ]
              ],
              "shape": {
                "columns": 1,
                "rows": 28
              }
            },
            "text/plain": [
              "ID                           object\n",
              "Customer_ID                  object\n",
              "Month                        object\n",
              "Name                         object\n",
              "Age                           Int64\n",
              "SSN                          object\n",
              "Occupation                   object\n",
              "Annual_Income               float64\n",
              "Monthly_Inhand_Salary       float64\n",
              "Num_Bank_Accounts             Int64\n",
              "Num_Credit_Card               Int64\n",
              "Interest_Rate                 Int64\n",
              "Num_of_Loan                   Int64\n",
              "Type_of_Loan                 object\n",
              "Delay_from_due_date           Int64\n",
              "Num_of_Delayed_Payment        Int64\n",
              "Changed_Credit_Limit        float64\n",
              "Num_Credit_Inquiries          Int64\n",
              "Credit_Mix                   object\n",
              "Outstanding_Debt            float64\n",
              "Credit_Utilization_Ratio    float64\n",
              "Credit_History_Age          float64\n",
              "Payment_of_Min_Amount        object\n",
              "Total_EMI_per_month         float64\n",
              "Amount_invested_monthly     float64\n",
              "Payment_Behaviour            object\n",
              "Monthly_Balance             float64\n",
              "Credit_Score                 object\n",
              "dtype: object"
            ]
          },
          "execution_count": 125,
          "metadata": {},
          "output_type": "execute_result"
        }
      ],
      "source": [
        "train_df.dtypes"
      ]
    },
    {
      "cell_type": "markdown",
      "id": "e98c1d88",
      "metadata": {},
      "source": [
        "# 2️⃣ Datenbereinigung - test"
      ]
    },
    {
      "cell_type": "markdown",
      "id": "228fb3e9",
      "metadata": {},
      "source": [
        "## Hilfsfunktion aus train\n",
        "\n",
        "Die vorgenommenen Bereinigungsschritte aus train werden für test angewendet (KI generiert)"
      ]
    },
    {
      "cell_type": "code",
      "execution_count": 126,
      "id": "52db6fb0",
      "metadata": {},
      "outputs": [],
      "source": [
        "def clean_dataframe(df):\n",
        "    df = df.copy()\n",
        "\n",
        "    def _limit_three_digits(series):\n",
        "        series = series.copy()\n",
        "        mask = series >= 100\n",
        "        if mask.any():\n",
        "            series.loc[mask] = (\n",
        "                series.loc[mask]\n",
        "                .astype(str)\n",
        "                .str[:1]\n",
        "                .astype(float)\n",
        "            )\n",
        "        return series\n",
        "\n",
        "    df['ID'] = df['ID'].astype(str).str.strip()\n",
        "    df['Customer_ID'] = df['Customer_ID'].astype(str).str.strip()\n",
        "\n",
        "    df['Name'] = (\n",
        "        df['Name']\n",
        "        .fillna('Unknown')\n",
        "        .astype(str)\n",
        "        .str.strip()\n",
        "        .str.replace(r\"\\s+\", \" \", regex=True)\n",
        "        .str.title()\n",
        "    )\n",
        "\n",
        "    pattern = re.compile(r'^\\d{3}-\\d{2}-\\d{4}$')\n",
        "    df['SSN'] = (\n",
        "        df['SSN']\n",
        "        .astype(str)\n",
        "        .str.strip()\n",
        "    )\n",
        "    df.loc[~df['SSN'].apply(lambda x: bool(pattern.match(x)) if isinstance(x, str) else False), 'SSN'] = pd.NA\n",
        "\n",
        "    df['Month'] = (\n",
        "        df['Month']\n",
        "        .astype(str)\n",
        "        .str.strip()\n",
        "        .str.title()\n",
        "    )\n",
        "\n",
        "    df['Age'] = (\n",
        "        df['Age']\n",
        "        .astype(str)\n",
        "        .str.replace('_', '', regex=False)\n",
        "    )\n",
        "    df['Age'] = pd.to_numeric(df['Age'], errors='coerce').abs()\n",
        "    age_mask = df['Age'] >= 100\n",
        "    if age_mask.any():\n",
        "        df.loc[age_mask, 'Age'] = (\n",
        "            df.loc[age_mask, 'Age'].astype(str).str[:1].astype(float)\n",
        "        )\n",
        "    df['Age'] = (\n",
        "        df['Age']\n",
        "        .clip(lower=16)\n",
        "        .fillna(df['Age'].median())\n",
        "        .round()\n",
        "        .astype('Int64')\n",
        "    )\n",
        "\n",
        "    df['Occupation'] = (\n",
        "        df['Occupation']\n",
        "        .astype(str)\n",
        "        .replace('_______', 'Unknown')\n",
        "        .str.replace('_', ' ', regex=False)\n",
        "        .str.replace(r'\\s+', ' ', regex=True)\n",
        "        .str.strip()\n",
        "        .str.title()\n",
        "    )\n",
        "\n",
        "    df['Annual_Income'] = (\n",
        "        pd.to_numeric(\n",
        "            df['Annual_Income']\n",
        "            .astype(str)\n",
        "            .str.replace(r'[^0-9\\-\\.]', '', regex=True)\n",
        "            .replace({'': np.nan, '-': np.nan, '.': np.nan}),\n",
        "            errors='coerce'\n",
        "        )\n",
        "        .abs()\n",
        "    )\n",
        "    df['Annual_Income'] = df['Annual_Income'].fillna(df['Annual_Income'].median())\n",
        "\n",
        "    df['Monthly_Inhand_Salary'] = df['Monthly_Inhand_Salary'].fillna(df['Annual_Income'] / 12)\n",
        "\n",
        "    df['Num_Bank_Accounts'] = (\n",
        "        df['Num_Bank_Accounts']\n",
        "        .astype(str)\n",
        "        .str.replace(r'[^0-9\\-\\.,]', '', regex=True)\n",
        "        .str.replace(',', '.', regex=False)\n",
        "        .pipe(pd.to_numeric, errors='coerce')\n",
        "        .abs()\n",
        "        .round()\n",
        "    )\n",
        "    df['Num_Bank_Accounts'] = _limit_three_digits(df['Num_Bank_Accounts'])\n",
        "    df['Num_Bank_Accounts'] = df['Num_Bank_Accounts'].round().astype('Int64')\n",
        "\n",
        "    df['Num_Credit_Card'] = (\n",
        "        df['Num_Credit_Card']\n",
        "        .astype(str)\n",
        "        .str.replace(r'[^0-9\\-\\.]', '', regex=True)\n",
        "        .replace({'': np.nan, '-': np.nan, '.': np.nan})\n",
        "        .pipe(pd.to_numeric, errors='coerce')\n",
        "        .abs()\n",
        "        .round()\n",
        "    )\n",
        "    df['Num_Credit_Card'] = df['Num_Credit_Card'].fillna(df['Num_Credit_Card'].median())\n",
        "    df['Num_Credit_Card'] = _limit_three_digits(df['Num_Credit_Card'])\n",
        "    df['Num_Credit_Card'] = df['Num_Credit_Card'].round().astype('Int64')\n",
        "\n",
        "    df['Interest_Rate'] = (\n",
        "        df['Interest_Rate']\n",
        "        .astype(str)\n",
        "        .str.replace(r'[^0-9\\-\\.]', '', regex=True)\n",
        "        .replace({'': np.nan, '-': np.nan, '.': np.nan})\n",
        "        .pipe(pd.to_numeric, errors='coerce')\n",
        "        .abs()\n",
        "        .round()\n",
        "    )\n",
        "    df['Interest_Rate'] = df['Interest_Rate'].fillna(df['Interest_Rate'].median())\n",
        "    df['Interest_Rate'] = _limit_three_digits(df['Interest_Rate'])\n",
        "    df['Interest_Rate'] = df['Interest_Rate'].round().astype('Int64')\n",
        "\n",
        "    df['Num_of_Loan'] = (\n",
        "        df['Num_of_Loan']\n",
        "        .astype(str)\n",
        "        .str.replace(r'[^0-9\\-\\.]', '', regex=True)\n",
        "        .replace({'': np.nan, '-': np.nan, '.': np.nan})\n",
        "        .pipe(pd.to_numeric, errors='coerce')\n",
        "        .abs()\n",
        "        .round()\n",
        "    )\n",
        "    df['Num_of_Loan'] = df['Num_of_Loan'].fillna(df['Num_of_Loan'].median())\n",
        "    df['Num_of_Loan'] = _limit_three_digits(df['Num_of_Loan'])\n",
        "    df['Num_of_Loan'] = df['Num_of_Loan'].round().astype('Int64')\n",
        "\n",
        "    delay_from_due_date = pd.to_numeric(df['Delay_from_due_date'], errors='coerce')\n",
        "    delay_from_due_date = delay_from_due_date.fillna(delay_from_due_date.median())\n",
        "    df['Delay_from_due_date'] = delay_from_due_date.abs().round().astype('Int64')\n",
        "\n",
        "    df['Num_of_Delayed_Payment'] = (\n",
        "        df['Num_of_Delayed_Payment']\n",
        "        .astype(str)\n",
        "        .str.replace(r'[^0-9\\-\\.]', '', regex=True)\n",
        "        .replace({'': np.nan, '-': np.nan, '.': np.nan})\n",
        "        .pipe(pd.to_numeric, errors='coerce')\n",
        "    )\n",
        "    df['Num_of_Delayed_Payment'] = df['Num_of_Delayed_Payment'].fillna(df['Num_of_Delayed_Payment'].median())\n",
        "    df['Num_of_Delayed_Payment'] = df['Num_of_Delayed_Payment'].abs().round()\n",
        "    df['Num_of_Delayed_Payment'] = _limit_three_digits(df['Num_of_Delayed_Payment'])\n",
        "    df['Num_of_Delayed_Payment'] = df['Num_of_Delayed_Payment'].round().astype('Int64')\n",
        "\n",
        "    df['Changed_Credit_Limit'] = (\n",
        "        df['Changed_Credit_Limit']\n",
        "        .astype(str)\n",
        "        .str.replace(r'[^0-9\\-\\.]', '', regex=True)\n",
        "        .replace({'': np.nan, '-': np.nan, '.': np.nan})\n",
        "        .pipe(pd.to_numeric, errors='coerce')\n",
        "        .fillna(0)\n",
        "    )\n",
        "\n",
        "    df['Num_Credit_Inquiries'] = (\n",
        "        df['Num_Credit_Inquiries']\n",
        "        .astype(str)\n",
        "        .str.replace(r'[^0-9\\-\\.]', '', regex=True)\n",
        "        .replace({'': np.nan, '-': np.nan, '.': np.nan})\n",
        "        .pipe(pd.to_numeric, errors='coerce')\n",
        "    )\n",
        "    df['Num_Credit_Inquiries'] = df['Num_Credit_Inquiries'].fillna(df['Num_Credit_Inquiries'].median())\n",
        "    df['Num_Credit_Inquiries'] = df['Num_Credit_Inquiries'].abs().round()\n",
        "    df['Num_Credit_Inquiries'] = _limit_three_digits(df['Num_Credit_Inquiries'])\n",
        "    df['Num_Credit_Inquiries'] = df['Num_Credit_Inquiries'].round().astype('Int64')\n",
        "\n",
        "    df['Credit_Mix'] = (\n",
        "        df['Credit_Mix']\n",
        "        .replace('_', 'Unknown')\n",
        "        .astype(str)\n",
        "        .str.title()\n",
        "    )\n",
        "\n",
        "    df['Outstanding_Debt'] = (\n",
        "        df['Outstanding_Debt']\n",
        "        .astype(str)\n",
        "        .str.replace(r'[^0-9\\-\\.]', '', regex=True)\n",
        "        .replace({'': np.nan, '-': np.nan, '.': np.nan})\n",
        "        .pipe(pd.to_numeric, errors='coerce')\n",
        "    )\n",
        "    df['Outstanding_Debt'] = df['Outstanding_Debt'].fillna(df['Outstanding_Debt'].median())\n",
        "    df['Outstanding_Debt'] = df['Outstanding_Debt'].abs()\n",
        "\n",
        "    df['Credit_Utilization_Ratio'] = pd.to_numeric(df['Credit_Utilization_Ratio'], errors='coerce')\n",
        "\n",
        "    credit_history = df['Credit_History_Age'].astype(str)\n",
        "    years = pd.to_numeric(credit_history.str.extract(r'(\\d+)\\s*Years', expand=False), errors='coerce')\n",
        "    months = pd.to_numeric(credit_history.str.extract(r'(\\d+)\\s*Months', expand=False), errors='coerce')\n",
        "    df['Credit_History_Age'] = (\n",
        "        ((years.fillna(0) * 12) + months.fillna(0)) / 12\n",
        "    ).fillna(0).astype(float).round(1)\n",
        "\n",
        "    df['Payment_of_Min_Amount'] = (\n",
        "        df['Payment_of_Min_Amount']\n",
        "        .replace('NM', 'Unknown')\n",
        "        .astype(str)\n",
        "        .str.title()\n",
        "    )\n",
        "\n",
        "    df['Total_EMI_per_month'] = (\n",
        "        df['Total_EMI_per_month']\n",
        "        .pipe(pd.to_numeric, errors='coerce')\n",
        "        .round(1)\n",
        "        .abs()\n",
        "    )\n",
        "    df['Total_EMI_per_month'] = df['Total_EMI_per_month'].apply(\n",
        "        lambda x: (\n",
        "            x / 100 if (pd.notna(x) and len(str(int(x))) == 5)\n",
        "            else x / 10 if (pd.notna(x) and len(str(int(x))) == 4)\n",
        "            else x\n",
        "        )\n",
        "    )\n",
        "\n",
        "    df['Amount_invested_monthly'] = (\n",
        "        df['Amount_invested_monthly']\n",
        "        .astype(str)\n",
        "        .str.replace(r'[^0-9\\-\\.]', '', regex=True)\n",
        "        .replace({'': np.nan, '-': np.nan, '.': np.nan})\n",
        "        .pipe(pd.to_numeric, errors='coerce')\n",
        "        .abs()\n",
        "        .fillna(0)\n",
        "    )\n",
        "\n",
        "    df['Payment_Behaviour'] = (\n",
        "        df['Payment_Behaviour']\n",
        "        .replace('!@9#%8', 'Unknown')\n",
        "        .astype(str)\n",
        "        .str.replace('_', ' ', regex=False)\n",
        "        .str.replace(r'\\s+', ' ', regex=True)\n",
        "        .str.strip()\n",
        "        .str.title()\n",
        "    )\n",
        "\n",
        "    df['Monthly_Balance'] = (\n",
        "        df['Monthly_Balance']\n",
        "        .astype(str)\n",
        "        .str.replace(r'[^0-9\\-\\.]', '', regex=True)\n",
        "        .replace({'': np.nan, '-': np.nan, '.': np.nan})\n",
        "        .pipe(pd.to_numeric, errors='coerce')\n",
        "    )\n",
        "    df['Monthly_Balance'] = df['Monthly_Balance'].where(df['Monthly_Balance'] > -1e6, np.nan).fillna(0)\n",
        "\n",
        "    if 'Credit_Score' in df.columns:\n",
        "        df['Credit_Score'] = df['Credit_Score'].astype(str).str.title()\n",
        "\n",
        "    return df\n"
      ]
    },
    {
      "cell_type": "markdown",
      "id": "91911a59",
      "metadata": {},
      "source": [
        "## Überprüfung"
      ]
    },
    {
      "cell_type": "code",
      "execution_count": 127,
      "id": "69e6b509",
      "metadata": {},
      "outputs": [
        {
          "name": "stdout",
          "output_type": "stream",
          "text": [
            "<class 'pandas.core.frame.DataFrame'>\n",
            "RangeIndex: 50000 entries, 0 to 49999\n",
            "Data columns (total 27 columns):\n",
            " #   Column                    Non-Null Count  Dtype  \n",
            "---  ------                    --------------  -----  \n",
            " 0   ID                        50000 non-null  object \n",
            " 1   Customer_ID               50000 non-null  object \n",
            " 2   Month                     50000 non-null  object \n",
            " 3   Name                      50000 non-null  object \n",
            " 4   Age                       50000 non-null  Int64  \n",
            " 5   SSN                       47172 non-null  object \n",
            " 6   Occupation                50000 non-null  object \n",
            " 7   Annual_Income             50000 non-null  float64\n",
            " 8   Monthly_Inhand_Salary     50000 non-null  float64\n",
            " 9   Num_Bank_Accounts         50000 non-null  Int64  \n",
            " 10  Num_Credit_Card           50000 non-null  Int64  \n",
            " 11  Interest_Rate             50000 non-null  Int64  \n",
            " 12  Num_of_Loan               50000 non-null  Int64  \n",
            " 13  Type_of_Loan              44296 non-null  object \n",
            " 14  Delay_from_due_date       50000 non-null  Int64  \n",
            " 15  Num_of_Delayed_Payment    50000 non-null  Int64  \n",
            " 16  Changed_Credit_Limit      50000 non-null  float64\n",
            " 17  Num_Credit_Inquiries      50000 non-null  Int64  \n",
            " 18  Credit_Mix                50000 non-null  object \n",
            " 19  Outstanding_Debt          50000 non-null  float64\n",
            " 20  Credit_Utilization_Ratio  50000 non-null  float64\n",
            " 21  Credit_History_Age        50000 non-null  float64\n",
            " 22  Payment_of_Min_Amount     50000 non-null  object \n",
            " 23  Total_EMI_per_month       50000 non-null  float64\n",
            " 24  Amount_invested_monthly   50000 non-null  float64\n",
            " 25  Payment_Behaviour         50000 non-null  object \n",
            " 26  Monthly_Balance           50000 non-null  float64\n",
            "dtypes: Int64(8), float64(9), object(10)\n",
            "memory usage: 10.7+ MB\n"
          ]
        }
      ],
      "source": [
        "test_df = clean_dataframe(test_df)\n",
        "test_df.info()"
      ]
    },
    {
      "cell_type": "markdown",
      "id": "8eed09ed",
      "metadata": {},
      "source": [
        "# 3️⃣ Export"
      ]
    },
    {
      "cell_type": "code",
      "execution_count": 128,
      "id": "746cf869",
      "metadata": {},
      "outputs": [],
      "source": [
        "train_df.to_csv(\"../data/train_cleaned.csv\", index=False)\n",
        "test_df.to_csv(\"../data/test_cleaned.csv\", index = False)"
      ]
    }
  ],
  "metadata": {
    "kernelspec": {
      "display_name": "MALE01",
      "language": "python",
      "name": "python3"
    },
    "language_info": {
      "codemirror_mode": {
        "name": "ipython",
        "version": 3
      },
      "file_extension": ".py",
      "mimetype": "text/x-python",
      "name": "python",
      "nbconvert_exporter": "python",
      "pygments_lexer": "ipython3",
      "version": "3.13.2"
    }
  },
  "nbformat": 4,
  "nbformat_minor": 5
}
