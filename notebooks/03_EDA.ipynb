{
 "cells": [
  {
   "cell_type": "markdown",
   "id": "ffd84557",
   "metadata": {},
   "source": [
    "- annual income - AUSREIßER behandeln\n",
    "- monthly inhand salery - AUSREIßER behandeln"
   ]
  },
  {
   "cell_type": "markdown",
   "id": "15a4b55e",
   "metadata": {},
   "source": []
  }
 ],
 "metadata": {
  "language_info": {
   "name": "python"
  }
 },
 "nbformat": 4,
 "nbformat_minor": 5
}
